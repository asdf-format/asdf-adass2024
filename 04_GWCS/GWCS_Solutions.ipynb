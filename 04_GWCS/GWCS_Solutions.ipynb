{
 "cells": [
  {
   "cell_type": "markdown",
   "id": "23965ee9-4b58-454b-b42e-a37873e85f17",
   "metadata": {},
   "source": [
    "### Exercise: Add polynomial distortion to the imaging example\n",
    "\n",
    "In this exercise we'll add polynomial distortion in `x` and `y`.\n",
    "\n",
    "#### Directions\n",
    "\n",
    "##### A 2D polynomial model is instantiated using\n",
    "  \n",
    "  \n",
    "    from astropy.modeling import models\n",
    "    p = models.Polynomial2D(degree=1, c0_0=.3)\n",
    "  \n",
    "To see the parameter names execute\n",
    "\n",
    "    models.Polynomial2D(degree=1).param_names\n",
    "\n",
    "  \n",
    "Generate 2 polynomials in `x` and `y`  to correct the distortion on each axis: `px` and `py`.\n",
    "  \n",
    "##### Generate a combine model using\n",
    "  \n",
    "\n",
    "    distortion = models.Mapping((0, 1, 0, 1) | px & py\n",
    "\n",
    "  \n",
    "##### Folowing the imaging example above add this to the WCS pipeline as a first step, creating an intermediate frame of \"undistorted coordinates\"\n",
    "\n",
    "  \n",
    "    from gwcs import coordinate_frames as cf\n",
    "      \n",
    "    undistorted = cf.Frame2D(name='undistorted', unit=(u.pix, u.pix))\n",
    "  \n",
    "  "
   ]
  },
  {
   "cell_type": "code",
   "execution_count": null,
   "id": "fc548845-cfd7-44e8-9d3c-bf2e6109ee50",
   "metadata": {},
   "outputs": [],
   "source": [
    "from astropy.modeling import models\n",
    "from astropy import units as u\n",
    "from astropy import coordinates as coord\n",
    "\n",
    "import asdf\n",
    "from gwcs import wcs, coordinate_frames as cf"
   ]
  },
  {
   "cell_type": "code",
   "execution_count": null,
   "id": "d196b017-6dde-45e1-a6aa-f0206958f0a5",
   "metadata": {},
   "outputs": [],
   "source": [
    "# Check the names of the parameters\n",
    "models.Polynomial2D(degree=1).param_names"
   ]
  },
  {
   "cell_type": "code",
   "execution_count": null,
   "id": "b004cb69-2d49-4174-9b46-5b2ac2dfb0ed",
   "metadata": {},
   "outputs": [],
   "source": [
    "px = models.Polynomial2D(1, c0_0=-1, c1_0=1, c0_1=1)\n",
    "py = models.Polynomial2D(1, c0_0=-2, c1_0=1, c0_1=1)\n",
    "\n",
    "distortion = models.Mapping((0, 1, 0, 1)) | px & py"
   ]
  },
  {
   "cell_type": "code",
   "execution_count": null,
   "id": "b2ed9d6a-9fcd-47d6-a2c9-d80177e24dea",
   "metadata": {},
   "outputs": [],
   "source": [
    "print(distortion(1,1))"
   ]
  },
  {
   "cell_type": "code",
   "execution_count": null,
   "id": "a9730da2-01f7-4cc1-85bc-9999364ed01b",
   "metadata": {},
   "outputs": [],
   "source": [
    "undistorted = cf.Frame2D(name='undistorted', unit=(u.pix, u.pix))"
   ]
  },
  {
   "cell_type": "markdown",
   "id": "efc3abfd-c464-43a5-a62f-cbd5a707fac5",
   "metadata": {},
   "source": [
    "There are two ways we can complete the exercise:\n",
    "- generate a new WCS object and include the new intermediate frame in it\n",
    "- use the existing WCS object and insert a new intermediate frame\n",
    "\n",
    "We'll do both as an exercise, starting with the second one.\n",
    "\n",
    "First, let's read in the file with the WCS wwe saved before in the tutorial notebook."
   ]
  },
  {
   "cell_type": "code",
   "execution_count": null,
   "id": "a1f2f597-c430-42ee-9899-9d57781aae17",
   "metadata": {},
   "outputs": [],
   "source": [
    "with asdf.open('wcs.asdf') as af:\n",
    "    wcsobj = af['wcs']\n",
    "\n",
    "print(wcsobj)"
   ]
  },
  {
   "cell_type": "code",
   "execution_count": null,
   "id": "fe2c7e21-6a72-459a-8845-5f573afce445",
   "metadata": {},
   "outputs": [],
   "source": [
    "wcsobj.pipeline"
   ]
  },
  {
   "cell_type": "markdown",
   "id": "8844d82f-8e3f-4b02-8963-b0bb6e94ce4e",
   "metadata": {},
   "source": [
    "Instead of generating a new WCS object we can insert the frame into the old one. One of the advantages of GWCS is its flexibility. A WCS pipeline can be tweaked or adjusted after its generated."
   ]
  },
  {
   "cell_type": "code",
   "execution_count": null,
   "id": "bf7a0677-e2b3-4976-b327-e24186e6a230",
   "metadata": {},
   "outputs": [],
   "source": [
    "wcsobj.insert_frame?"
   ]
  },
  {
   "cell_type": "code",
   "execution_count": null,
   "id": "b9dfc8cb-dc74-46a1-bc42-611e641e1be2",
   "metadata": {},
   "outputs": [],
   "source": [
    "wcsobj.insert_frame(wcsobj.detector, distortion, undistorted)"
   ]
  },
  {
   "cell_type": "code",
   "execution_count": null,
   "id": "f91e5ed0-8049-4544-82b4-6f8ae3d1708e",
   "metadata": {},
   "outputs": [],
   "source": [
    "print(wcsobj)"
   ]
  },
  {
   "cell_type": "code",
   "execution_count": null,
   "id": "b466b190-e9f9-427c-89a5-1f4794f5a5bc",
   "metadata": {},
   "outputs": [],
   "source": [
    "wcsobj(1,1)"
   ]
  },
  {
   "cell_type": "markdown",
   "id": "0761325c-9573-4a95-8690-725d19b252b1",
   "metadata": {},
   "source": [
    "Above the distortion model doesn't have a name and it reuses the name of the model class, in this case `CompoundModel`. To be more user friendly a name can be assigned."
   ]
  },
  {
   "cell_type": "code",
   "execution_count": null,
   "id": "7b486319-ee21-4139-9102-b9a2b46c26db",
   "metadata": {},
   "outputs": [],
   "source": [
    "wcsobj.get_transform('detector', 'undistorted').name = 'distortion'\n",
    "print(wcsobj)"
   ]
  },
  {
   "cell_type": "markdown",
   "id": "6a025e27-9eee-47fa-8a6a-361e5df24f0c",
   "metadata": {},
   "source": [
    "Now save this object to a file and read it back in to show all changes we made were serialized and deserialized correctly."
   ]
  },
  {
   "cell_type": "code",
   "execution_count": null,
   "id": "57207084-de76-4370-bcff-071e316bfb31",
   "metadata": {},
   "outputs": [],
   "source": [
    "af = asdf.AsdfFile(tree={'wcs': wcsobj})\n",
    "af.write_to('wcsnew.asdf')"
   ]
  },
  {
   "cell_type": "code",
   "execution_count": null,
   "id": "a229f769-68a2-4ed4-a534-b152c335e2bc",
   "metadata": {},
   "outputs": [],
   "source": [
    "with asdf.open('wcsnew.asdf') as af:\n",
    "    w = af['wcs']\n",
    "    \n",
    "    print(f\"ra, dec = {w(1, 1)} \\n\")\n",
    "\n",
    "    print(w)"
   ]
  },
  {
   "cell_type": "code",
   "execution_count": null,
   "id": "fea4cb3c-33b2-4098-9aa0-7811d11d5cbf",
   "metadata": {},
   "outputs": [],
   "source": []
  },
  {
   "cell_type": "markdown",
   "id": "67312a9c-b78c-48bb-8702-5fd8850349f3",
   "metadata": {},
   "source": [
    "#### Exercise 2: Generate high level objects and transform to different coordinate systems\n",
    "\n",
    "The common WCS API methods do not accept keyword arguments. In order to generate high level objects we will fix the spectral order.\n",
    "\n",
    "- Generate a WCS object for the same object and fix the spectral order to -1, save it to a file.\n",
    "- Call the high level \"pixel_to_world\" method and inspect the output\n",
    "- Transform the sky object to galactic coordinates\n",
    "- Transform the spectral coordinate to Angstroms"
   ]
  },
  {
   "cell_type": "code",
   "execution_count": null,
   "id": "6a6bf7f9-ed42-41da-baa8-835736b4cc23",
   "metadata": {},
   "outputs": [],
   "source": [
    "# open the file with the grism observation\n",
    "with asdf.open('../data/grism.asdf') as agrism:\n",
    "    wgrism = agrism['meta']['wcs']"
   ]
  },
  {
   "cell_type": "code",
   "execution_count": null,
   "id": "dc9b3447-5e0b-444f-85f3-cb5723f1a33f",
   "metadata": {},
   "outputs": [],
   "source": [
    "# fix the coordinates of the object to x0=677 and y0=1042, and the spectral order to -1.\n",
    "\n",
    "wcs541_n1 = wgrism.fix_inputs({2:677, 3:1042, 4:-1})\n",
    "\n",
    "af = asdf.AsdfFile(tree={'wcs': wcs541_n1}) \n",
    "af.write_to('wcs541_n1.asdf')"
   ]
  },
  {
   "cell_type": "code",
   "execution_count": null,
   "id": "d6848625-9ea8-45a6-aa0f-576846b7b442",
   "metadata": {},
   "outputs": [],
   "source": [
    "wcs541_n1.pixel_to_world(680, 1616)"
   ]
  },
  {
   "cell_type": "code",
   "execution_count": null,
   "id": "1f0850fd-bbc1-4f47-bc59-23ce7b299b13",
   "metadata": {},
   "outputs": [],
   "source": [
    "sky, spec = wcs541_n1.pixel_to_world(680, 1616)\n",
    "print(f\"Celestial coordinate in ICRS {sky}\")\n",
    "print(f\"Celestial coordinate in Galactic {sky.galactic}\")"
   ]
  },
  {
   "cell_type": "code",
   "execution_count": null,
   "id": "83fc41c3-af53-4179-8ce1-20c3847aa4a0",
   "metadata": {},
   "outputs": [],
   "source": [
    "print(spec.Angstrom)"
   ]
  },
  {
   "cell_type": "code",
   "execution_count": null,
   "id": "b36550c4-73ca-4e87-a04d-1d8e7148b0f1",
   "metadata": {},
   "outputs": [],
   "source": []
  }
 ],
 "metadata": {
  "kernelspec": {
   "display_name": "Python 3 (ipykernel)",
   "language": "python",
   "name": "python3"
  },
  "language_info": {
   "codemirror_mode": {
    "name": "ipython",
    "version": 3
   },
   "file_extension": ".py",
   "mimetype": "text/x-python",
   "name": "python",
   "nbconvert_exporter": "python",
   "pygments_lexer": "ipython3",
   "version": "3.11.0"
  }
 },
 "nbformat": 4,
 "nbformat_minor": 5
}
