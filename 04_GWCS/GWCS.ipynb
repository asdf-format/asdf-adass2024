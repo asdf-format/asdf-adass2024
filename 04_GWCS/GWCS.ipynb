{
 "cells": [
  {
   "cell_type": "markdown",
   "id": "ad67badd-53d8-4b93-be4d-848a75f6052d",
   "metadata": {},
   "source": [
    "Generalized World Coordinate System (GWCS)\n",
    "==========================================\n",
    "\n",
    "\n",
    "This section highlights one of the most powerful capabilities of ASDF; namely\n",
    "its ability to save arbitrarily complex coordinate transformations with great \n",
    "flexibility. This is accomplished through an extension which serializes \n",
    "[GWCS](https://gwcs.readthedocs.io/en/latest/) objects. This notebook will show\n",
    "the ability to:\n",
    "\n",
    "- combine transformations in series or using arithmetic operators\n",
    "- WCS for an arbitrary number of dimensions\n",
    "- define intermediate coordinates (e.g., the slit plane of a spectrograph)\n",
    "- parameterize transformations using the parameters as extra dimensions\n",
    "  (e.g., spectral order, position across a slit, date, etc.)\n",
    "\n",
    "Contrast this with the FITS WCS system, which works well in imaging and spectra\n",
    "for standard projections and dispersions, but poorly when dealing with raw data\n",
    "cointaining complex distortions, or discontinuous transforms (e.g., IFUs), and \n",
    "particularly for slitless spectroscopy.\n",
    "\n",
    "For HST, to achieve sub 0.01 pixel accuracy, 3 different distortion components \n",
    "had to be modeled, which were impossible to represent within the FITS WCS \n",
    "framework.\n",
    "\n",
    "We are not able to convey the full capabilities in a few minutes of a tutorial.\n",
    "This tutorial will illustrate some basics with an imaging example.\n",
    "\n",
    "### Imaging example\n",
    "\n",
    "We will start with a simple projection and then augment with a distortion model.\n",
    "\n",
    "The simple projection replicates the basic FITS capabilities using a tangent\n",
    "projection followed by the appropriate transformation to celestial coordinates.\n",
    "\n",
    "This involves identifying the point in the detector array that will be the tangent\n",
    "point, applying the appropriate offset and scaling before applying the tangent\n",
    "projection, and then transforming the resulting angular coordinates to celestial\n",
    "coordinates. Schematically:\n",
    "\n",
    "- Offset detector coordinates to make tangent point in detector have 0, 0 coordinates\n",
    "- Scale resulting array coordinates to corresponding angular scale.\n",
    "- Rotate detector coordinates so that north is up\n",
    "- Apply inverse tangent projection.\n",
    "- Transform resulting spherical coordinates to corresponding reference point\n",
    "  in the celestial coordinate system with the appropriate position angle.\n",
    "\n",
    "These operations are performed using astropy modeling package models."
   ]
  },
  {
   "cell_type": "code",
   "execution_count": null,
   "id": "7e7e4445-c7d4-4b39-93e9-64d887591a96",
   "metadata": {},
   "outputs": [],
   "source": [
    "import asdf\n",
    "import numpy as np\n",
    "from astropy.modeling import models\n",
    "from astropy import coordinates as coord\n",
    "from astropy import units as u\n",
    "\n",
    "from gwcs import wcs\n",
    "from gwcs import coordinate_frames as cf\n",
    "\n",
    "from matplotlib import pyplot as plt\n",
    "%matplotlib widget "
   ]
  },
  {
   "cell_type": "markdown",
   "id": "9b1db73c-3fb5-430a-94b8-fb21f5610ad6",
   "metadata": {},
   "source": [
    "For simplicity we will assume that the detector y-axis is aligned with north, so no \n",
    "rotation of detector coordinates is necessary.\n",
    "First step is to define individual transformation models.\n",
    "We assume the detector array is 2000 x 2000 and the tangent point is at (1000, 1000)."
   ]
  },
  {
   "cell_type": "code",
   "execution_count": null,
   "id": "68aa7c25-5507-4a0b-8f5f-f19e54c75ee7",
   "metadata": {},
   "outputs": [],
   "source": [
    "# The following constructs a 2D model that shifts both input x and y coordinates by 1000\n",
    "shift = models.Shift(-1000) & models.Shift(-1000)\n",
    "\n",
    "# The following constructs a 2D model that scales both input x and y coordinates\n",
    "# such that the center pixel is 0.1 arcsec in size\n",
    "scale = models.Scale(0.1 / 3600.) & models.Scale(0.1 / 3600.)\n",
    "\n",
    "# The following applies an inverse tangent projection\n",
    "tanproj = models.Pix2Sky_TAN()\n",
    "\n",
    "# The following moves the spherical coordinates so that the (0, 0) coordinates are moved\n",
    "# to the supplied RA & Dec coordinates (in degrees), in this case RA = 30, Dec = 45\n",
    "celest_rot = models.RotateNative2Celestial(30., 45., 180.) # last arg is always 180. deg for a gnomonic projection\n",
    "\n",
    "# The following is the net transformation from pixel coordinates to celestial coordinates\n",
    "transform = shift | scale | tanproj | celest_rot\n",
    "transform.name = \"to_sky\""
   ]
  },
  {
   "cell_type": "code",
   "execution_count": null,
   "id": "b135d77b-027c-4e10-a149-2052351f584f",
   "metadata": {},
   "outputs": [],
   "source": [
    "print(transform)"
   ]
  },
  {
   "cell_type": "code",
   "execution_count": null,
   "id": "13d19157-54dc-4b54-9b6c-3d11e6a8e743",
   "metadata": {},
   "outputs": [],
   "source": [
    "# Now we define the frames of reference for the WCS\n",
    "detector_frame = cf.Frame2D(name='detector', axes_names=('x','y'), unit=(u.pix, u.pix))\n",
    "sky_frame = cf.CelestialFrame(reference_frame=coord.ICRS(), unit=(u.deg, u.deg))"
   ]
  },
  {
   "cell_type": "markdown",
   "id": "a20328d7-b890-44c5-ba52-8c80bd841c07",
   "metadata": {},
   "source": [
    "A GWCS pipeline is a list of tuples: (coordinate_frame, transform to next frame). The last transform is `None`."
   ]
  },
  {
   "cell_type": "code",
   "execution_count": null,
   "id": "2990be75-4703-425d-bf62-acd999f80365",
   "metadata": {},
   "outputs": [],
   "source": [
    "wcsobj = wcs.WCS([(detector_frame, transform), \n",
    "                  (sky_frame, None)])"
   ]
  },
  {
   "cell_type": "code",
   "execution_count": null,
   "id": "f98bf7a5-0d10-4ab7-99db-b42104214ac1",
   "metadata": {},
   "outputs": [],
   "source": [
    "print(wcsobj)"
   ]
  },
  {
   "cell_type": "markdown",
   "id": "44e30e2b-5bb0-45bb-b2b5-87d1b108a190",
   "metadata": {},
   "source": [
    "There are several ways to evaluate a GWCS object. The legacy code evaluates the WCS by calling it like a function."
   ]
  },
  {
   "cell_type": "code",
   "execution_count": null,
   "id": "e989db83-de7f-4613-a88c-b23c12538e30",
   "metadata": {},
   "outputs": [],
   "source": [
    "wcsobj(1000, 1000)"
   ]
  },
  {
   "cell_type": "code",
   "execution_count": null,
   "id": "563d0575-583c-4696-bd50-3920cb403df0",
   "metadata": {},
   "outputs": [],
   "source": [
    "wcsobj(1000, 1001)"
   ]
  },
  {
   "cell_type": "code",
   "execution_count": null,
   "id": "c7a10141-c36a-49fe-adde-3c5c8090d3de",
   "metadata": {},
   "outputs": [],
   "source": [
    "1/3600,"
   ]
  },
  {
   "cell_type": "markdown",
   "id": "6f6dda6c-dd5c-42c6-8c8d-cf83df6dd2fa",
   "metadata": {},
   "source": [
    "#### Shared WCS API\n",
    "\n",
    "The Shared WCS API allows applications to work with any WCS library that supports it. The API includes methods returning high level astropy objects or numerical values.\n",
    "\n",
    "- **pixel_to_world**, **world_to_pixel**: work with high level astropy objects\n",
    "- **pixel_to_world_values**, **world_to_pixel_values**: numbers only"
   ]
  },
  {
   "cell_type": "code",
   "execution_count": null,
   "id": "19e41f97-47ef-4281-884a-88488b35be15",
   "metadata": {},
   "outputs": [],
   "source": [
    "sky = wcsobj.pixel_to_world(1000, 1000)\n",
    "print(sky)"
   ]
  },
  {
   "cell_type": "code",
   "execution_count": null,
   "id": "1a1071c2-d4ff-47e6-bfc4-89728563dba4",
   "metadata": {},
   "outputs": [],
   "source": [
    "wcsobj.world_to_pixel(sky)"
   ]
  },
  {
   "cell_type": "code",
   "execution_count": null,
   "id": "06860227-f306-47b0-8b08-9078427eda5e",
   "metadata": {},
   "outputs": [],
   "source": [
    "wcsobj.pixel_to_world_values(1000, 1000)"
   ]
  },
  {
   "cell_type": "code",
   "execution_count": null,
   "id": "68ba3203-8fe5-4ea4-b423-a48c615c2c87",
   "metadata": {},
   "outputs": [],
   "source": [
    "wcsobj(1000, 1000)"
   ]
  },
  {
   "cell_type": "markdown",
   "id": "ab47c83e-a90a-4c4f-92aa-38b3105497c6",
   "metadata": {},
   "source": [
    "Now let's save the WCS object to a file."
   ]
  },
  {
   "cell_type": "code",
   "execution_count": null,
   "id": "de86f548-6e0f-4df6-925c-9a420ff0f150",
   "metadata": {},
   "outputs": [],
   "source": [
    "af = asdf.AsdfFile()\n",
    "af['wcs'] = wcsobj\n",
    "af.write_to('wcs.asdf')\n",
    "af.close()"
   ]
  },
  {
   "cell_type": "markdown",
   "id": "b86ca290-389c-4238-91f3-50e7ce88032c",
   "metadata": {},
   "source": [
    "#### Exercise: Add polynomial distortion to the imaging example\n",
    "\n",
    "In this exercise we'll add polynomial distortion in `x` and `y`.\n",
    "\n",
    "##### Directions\n",
    "\n",
    "##### A 2D polynomial model is instantiated using\n",
    "  \n",
    "  \n",
    "    from astropy.modeling import models\n",
    "    p = models.Polynomial2D(degree=1, c0_0=.3)\n",
    "  \n",
    "To see the parameter names execute\n",
    "\n",
    "    models.Polynomial2D(degree=1).param_names\n",
    "\n",
    "  \n",
    "Generate 2 polynomials in `x` and `y`  to correct the distortion on each axis: `px` and `py`.\n",
    "  \n",
    "##### Generate a combine model using\n",
    "  \n",
    "\n",
    "    distortion = models.Mapping((0, 1, 0, 1) | px & py\n",
    "\n",
    "  \n",
    "##### Folowing the imaging example above add this to the WCS pipeline as a first step, creating an intermediate frame of \"undistorted coordinates\"\n",
    "\n",
    "  \n",
    "    from gwcs import coordinate_frames as cf\n",
    "      \n",
    "    undistorted = cf.Frame2D(name='undistorted', unit=(u.pix, u.pix))\n",
    "  \n",
    "  "
   ]
  },
  {
   "cell_type": "markdown",
   "id": "4dffb5e9-b767-4356-905b-411c8e9d124c",
   "metadata": {},
   "source": [
    "### Slitless spectroscopy example\n",
    "\n",
    "For this example we will use a JWST NIRISS slitless observation. We will not follow the generation of the WCS but show some of its functionality, not available in FITS WCS. \n",
    "\n",
    "The JWST data products are decsribed by data models, built on top of ASDF, as an ASDF extension. These datamodels define custom tags. In order to open the file we need the JWST data models ASDF extension, called `stdatamodels`, installed.\n",
    "\n",
    "This examples shows the following features\n",
    "\n",
    "- Open a catalog of objects represented by an astropy table and saved in an asdf file.\n",
    "- Open and display a grism image\n",
    "- Choose one object from the catalog, find its position in the grism image and evaluate the WCS to compute the wavelength for different spectral orders\n",
    "- Save the WCS for this particular object to a file.\n"
   ]
  },
  {
   "cell_type": "code",
   "execution_count": null,
   "id": "f4ea5fc7-022d-4031-9262-55422caae31b",
   "metadata": {},
   "outputs": [],
   "source": [
    "grism = asdf.open('../data/grism.asdf')"
   ]
  },
  {
   "cell_type": "code",
   "execution_count": null,
   "id": "7314e509-5619-45a0-a2d5-17c341e8d81a",
   "metadata": {},
   "outputs": [],
   "source": [
    "grism.info()"
   ]
  },
  {
   "cell_type": "code",
   "execution_count": null,
   "id": "1e954d45-b947-4835-a095-6200f8d22c26",
   "metadata": {},
   "outputs": [],
   "source": [
    "wgrism = grism['meta']['wcs']\n",
    "grism_data = grism['data']\n"
   ]
  },
  {
   "cell_type": "code",
   "execution_count": null,
   "id": "70aaf1e2-ff03-4fcc-b57b-e49c72464a4d",
   "metadata": {},
   "outputs": [],
   "source": [
    "print(wgrism)"
   ]
  },
  {
   "cell_type": "code",
   "execution_count": null,
   "id": "06dccf29-8b39-4358-ad8f-c354b728d5bb",
   "metadata": {},
   "outputs": [],
   "source": [
    "# Open the catalog\n",
    "with asdf.open('../data/catalog.asdf') as af:\n",
    "    cat = af['catalog']\n",
    "\n",
    "print(cat[:5])"
   ]
  },
  {
   "cell_type": "code",
   "execution_count": null,
   "id": "4053f398-d388-447d-bee3-31b4ede44f48",
   "metadata": {},
   "outputs": [],
   "source": [
    "cat.colnames"
   ]
  },
  {
   "cell_type": "code",
   "execution_count": null,
   "id": "e88fbe2f-66ec-47e0-9fbd-ad96da88a926",
   "metadata": {},
   "outputs": [],
   "source": [
    "# Choose one object in the catalog and match it to its location in the grism image.\n",
    "obj_id = 541\n",
    "obj_row = cat[obj_id]\n"
   ]
  },
  {
   "cell_type": "markdown",
   "id": "450c9901-124f-408d-aa54-88cc353106cd",
   "metadata": {},
   "source": [
    "What inputs and outputs are expected by the WCS pipeline?\n",
    "\n",
    "The inputs are (x, y, x0, y0, order), where (x, y) are the coordinates in the grism image, (x0, y0) are coordinates of the object in the direct image, and the spectral order.\n",
    "\n",
    "The output of the WCS pipeline are RA, DEC, wavelength and the spectral order is returned for reference."
   ]
  },
  {
   "cell_type": "code",
   "execution_count": null,
   "id": "a442df24-f16b-4503-a2ca-f2e69ff6c768",
   "metadata": {},
   "outputs": [],
   "source": [
    "print(f\"Inputs: {wgrism.get_transform('grism_detector', 'detector').inputs}\")\n",
    "print(f\"Outputs: {wgrism.get_transform('v2v3vacorr', 'world').outputs}\")"
   ]
  },
  {
   "cell_type": "markdown",
   "id": "51fa129f-7415-48b8-8a93-6773601b4d23",
   "metadata": {},
   "source": [
    "Next, read the center RA, DEC of the object from the catalog, and use the WCS to find its location in the grism image. We will use the mean of the wavelength range (defined in microns). Plot the grism image and a box around the slit as identified. "
   ]
  },
  {
   "cell_type": "code",
   "execution_count": null,
   "id": "b4fe76c4-4103-4c49-996a-8e5f38600e5f",
   "metadata": {},
   "outputs": [],
   "source": [
    "ra_center, dec_center = obj_row['sky_centroid'].ra.value, obj_row['sky_centroid'].dec.value\n",
    "lmin, lmax = 1.7, 2.28\n",
    "lam = (lmin + lmax) / 2\n",
    "wgrism.invert(ra_center, dec_center, lam, 1)"
   ]
  },
  {
   "cell_type": "code",
   "execution_count": null,
   "id": "848f7b3b-7b3a-49ca-9a96-fec5ef4d8af3",
   "metadata": {},
   "outputs": [],
   "source": [
    "from matplotlib.patches import Rectangle\n",
    "\n",
    "box = Rectangle((660, 750), 35, 150, linewidth=1, edgecolor='r', facecolor='none')\n",
    "fig, ax = plt.subplots()\n",
    "ax.imshow(grism_data, origin='lower', aspect='auto', vmin=-.1, vmax=2.3)\n",
    "ax.add_patch(box)"
   ]
  },
  {
   "cell_type": "code",
   "execution_count": null,
   "id": "788a6563-d029-4bab-bbf0-f4b8c8bd7074",
   "metadata": {},
   "outputs": [],
   "source": [
    "# The \"x0\", \"y0\" inputs refer to the coordinates of the object in the direct image associated with the grism observation.\n",
    "# These are the \"xcentroid\" and \"ycentroid\" quantities in the catalog\n",
    "\n",
    "x0, y0 = obj_row['xcentroid'], obj_row['ycentroid']\n",
    "print(f\"x0 = {x0}, y0 = {y0}\")"
   ]
  },
  {
   "cell_type": "code",
   "execution_count": null,
   "id": "f6aecd4c-4dec-4987-99c0-77a41c865fd9",
   "metadata": {},
   "outputs": [],
   "source": [
    "# We are ready now to evaluate the WCS\n",
    "x, y = 680, 815\n",
    "print(wgrism(x, y, x0, y0, order=1))\n"
   ]
  },
  {
   "cell_type": "markdown",
   "id": "5f6eafe4-0f69-4b26-bde8-2907086c45db",
   "metadata": {},
   "source": [
    "GWCS has a feature which allows inputs to be fixed to a certain value, returning a valid WCS for these specific values.\n",
    "\n",
    "We will extract the WCS for this object and save it to a file for future use by fixing the coordinates of the object in the direct image. Inputs can be fixed by argument name or by position."
   ]
  },
  {
   "cell_type": "code",
   "execution_count": null,
   "id": "2609b1f8-91fc-4caa-b34c-443a603bd29c",
   "metadata": {},
   "outputs": [],
   "source": [
    "w541 = wgrism.fix_inputs({2: x0, 3: y0})"
   ]
  },
  {
   "cell_type": "code",
   "execution_count": null,
   "id": "10b4a249-d71e-4c61-90a2-dba26fa69726",
   "metadata": {},
   "outputs": [],
   "source": [
    "w541(x, y, 1)"
   ]
  },
  {
   "cell_type": "code",
   "execution_count": null,
   "id": "393a4400-ae9f-4385-88ab-956f4b85050d",
   "metadata": {},
   "outputs": [],
   "source": [
    "af = asdf.AsdfFile(tree={'wcs_541': w541})\n",
    "af.write_to('wcs_541.asdf')"
   ]
  },
  {
   "cell_type": "code",
   "execution_count": null,
   "id": "5b7ebad5-4fc4-49e4-88c2-4999cf18b0cf",
   "metadata": {},
   "outputs": [],
   "source": [
    "\n",
    "with asdf.open('wcs_541.asdf') as newaf:\n",
    "    wcs541 = newaf['wcs_541']\n",
    "\n",
    "print(wcs541(x, y, 1))"
   ]
  },
  {
   "cell_type": "markdown",
   "id": "cdab1f1d-0fd7-4994-8514-056767720b47",
   "metadata": {},
   "source": [
    "Important Points\n",
    "----------------\n",
    "\n",
    "- All the defined transforms and GWCS objects (general and source-specific) are easily\n",
    "  serialized to ASDF.\n",
    "- This illustrates that one can define general transforms for all possible source positions\n",
    "  that can be stored in the data file. \n",
    "- When the source positions are identified (perhaps later by more analysis or merging\n",
    "  imaging data) specific transformations can be obtained from the general\n",
    "  transforms easily without repeating a possibly complex general transform (e.g.,\n",
    "  optical distortions can be folded into the tranforms), for each source identified\n",
    "- Instead of using wavelength tables, one for each source identified, a common transform\n",
    "  is available, and may be tweaked in one place (if not the source position) and\n",
    "  automatically applied to all source dispersion transforms.\n",
    "- The wavelength table approach is generated elsewhere; changes require rerunning\n",
    "  the software that generated it whereas it is easy to generate a wavelength table\n",
    "  from the transforms.\n",
    "- The general slitless approach is also suitable for multiple object spectrographs\n",
    "  and IFUs where slits may be located at arbitrary locations in the focal plane, such as\n",
    "  those that use shutters such as the JWST NIRSpec MOS mode or the NIRSpec IFU.\n",
    "- The ability to define transforms that fold in parameters as extra coordinates\n",
    "  that may vary between datasets such as order, temperature, date, etc. allows\n",
    "  use of a single GWCS model that can be applied to all such variations without\n",
    "  the need to store different GWCS models for each data set."
   ]
  },
  {
   "cell_type": "markdown",
   "id": "bc1e2cdd-29ce-4754-a5a9-e5e24f02633d",
   "metadata": {},
   "source": [
    "#### Exercise 2: Generate high level objects and transform to different coordinate systems\n",
    "\n",
    "The common WCS API methods do not accept keyword arguments. In order to generate high level objects we will fix the spectral order.\n",
    "\n",
    "- Generate a WCS object for the same object and fix the spectral order to -1\n",
    "- Call the high level \"pixel_to_world\" method and inspect the output\n",
    "- Transform the sky object to galactic coordinates\n",
    "- Transform the spectral coordinate to Angstroms"
   ]
  },
  {
   "cell_type": "markdown",
   "id": "ded28771-b522-43d6-8cee-09ccfaf2aea4",
   "metadata": {},
   "source": [
    "### Major features we didn't cover\n",
    "\n",
    "- Validation using jsonschema\n",
    "- Versioning\n",
    "- Chunking support using zarr"
   ]
  },
  {
   "cell_type": "code",
   "execution_count": null,
   "id": "a44c451d-588a-4642-937d-2ad4c803b149",
   "metadata": {},
   "outputs": [],
   "source": []
  }
 ],
 "metadata": {
  "kernelspec": {
   "display_name": "Python 3 (ipykernel)",
   "language": "python",
   "name": "python3"
  },
  "language_info": {
   "codemirror_mode": {
    "name": "ipython",
    "version": 3
   },
   "file_extension": ".py",
   "mimetype": "text/x-python",
   "name": "python",
   "nbconvert_exporter": "python",
   "pygments_lexer": "ipython3",
   "version": "3.11.0"
  }
 },
 "nbformat": 4,
 "nbformat_minor": 5
}
