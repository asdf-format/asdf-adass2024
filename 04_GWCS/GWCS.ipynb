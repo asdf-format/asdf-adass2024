{
 "cells": [
  {
   "cell_type": "markdown",
   "id": "ad67badd-53d8-4b93-be4d-848a75f6052d",
   "metadata": {},
   "source": [
    "Generalized World Coordinate System (GWCS)\n",
    "==========================================\n",
    "\n",
    "This section highlights one of the most powerful capabilities of ASDF; namely\n",
    "its ability to save arbitrarily complex coordinate transformations with great \n",
    "flexibility. This includes the ability to:\n",
    "\n",
    "- combine transformations using arithmetic operators\n",
    "- combine transformations in series\n",
    "- for an arbitrary number of dimensions\n",
    "- define intermediate coordinates (e.g., the slit plane of a spectrograph)\n",
    "- parameterize transformations using the parameters as extra dimensions\n",
    "  (e.g., spectral order, position across a slit, date, etc.)\n",
    "\n",
    "Contrast this with the FITS WCS system, which works well in imaging and spectra\n",
    "for standard projections and dispersions, but poorly when dealing with raw data\n",
    "cointaining complex distortions, or discontinuous transforms (e.g., IFUs), and \n",
    "particularly for slitless spectroscopy.\n",
    "\n",
    "For HST, to achieve sub 0.01 pixel accuracy, 3 different distortion components \n",
    "had to be modeled, which were impossible to represent within the FITS WCS \n",
    "framework.\n",
    "\n",
    "We are not able to convey the full capabilities in a few minutes of a tutorial.\n",
    "This tutorial will illustrate some basics with an imaging example.\n",
    "\n",
    "We will start with a simple projection and then augment with a distortion model.\n",
    "\n",
    "The simple projection replicates the basic FITS capabilities using a tangent\n",
    "projection followed by the appropriate transformation to celestial coordinates.\n",
    "\n",
    "This involves identifying the point in the detector array that will be the tangent\n",
    "point, applying the appropriate offset and scaling before applying the tangent\n",
    "projection, and then transforming the resulting angular coordinates to celestial\n",
    "coordinates. Schematically:\n",
    "\n",
    "- Offset detector coordinates to make tangent point in detector have 0, 0 coordinates\n",
    "- Scale resulting array coordinates to corresponding angular scale.\n",
    "- Rotate detector coordinates so that north is up\n",
    "- Apply inverse tangent projection.\n",
    "- Transform resulting spherical coordinates to corresponding reference point\n",
    "  in the celestial coordinate system with the appropriate position angle.\n",
    "\n",
    "These operations are performed using astropy modeling package models."
   ]
  },
  {
   "cell_type": "code",
   "execution_count": null,
   "id": "7e7e4445-c7d4-4b39-93e9-64d887591a96",
   "metadata": {},
   "outputs": [],
   "source": [
    "import numpy as np\n",
    "from astropy.modeling import models\n",
    "from gwcs import wcs\n",
    "from gwcs import spectroscopy\n",
    "from gwcs import coordinate_frames as cf\n",
    "from astropy import coordinates as coord\n",
    "from astropy import units as u"
   ]
  },
  {
   "cell_type": "code",
   "execution_count": null,
   "id": "b54a630f-6117-45b7-8668-f0ccfe9be0e6",
   "metadata": {},
   "outputs": [],
   "source": [
    "# For simplicity we will assume that the detector y-axis is aligned with north, so no \n",
    "# rotation of detector coordinates is necessary.\n",
    "# First step is to defined individual transformation models.\n",
    "# We assume the detector array is 2000 x 2000 and the tangent point is at (1000, 1000)\n",
    "\n",
    "# The following constructs a 2D model that shifts both input x and y coordinates by 1000\n",
    "shift = models.Shift(-1000) & models.Shift(-1000)\n",
    "# The following constructs a 2D model that scales both input x and y coordinates\n",
    "# such that the center pixel is 0.1 arcsec in size\n",
    "scale = models.Scale(0.1 / 3600.) & models.Scale(0.1 / 3600.)\n",
    "# The following applies an inverse tangent projection\n",
    "tanproj = models.Pix2Sky_TAN()\n",
    "# The following moves the spherical coordinates so that the (0, 0) coordinates are moved\n",
    "# to the supplied RA & Dec coordinates (in degrees), in this case RA = 30, Dec = 45\n",
    "celest_rot = models.RotateNative2Celestial(30., 45., 180.) # last arg is always 180.\n",
    "\n",
    "# The following is the net transformation from pixel coordinates to celestial coordinates\n",
    "transform = shift | scale | tanproj | celest_rot"
   ]
  },
  {
   "cell_type": "code",
   "execution_count": null,
   "id": "f9880d7a-94bd-4a28-a097-b7d98618f46d",
   "metadata": {},
   "outputs": [],
   "source": [
    "# Now we define the frames of reference for the WCS\n",
    "detector_frame = cf.Frame2D(name='detector', axes_names=('x','y'), unit=(u.pix, u.pix))\n",
    "sky_frame = cf.CelestialFrame(reference_frame=coord.ICRS(), unit=(u.deg, u.deg))\n",
    "wcsobj = wcs.WCS([(detector_frame, transform), (sky_frame, None)])"
   ]
  },
  {
   "cell_type": "code",
   "execution_count": null,
   "id": "e989db83-de7f-4613-a88c-b23c12538e30",
   "metadata": {},
   "outputs": [],
   "source": [
    "wcsobj(1000, 1000)"
   ]
  },
  {
   "cell_type": "code",
   "execution_count": null,
   "id": "563d0575-583c-4696-bd50-3920cb403df0",
   "metadata": {},
   "outputs": [],
   "source": [
    "wcsobj(1000, 1001)"
   ]
  },
  {
   "cell_type": "code",
   "execution_count": null,
   "id": "c7a10141-c36a-49fe-adde-3c5c8090d3de",
   "metadata": {},
   "outputs": [],
   "source": [
    "1/3600,"
   ]
  },
  {
   "cell_type": "code",
   "execution_count": null,
   "id": "0e082a31-fdfb-4aa4-8d8e-3ef877de600d",
   "metadata": {},
   "outputs": [],
   "source": [
    "wcsobj(1000, 1000 + 36000 * 5)"
   ]
  },
  {
   "cell_type": "markdown",
   "id": "fcd10874-e214-4b68-8e3c-4280bc03af84",
   "metadata": {},
   "source": [
    "Slitless Spectrograph Example\n",
    "-----------------------------\n",
    "\n",
    "We will consider building a WCS for a slitless spectrograph. For simplicity's sake,\n",
    "This will be done as a 1D spectrograph, although the same concepts can be generalized\n",
    "to 2D. This is an interesting case since given a pixel in the detector mapping it to\n",
    "a wavelength is not possible unless the position of the source is known. In other \n",
    "words, one must know either position or wavelength, to determine the other. Generally\n",
    "for the slitless the position is determined by other means in order for the wavelenth\n",
    "to be determined.\n",
    "\n",
    "This WCS will be based on a simple spectrograph design, taken from this \n",
    "[site](http://www.astrosurf.com/buil/us/stage/calcul/design_us.htm), since\n",
    "the relevant design parameters make it simple to generate the WCS.\n",
    "\n",
    "The relevant parameters are:\n",
    "\n",
    "telescope focal length: 1000 mm\n",
    "collimator focal length: 100 mm\n",
    "camera focal length: 50 mm\n",
    "grating density: 600 grooves/mm\n",
    "nominal grating incident angle: 28 degrees\n",
    "\n",
    "The optical axis of the collimator is presumed to correspond to 0 relative\n",
    "angular coordinate from the telescope. Given a relative spatial offset in arcseconds\n",
    "the computed incident grating angle becomes:\n",
    "\n",
    "`incident_grating_angle = (relative_spatial_angle * telescope_focal_length / collimator_focal_length) + design_incident_grating_angle`\n",
    "\n",
    "The grating equation is used to compute the outgoing angle from the grating angle\n",
    "given the incoming angle and wavelength. The GWCS package contains a model that does this\n",
    "in 3D. It is easily used for the 1D case by setting the beta parameter to 0. Specifically\n",
    "\n",
    "`gwcs.spectroscopy.AnglesFromGratingEquation3D(groove_density=grating_density * 1000, spectral_order=1)`\n",
    "\n",
    "Since this class expects groove_density in grooves per meter.\n",
    "\n",
    "It expects `wavelength`, `alpha_in`, `beta_in` as arguments and returns \n",
    "alpha_out, beta_out, and gamma_out. We only care about alpha out in this case,\n",
    "which corresponds to beta in the design on the referenced page.\n",
    "\n",
    "We presume the design beta hits the detector at its reference pixel. \n",
    "We presume a 2000 pixel linear detector array so that the reference pixel is at 1000.\n",
    "So the pixel that the outgoing ray hits is computed by the following:\n",
    "\n",
    "`pixel_coord = (alpha_out - beta) * camera_focal_length / plate_scale + 1000`\n",
    "\n",
    "Now for the actual code, with appropriate handling of the units. We will define \n",
    "different intermediate transforms (great for debugging!)"
   ]
  },
  {
   "cell_type": "code",
   "execution_count": null,
   "id": "c98345ff-cd38-47bd-a873-831309146552",
   "metadata": {},
   "outputs": [],
   "source": [
    "deg2rad = np.pi / 180.\n",
    "TELESCOPE_FOCAL_LENGTH = 1200 # in mm\n",
    "COLLIMATOR_FOCAL_LENGTH = 100 # in mm\n",
    "CAMERA_FOCAL_LENGTH = 50 # in mm\n",
    "GRATING_DENSITY = 600000 # grooves / meter\n",
    "DESIGN_INCIDENT_GRATING_ANGLE = 28 * deg2rad # in radians\n",
    "# DESIGN_REFERENCE_GRATING_EXIT_ANGLE = -7.94 * deg2rad # in radians; web site appears\n",
    "# to have the wrong value\n",
    "# DESIGN_REFERENCE_GRATING_EXIT_ANGLE = -7.99113190973 * deg2rad # in radians\n",
    "# DESIGN_REFERENCE_GRATING_EXIT_ANGLE = -9.092392760682835 * deg2rad\n",
    "DESIGN_REFERENCE_GRATING_EXIT_ANGLE = -8.017269026393847 * deg2rad\n",
    "REFERENCE_PIXEL = 1000\n",
    "REFERENCE_WAVELENGTH = 5500 # in Angstroms\n",
    "PLATE_SCALE = 100 # pixels / mm\n",
    "\n",
    "\n",
    "\n",
    "# The GWCS transform ultimately has two input coordinates: wavelength and relative sky position.\n",
    "# So the first transform has these two coordinates as inputs, but only the sky position is transformed \n",
    "# before the grating. Hence the use of the Identity transform for the wavelength coordinate.\n",
    "# The grating class from GWCS assumes the input angle is actually the sine of the input angle\n",
    "# The transform converts Angstrom, degree inputs to meters, radians\n",
    "pre_grating_transform =  (models.Scale(1e-10) & # Convert Angstroms to meters\n",
    "                          (models.Scale(TELESCOPE_FOCAL_LENGTH / COLLIMATOR_FOCAL_LENGTH * deg2rad) | \n",
    "                          models.Shift(DESIGN_INCIDENT_GRATING_ANGLE))) #| \n",
    "#                          models.math.SinUfunc()))\n",
    "                        \n",
    "# Use the grating equation to define a model that computs the exiting angle given wavelength and\n",
    "# incident angle.\n",
    "grating_transform = (((models.Mapping((0,), 2) | models.Scale(GRATING_DENSITY)) \n",
    "                      - (models.Mapping((1,), 2) | models.math.SinUfunc())) |\n",
    "                      models.math.ArcsinUfunc())\n",
    "\n",
    "# Transform exit angle into pixel coordinates\n",
    "post_grating_transform = (models.Shift(-DESIGN_REFERENCE_GRATING_EXIT_ANGLE) | \n",
    "                          models.Scale(CAMERA_FOCAL_LENGTH * PLATE_SCALE) |\n",
    "                          models.Shift(1000))"
   ]
  },
  {
   "cell_type": "code",
   "execution_count": null,
   "id": "7847e789-90c8-4207-a608-b1f6ff5d6e02",
   "metadata": {},
   "outputs": [],
   "source": [
    "nettrans = pre_grating_transform | grating_transform | post_grating_transform"
   ]
  },
  {
   "cell_type": "code",
   "execution_count": null,
   "id": "8db4909d-b679-479b-a792-a470e9da5396",
   "metadata": {},
   "outputs": [],
   "source": [
    "skywav2pix = wcs.WCS([(\"skywav\", nettrans),\n",
    "                      (\"detector\", None)])"
   ]
  },
  {
   "cell_type": "code",
   "execution_count": null,
   "id": "77cc6c2f-1d3f-4636-9b6a-247d1116ecb1",
   "metadata": {},
   "outputs": [],
   "source": [
    "skywav2pix(REFERENCE_WAVELENGTH, 0)"
   ]
  },
  {
   "cell_type": "code",
   "execution_count": null,
   "id": "019083d0-62a2-443f-bb19-0a7aa4827efe",
   "metadata": {},
   "outputs": [],
   "source": [
    "# Now fix to a position\n",
    "source1_wave2pix = skywav2pix.fix_inputs({1: 0.1})\n",
    "pix = source1_wave2pix(5500)\n",
    "pix"
   ]
  },
  {
   "cell_type": "code",
   "execution_count": null,
   "id": "d78c08fb-16ba-4428-bc79-8910bb311c26",
   "metadata": {},
   "outputs": [],
   "source": [
    "# Derive A related transformation that give wavelength given pixel location\n",
    "# and source position, i.e., effectively an inverse transform.\n",
    "\n",
    "post_grating_transform_inverse = (models.Shift(-1000) | \n",
    "                                  models.Scale(1 / (CAMERA_FOCAL_LENGTH * PLATE_SCALE)) |\n",
    "                                  models.Shift(DESIGN_REFERENCE_GRATING_EXIT_ANGLE))\n",
    "grating_transform_to_wavelength = (((models.Mapping((0,), 2) | models.math.SinUfunc())\n",
    "                  + (models.Mapping((1,), 2) | models.math.SinUfunc())) |\n",
    "                                     models.Scale(1. / GRATING_DENSITY * 1e10)) # Convert wavelengt in meters to Angstroms\n",
    "pre_grating_simple_transform = (models.Scale(TELESCOPE_FOCAL_LENGTH / COLLIMATOR_FOCAL_LENGTH * deg2rad) | \n",
    "                                models.Shift(DESIGN_INCIDENT_GRATING_ANGLE))"
   ]
  },
  {
   "cell_type": "code",
   "execution_count": null,
   "id": "fc0325a8-166b-46ec-bd96-ce493493997e",
   "metadata": {},
   "outputs": [],
   "source": [
    "# Construct transforms and GWCS for a known source position\n",
    "source1_transform = models.fix_inputs(nettrans, {1: 0})"
   ]
  },
  {
   "cell_type": "code",
   "execution_count": null,
   "id": "70043ebd-6aa6-4508-baa6-0a3f67bd4a3f",
   "metadata": {},
   "outputs": [],
   "source": [
    "# Normally we would assign the net inverse transform to a variable, but some odd notebook\n",
    "# interaction prevents this, so the net transform is provided as an expression instead.\n",
    "source1_inverse = models.fix_inputs((post_grating_transform_inverse & pre_grating_simple_transform | \n",
    "                      grating_transform_to_wavelength), {1: 0})"
   ]
  },
  {
   "cell_type": "code",
   "execution_count": null,
   "id": "102c71ec-b9fb-439f-bcd8-22ed104aeca4",
   "metadata": {},
   "outputs": [],
   "source": [
    "source1_inverse(1000)"
   ]
  },
  {
   "cell_type": "code",
   "execution_count": null,
   "id": "46dfae10-ba50-47c5-9784-f5d8cd389ed2",
   "metadata": {},
   "outputs": [],
   "source": [
    "# Construct two different general GWCS models, one for each direction\n",
    "source2pix = wcs.WCS([('source_frame', nettrans),\n",
    "                        ('detector_frame', None)])\n",
    "pix2source = wcs.WCS([('detector_frame', (post_grating_transform_inverse & pre_grating_simple_transform | \n",
    "                      grating_transform_to_wavelength)),\n",
    "                   ('source_frame', None)])"
   ]
  },
  {
   "cell_type": "code",
   "execution_count": null,
   "id": "2401e874-3d50-4fce-b32f-7a21796906d4",
   "metadata": {},
   "outputs": [],
   "source": [
    "source2pix(5500, 0)"
   ]
  },
  {
   "cell_type": "code",
   "execution_count": null,
   "id": "439d9185-40c6-46a1-a177-a032903ddcdf",
   "metadata": {},
   "outputs": [],
   "source": [
    "pix2source(1000, 0)"
   ]
  },
  {
   "cell_type": "code",
   "execution_count": null,
   "id": "1b72b795-7af7-4080-9739-d5276ab66194",
   "metadata": {},
   "outputs": [],
   "source": [
    "source1_wave2pix = source2pix.fix_inputs({1: 0})\n",
    "source1_pix2wave = pix2source.fix_inputs({1: 0})"
   ]
  },
  {
   "cell_type": "code",
   "execution_count": null,
   "id": "dbd036f3-8655-4d22-9702-8f729e5f44ad",
   "metadata": {},
   "outputs": [],
   "source": [
    "source1_wave2pix(5500)"
   ]
  },
  {
   "cell_type": "code",
   "execution_count": null,
   "id": "298ee6b4-26b7-41b7-8eb5-ccd5a7394e51",
   "metadata": {},
   "outputs": [],
   "source": [
    "source1_pix2wave(1000)"
   ]
  },
  {
   "cell_type": "markdown",
   "id": "cdab1f1d-0fd7-4994-8514-056767720b47",
   "metadata": {},
   "source": [
    "Important Points\n",
    "----------------\n",
    "\n",
    "- All the defined transforms and GWCS objects (general and source-specific) are easily\n",
    "  serialized to ASDF.\n",
    "- This illustrates that one can define general transforms for a slitless 1d spectrograph\n",
    "  for all possible source positions can be stored in the data file. \n",
    "- When the source positions are identified (perhapslater by more analysis or merging\n",
    "  imaging data) specific dispersion transformations can be obtained from the general\n",
    "  transforms easily without repeating a possibly complex general transform (e.g.,\n",
    "  optical distortions can be folded into the tranforms), for each source identified\n",
    "- Instead of using wavelength tables, one for each source identified, a common transform\n",
    "  is available, and may be tweaked in one place (if not the source position) and\n",
    "  automatically applied to all source dispersion transforms.\n",
    "- The wavelength table approach is generated elsewhere; changes require rerunning\n",
    "  the software that generated it whereas it is easy to generate a wavelength table\n",
    "  from the transforms.\n",
    "- The 1d example can be generalized to 2D slitless in the same style.\n",
    "- The general slitless approach is also suitable for multiple object spectrographs\n",
    "  where slits may be located at arbitrary locations in the focal plane, such as\n",
    "  those that use shutters such as the JWST NIRSPEC MOS mode.\n",
    "- The ability to define transforms that fold in parameters as extra coordinates\n",
    "  that may vary between datasets such as order, temperature, date, etc. allows\n",
    "  use of a single GWCS model that can be applied to all such variations without\n",
    "  the need to store different GWCS models for each data set."
   ]
  },
  {
   "cell_type": "code",
   "execution_count": null,
   "id": "fdc684d1-4a4d-4768-8ad9-97478da43317",
   "metadata": {},
   "outputs": [],
   "source": []
  },
  {
   "cell_type": "code",
   "execution_count": null,
   "id": "cf13dfea-60b8-4d99-ac87-edaae7ad2b8c",
   "metadata": {},
   "outputs": [],
   "source": []
  }
 ],
 "metadata": {
  "kernelspec": {
   "display_name": "Python 3 (ipykernel)",
   "language": "python",
   "name": "python3"
  },
  "language_info": {
   "codemirror_mode": {
    "name": "ipython",
    "version": 3
   },
   "file_extension": ".py",
   "mimetype": "text/x-python",
   "name": "python",
   "nbconvert_exporter": "python",
   "pygments_lexer": "ipython3",
   "version": "3.11.7"
  }
 },
 "nbformat": 4,
 "nbformat_minor": 5
}
