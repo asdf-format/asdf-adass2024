{
 "cells": [
  {
   "cell_type": "markdown",
   "id": "e92fc203-b2b0-4297-bba8-7a07b0921999",
   "metadata": {},
   "source": [
    "Goals:\n",
    "======\n",
    "\n",
    "- Read an ASDF file\n",
    "- Use tools for looking at the file and searching for attributes\n",
    "- Display an image contained in the file\n",
    "- Access and modify metadata\n",
    "- Write the file to disk\n",
    "\n",
    "The file jwst.asdf is presumed to be in your current directory (see xxx for instructions on how to get all files used in this tutorial)"
   ]
  },
  {
   "cell_type": "code",
   "execution_count": null,
   "id": "1c291d48-ea19-4d6e-b7f9-abe3414ce38f",
   "metadata": {},
   "outputs": [],
   "source": [
    "import numpy as np\n",
    "import asdf\n",
    "from matplotlib import pyplot as plt"
   ]
  },
  {
   "cell_type": "markdown",
   "id": "1dc8b2f8-4f2a-4493-9103-e067be154ca8",
   "metadata": {},
   "source": [
    "Load ASDF file\n",
    "--------------"
   ]
  },
  {
   "cell_type": "code",
   "execution_count": null,
   "id": "45170cca-4bf7-474b-8e02-952e23ddb26d",
   "metadata": {},
   "outputs": [],
   "source": [
    "af = asdf.open('jwst.asdf')\n",
    "# Get some info about the contents\n",
    "af.info()"
   ]
  },
  {
   "cell_type": "code",
   "execution_count": null,
   "id": "864ecb72-d7c5-408b-98f5-e9a2fdd6368e",
   "metadata": {},
   "outputs": [],
   "source": [
    "# The file has lots of content so some options are needed to see it all\n",
    "af.info(max_rows=200)"
   ]
  },
  {
   "cell_type": "code",
   "execution_count": null,
   "id": "de512d4e-4ba9-454b-99f9-1d282eb33284",
   "metadata": {},
   "outputs": [],
   "source": [
    "# Search for attributes with exposure in their name\n",
    "af.search('exposure')"
   ]
  },
  {
   "cell_type": "code",
   "execution_count": null,
   "id": "b9e6e190-6d53-4abc-9be0-4cd938b368e9",
   "metadata": {},
   "outputs": [],
   "source": [
    "# Assign an attribute value to a variable\n",
    "elapsed_time = af.tree['meta']['exposure']['elapsed_exposure_time']\n",
    "print(elapsed_time)"
   ]
  },
  {
   "cell_type": "code",
   "execution_count": null,
   "id": "5395c578-58a7-420c-ad61-8060bcdb299c",
   "metadata": {},
   "outputs": [],
   "source": [
    "# Both JWST and Roman datamodels add syntactix \"sugar\" that allow the following syntax\n",
    "# presuming the file was opened as a datmodel, e.g.,\n",
    "# dm = jwst.datamodel.open('jwst.asdf')\n",
    "# print(dm.meta.exposure.elapsed_exposure_time)"
   ]
  },
  {
   "cell_type": "code",
   "execution_count": null,
   "id": "045f30d7-33d8-4976-a190-fbbdaf6f336b",
   "metadata": {},
   "outputs": [],
   "source": [
    "# Now load image and display it\n",
    "im = af.tree['data']\n",
    "print(im.shape)\n",
    "plt.imshow(im)"
   ]
  },
  {
   "cell_type": "code",
   "execution_count": null,
   "id": "42bb0e28-8b41-4071-9b35-fce1967017ce",
   "metadata": {},
   "outputs": [],
   "source": [
    "# Obviously we need to adjust the stretch on this. I've already found a reasonable one.\n",
    "plt.clf()\n",
    "plt.imshow(im, vmin=0, vmax=5)"
   ]
  },
  {
   "cell_type": "code",
   "execution_count": null,
   "id": "16f10513-96a8-4c0e-9440-8397c6e0cf0e",
   "metadata": {},
   "outputs": [],
   "source": [
    "# To use a log transfer function means getting rid of all NaNs\n",
    "nim = np.array(im) # Existing image is only read only and not a numpy array\n",
    "nim[np.isnan(nim)] = 5\n",
    "nim[nim<=0] = 1\n",
    "plt.clf()\n",
    "plt.imshow(np.log(nim), vmin=0, vmax=2.5)\n"
   ]
  },
  {
   "cell_type": "markdown",
   "id": "6a31609c-0fb7-494f-a325-f967bc1e8b69",
   "metadata": {},
   "source": [
    "Modifying the contents\n",
    "----------------------"
   ]
  },
  {
   "cell_type": "code",
   "execution_count": null,
   "id": "2d65930d-041b-40a3-bb6e-f9fcea1e2114",
   "metadata": {},
   "outputs": [],
   "source": [
    "# Arbitrarily change the elapsed_exposure_time\n",
    "af.tree['meta']['exposure']['elapsed_exposure_time'] = 1800\n",
    "print(af.tree['meta']['exposure']['elapsed_exposure_time'])"
   ]
  },
  {
   "cell_type": "code",
   "execution_count": null,
   "id": "d32ccdc9-2a85-41a4-a583-af7b26bb0deb",
   "metadata": {},
   "outputs": [],
   "source": [
    "# Replace data attribute with the log version of the image.\n",
    "af.tree['data'] = np.log(nim)"
   ]
  },
  {
   "cell_type": "code",
   "execution_count": null,
   "id": "d8183126-0767-490b-9ecd-2720f4bb62fc",
   "metadata": {},
   "outputs": [],
   "source": [
    "# Create new meta attribute\n",
    "af.tree['meta']['inspected_by'] = 'Jacques Clouseau'"
   ]
  },
  {
   "cell_type": "markdown",
   "id": "35d81717-e156-4209-af0e-d16e199d9740",
   "metadata": {},
   "source": [
    "Saving the modified contents\n",
    "----------------------------"
   ]
  },
  {
   "cell_type": "code",
   "execution_count": null,
   "id": "203dd2de-d319-4e68-82c3-0fa612f58a42",
   "metadata": {},
   "outputs": [],
   "source": [
    "# Save to a different file\n",
    "af.write_to('jwst_modified.asdf')"
   ]
  },
  {
   "cell_type": "code",
   "execution_count": null,
   "id": "fe917ed3-a3e5-48c5-abb3-3a3b3332f23a",
   "metadata": {},
   "outputs": [],
   "source": [
    "ls"
   ]
  },
  {
   "cell_type": "markdown",
   "id": "b7017442-f3ad-472a-809d-9b5d40da2540",
   "metadata": {},
   "source": [
    "Exercise\n",
    "--------\n",
    "\n",
    "- Search for the name of the PI (\"Klaus\") and replace the attribute containing it with your own name. Type \"af.search?\" to show how to search values instead of attribute names.\n",
    "- Use the above log image and set all pixels in rows 3000:3010 and columns 4000:4010 to a value of 2.5, and replace the data attribute with the modified log image.\n",
    "- Save the result to a new file named \"jwst_exercise.asdf\"\n",
    "- Load that new file and display the data image\n",
    "- Print out the value of the attribute that contains the name of the PI to confirm the edits were saved"
   ]
  },
  {
   "cell_type": "code",
   "execution_count": null,
   "id": "f367231c-4ced-4e30-ab7e-e8fb3fd007e0",
   "metadata": {},
   "outputs": [],
   "source": [
    "af.search(value = \"Klaus\")"
   ]
  },
  {
   "cell_type": "code",
   "execution_count": null,
   "id": "3937b871-cd77-40ee-9185-b620a95e9880",
   "metadata": {},
   "outputs": [],
   "source": [
    "af.search?"
   ]
  },
  {
   "cell_type": "code",
   "execution_count": null,
   "id": "425e5334-27c4-421a-adc1-940b1aab08c0",
   "metadata": {},
   "outputs": [],
   "source": [
    "lim = np.log(nim)\n",
    "lim[3000:3010, ] = 2.5\n",
    "lim[:, 4000:4010] = 2.5\n",
    "plt.clf()\n",
    "plt.imshow(lim, vmin=0, vmax=2.5)"
   ]
  },
  {
   "cell_type": "code",
   "execution_count": null,
   "id": "04972efe-35b6-4728-aba2-6e8d0f831cec",
   "metadata": {},
   "outputs": [],
   "source": []
  }
 ],
 "metadata": {
  "kernelspec": {
   "display_name": "Python 3 (ipykernel)",
   "language": "python",
   "name": "python3"
  },
  "language_info": {
   "codemirror_mode": {
    "name": "ipython",
    "version": 3
   },
   "file_extension": ".py",
   "mimetype": "text/x-python",
   "name": "python",
   "nbconvert_exporter": "python",
   "pygments_lexer": "ipython3",
   "version": "3.11.0"
  }
 },
 "nbformat": 4,
 "nbformat_minor": 5
}
