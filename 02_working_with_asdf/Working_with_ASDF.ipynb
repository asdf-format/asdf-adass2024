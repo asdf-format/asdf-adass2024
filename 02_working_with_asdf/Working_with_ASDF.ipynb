{
 "cells": [
  {
   "cell_type": "markdown",
   "id": "e92fc203-b2b0-4297-bba8-7a07b0921999",
   "metadata": {},
   "source": [
    "Goals:\n",
    "======\n",
    "\n",
    "- Read an ASDF file\n",
    "- Use tools for looking at the file and searching for attributes\n",
    "- Display an image contained in the file\n",
    "- Access and modify metadata\n",
    "- Write the file to disk\n",
    "\n",
    "The file jwst.asdf is presumed to be in your current directory (see xxx for instructions on how to get all files used in this tutorial)"
   ]
  },
  {
   "cell_type": "code",
   "execution_count": 1,
   "id": "1c291d48-ea19-4d6e-b7f9-abe3414ce38f",
   "metadata": {},
   "outputs": [],
   "source": [
    "import numpy as np\n",
    "import asdf\n",
    "from matplotlib import pyplot as plt"
   ]
  },
  {
   "cell_type": "markdown",
   "id": "1dc8b2f8-4f2a-4493-9103-e067be154ca8",
   "metadata": {},
   "source": [
    "Load ASDF file\n",
    "--------------"
   ]
  },
  {
   "cell_type": "code",
   "execution_count": 2,
   "id": "45170cca-4bf7-474b-8e02-952e23ddb26d",
   "metadata": {},
   "outputs": [
    {
     "ename": "FileNotFoundError",
     "evalue": "[Errno 2] No such file or directory: 'jwst.asdf'",
     "output_type": "error",
     "traceback": [
      "\u001b[0;31m---------------------------------------------------------------------------\u001b[0m",
      "\u001b[0;31mFileNotFoundError\u001b[0m                         Traceback (most recent call last)",
      "Cell \u001b[0;32mIn[2], line 1\u001b[0m\n\u001b[0;32m----> 1\u001b[0m af \u001b[38;5;241m=\u001b[39m asdf\u001b[38;5;241m.\u001b[39mopen(\u001b[38;5;124m'\u001b[39m\u001b[38;5;124mjwst.asdf\u001b[39m\u001b[38;5;124m'\u001b[39m)\n\u001b[1;32m      2\u001b[0m \u001b[38;5;66;03m# Get some info about the contents\u001b[39;00m\n\u001b[1;32m      3\u001b[0m af\u001b[38;5;241m.\u001b[39minfo()\n",
      "File \u001b[0;32m~/opt/anaconda3/envs/adass-asdf/lib/python3.11/site-packages/asdf/_asdf.py:1750\u001b[0m, in \u001b[0;36mopen_asdf\u001b[0;34m(fd, uri, mode, validate_checksums, extensions, ignore_version_mismatch, ignore_unrecognized_tag, _force_raw_types, copy_arrays, memmap, lazy_tree, lazy_load, custom_schema, strict_extension_check, ignore_missing_extensions, _get_yaml_content)\u001b[0m\n\u001b[1;32m   1739\u001b[0m         mode \u001b[38;5;241m=\u001b[39m \u001b[38;5;124m\"\u001b[39m\u001b[38;5;124mr\u001b[39m\u001b[38;5;124m\"\u001b[39m\n\u001b[1;32m   1741\u001b[0m instance \u001b[38;5;241m=\u001b[39m AsdfFile(\n\u001b[1;32m   1742\u001b[0m     ignore_version_mismatch\u001b[38;5;241m=\u001b[39mignore_version_mismatch,\n\u001b[1;32m   1743\u001b[0m     ignore_unrecognized_tag\u001b[38;5;241m=\u001b[39mignore_unrecognized_tag,\n\u001b[0;32m   (...)\u001b[0m\n\u001b[1;32m   1747\u001b[0m     custom_schema\u001b[38;5;241m=\u001b[39mcustom_schema,\n\u001b[1;32m   1748\u001b[0m )\n\u001b[0;32m-> 1750\u001b[0m \u001b[38;5;28;01mreturn\u001b[39;00m AsdfFile\u001b[38;5;241m.\u001b[39m_open_impl(\n\u001b[1;32m   1751\u001b[0m     instance,\n\u001b[1;32m   1752\u001b[0m     fd,\n\u001b[1;32m   1753\u001b[0m     uri\u001b[38;5;241m=\u001b[39muri,\n\u001b[1;32m   1754\u001b[0m     mode\u001b[38;5;241m=\u001b[39mmode,\n\u001b[1;32m   1755\u001b[0m     validate_checksums\u001b[38;5;241m=\u001b[39mvalidate_checksums,\n\u001b[1;32m   1756\u001b[0m     extensions\u001b[38;5;241m=\u001b[39mextensions,\n\u001b[1;32m   1757\u001b[0m     lazy_tree\u001b[38;5;241m=\u001b[39mlazy_tree,\n\u001b[1;32m   1758\u001b[0m     _get_yaml_content\u001b[38;5;241m=\u001b[39m_get_yaml_content,\n\u001b[1;32m   1759\u001b[0m     _force_raw_types\u001b[38;5;241m=\u001b[39m_force_raw_types,\n\u001b[1;32m   1760\u001b[0m     strict_extension_check\u001b[38;5;241m=\u001b[39mstrict_extension_check,\n\u001b[1;32m   1761\u001b[0m     ignore_missing_extensions\u001b[38;5;241m=\u001b[39mignore_missing_extensions,\n\u001b[1;32m   1762\u001b[0m )\n",
      "File \u001b[0;32m~/opt/anaconda3/envs/adass-asdf/lib/python3.11/site-packages/asdf/_asdf.py:1023\u001b[0m, in \u001b[0;36mAsdfFile._open_impl\u001b[0;34m(cls, self, fd, uri, mode, validate_checksums, extensions, lazy_tree, _get_yaml_content, _force_raw_types, strict_extension_check, ignore_missing_extensions)\u001b[0m\n\u001b[1;32m   1021\u001b[0m \u001b[38;5;250m\u001b[39m\u001b[38;5;124;03m\"\"\"Attempt to open file-like object as an AsdfFile\"\"\"\u001b[39;00m\n\u001b[1;32m   1022\u001b[0m close_on_fail \u001b[38;5;241m=\u001b[39m \u001b[38;5;28misinstance\u001b[39m(fd, (\u001b[38;5;28mstr\u001b[39m, pathlib\u001b[38;5;241m.\u001b[39mPath))\n\u001b[0;32m-> 1023\u001b[0m generic_file \u001b[38;5;241m=\u001b[39m generic_io\u001b[38;5;241m.\u001b[39mget_file(fd, mode\u001b[38;5;241m=\u001b[39mmode, uri\u001b[38;5;241m=\u001b[39muri)\n\u001b[1;32m   1024\u001b[0m \u001b[38;5;28;01mtry\u001b[39;00m:\n\u001b[1;32m   1025\u001b[0m     \u001b[38;5;28;01mreturn\u001b[39;00m \u001b[38;5;28mcls\u001b[39m\u001b[38;5;241m.\u001b[39m_open_asdf(\n\u001b[1;32m   1026\u001b[0m         \u001b[38;5;28mself\u001b[39m,\n\u001b[1;32m   1027\u001b[0m         generic_file,\n\u001b[0;32m   (...)\u001b[0m\n\u001b[1;32m   1034\u001b[0m         ignore_missing_extensions\u001b[38;5;241m=\u001b[39mignore_missing_extensions,\n\u001b[1;32m   1035\u001b[0m     )\n",
      "File \u001b[0;32m~/opt/anaconda3/envs/adass-asdf/lib/python3.11/site-packages/asdf/generic_io.py:1142\u001b[0m, in \u001b[0;36mget_file\u001b[0;34m(init, mode, uri, close)\u001b[0m\n\u001b[1;32m   1138\u001b[0m         \u001b[38;5;28;01mexcept\u001b[39;00m \u001b[38;5;167;01mFileNotFoundError\u001b[39;00m \u001b[38;5;28;01mas\u001b[39;00m e:\n\u001b[1;32m   1139\u001b[0m             \u001b[38;5;66;03m# atomic_open will create an Exception with an odd looking path\u001b[39;00m\n\u001b[1;32m   1140\u001b[0m             \u001b[38;5;66;03m# overwrite the error message to make it more informative\u001b[39;00m\n\u001b[1;32m   1141\u001b[0m             e\u001b[38;5;241m.\u001b[39mfilename \u001b[38;5;241m=\u001b[39m realpath\n\u001b[0;32m-> 1142\u001b[0m             \u001b[38;5;28;01mraise\u001b[39;00m e\n\u001b[1;32m   1144\u001b[0m         \u001b[38;5;28;01mreturn\u001b[39;00m RealFile(fd, mode, close\u001b[38;5;241m=\u001b[39m\u001b[38;5;28;01mTrue\u001b[39;00m, uri\u001b[38;5;241m=\u001b[39muri)\n\u001b[1;32m   1146\u001b[0m \u001b[38;5;28;01mif\u001b[39;00m \u001b[38;5;28misinstance\u001b[39m(init, io\u001b[38;5;241m.\u001b[39mBytesIO):\n",
      "File \u001b[0;32m~/opt/anaconda3/envs/adass-asdf/lib/python3.11/site-packages/asdf/generic_io.py:1135\u001b[0m, in \u001b[0;36mget_file\u001b[0;34m(init, mode, uri, close)\u001b[0m\n\u001b[1;32m   1129\u001b[0m realpath \u001b[38;5;241m=\u001b[39m (\n\u001b[1;32m   1130\u001b[0m     \u001b[38;5;28mstr\u001b[39m(init)\n\u001b[1;32m   1131\u001b[0m     \u001b[38;5;28;01mif\u001b[39;00m sys\u001b[38;5;241m.\u001b[39mplatform\u001b[38;5;241m.\u001b[39mstartswith(\u001b[38;5;124m\"\u001b[39m\u001b[38;5;124mwin\u001b[39m\u001b[38;5;124m\"\u001b[39m) \u001b[38;5;129;01mand\u001b[39;00m parsed\u001b[38;5;241m.\u001b[39mscheme \u001b[38;5;129;01min\u001b[39;00m string\u001b[38;5;241m.\u001b[39mascii_letters\n\u001b[1;32m   1132\u001b[0m     \u001b[38;5;28;01melse\u001b[39;00m url2pathname(parsed\u001b[38;5;241m.\u001b[39mpath)\n\u001b[1;32m   1133\u001b[0m )\n\u001b[1;32m   1134\u001b[0m \u001b[38;5;28;01mtry\u001b[39;00m:\n\u001b[0;32m-> 1135\u001b[0m     fd \u001b[38;5;241m=\u001b[39m atomicfile\u001b[38;5;241m.\u001b[39matomic_open(realpath, realmode) \u001b[38;5;28;01mif\u001b[39;00m mode \u001b[38;5;241m==\u001b[39m \u001b[38;5;124m\"\u001b[39m\u001b[38;5;124mw\u001b[39m\u001b[38;5;124m\"\u001b[39m \u001b[38;5;28;01melse\u001b[39;00m \u001b[38;5;28mopen\u001b[39m(realpath, realmode)\n\u001b[1;32m   1137\u001b[0m     fd \u001b[38;5;241m=\u001b[39m fd\u001b[38;5;241m.\u001b[39m\u001b[38;5;21m__enter__\u001b[39m()\n\u001b[1;32m   1138\u001b[0m \u001b[38;5;28;01mexcept\u001b[39;00m \u001b[38;5;167;01mFileNotFoundError\u001b[39;00m \u001b[38;5;28;01mas\u001b[39;00m e:\n\u001b[1;32m   1139\u001b[0m     \u001b[38;5;66;03m# atomic_open will create an Exception with an odd looking path\u001b[39;00m\n\u001b[1;32m   1140\u001b[0m     \u001b[38;5;66;03m# overwrite the error message to make it more informative\u001b[39;00m\n",
      "\u001b[0;31mFileNotFoundError\u001b[0m: [Errno 2] No such file or directory: 'jwst.asdf'"
     ]
    }
   ],
   "source": [
    "af = asdf.open('../jwst.asdf')\n",
    "# Get some info about the contents\n",
    "af.info()"
   ]
  },
  {
   "cell_type": "code",
   "execution_count": null,
   "id": "864ecb72-d7c5-408b-98f5-e9a2fdd6368e",
   "metadata": {},
   "outputs": [],
   "source": [
    "# The file has lots of content so some options are needed to see it all\n",
    "af.info(max_rows=200)"
   ]
  },
  {
   "cell_type": "code",
   "execution_count": null,
   "id": "de512d4e-4ba9-454b-99f9-1d282eb33284",
   "metadata": {},
   "outputs": [],
   "source": [
    "# Search for attributes with exposure in their name\n",
    "af.search('exposure')"
   ]
  },
  {
   "cell_type": "code",
   "execution_count": null,
   "id": "b9e6e190-6d53-4abc-9be0-4cd938b368e9",
   "metadata": {},
   "outputs": [],
   "source": [
    "# Assign an attribute value to a variable\n",
    "elapsed_time = af.tree['meta']['exposure']['elapsed_exposure_time']\n",
    "print(elapsed_time)"
   ]
  },
  {
   "cell_type": "code",
   "execution_count": null,
   "id": "5395c578-58a7-420c-ad61-8060bcdb299c",
   "metadata": {},
   "outputs": [],
   "source": [
    "# Both JWST and Roman datamodels add syntactix \"sugar\" that allow the following syntax\n",
    "# presuming the file was opened as a datmodel, e.g.,\n",
    "# dm = jwst.datamodel.open('jwst.asdf')\n",
    "# print(dm.meta.exposure.elapsed_exposure_time)"
   ]
  },
  {
   "cell_type": "code",
   "execution_count": null,
   "id": "045f30d7-33d8-4976-a190-fbbdaf6f336b",
   "metadata": {},
   "outputs": [],
   "source": [
    "# Now load image and display it\n",
    "im = af.tree['data']\n",
    "print(im.shape)\n",
    "plt.imshow(im)"
   ]
  },
  {
   "cell_type": "code",
   "execution_count": null,
   "id": "42bb0e28-8b41-4071-9b35-fce1967017ce",
   "metadata": {},
   "outputs": [],
   "source": [
    "# Obviously we need to adjust the stretch on this. I've already found a reasonable one.\n",
    "plt.clf()\n",
    "plt.imshow(im, vmin=0, vmax=5)"
   ]
  },
  {
   "cell_type": "code",
   "execution_count": null,
   "id": "16f10513-96a8-4c0e-9440-8397c6e0cf0e",
   "metadata": {},
   "outputs": [],
   "source": [
    "# To use a log transfer function means getting rid of all NaNs\n",
    "nim = np.array(im) # Existing image is only read only and not a numpy array\n",
    "nim[np.isnan(nim)] = 5\n",
    "nim[nim<=0] = 1\n",
    "plt.clf()\n",
    "plt.imshow(np.log(nim), vmin=0, vmax=2.5)\n"
   ]
  },
  {
   "cell_type": "markdown",
   "id": "6a31609c-0fb7-494f-a325-f967bc1e8b69",
   "metadata": {},
   "source": [
    "Modifying the contents\n",
    "----------------------"
   ]
  },
  {
   "cell_type": "code",
   "execution_count": null,
   "id": "2d65930d-041b-40a3-bb6e-f9fcea1e2114",
   "metadata": {},
   "outputs": [],
   "source": [
    "# Arbitrarily change the elapsed_exposure_time\n",
    "af.tree['meta']['exposure']['elapsed_exposure_time'] = 1800\n",
    "print(af.tree['meta']['exposure']['elapsed_exposure_time'])"
   ]
  },
  {
   "cell_type": "code",
   "execution_count": null,
   "id": "d32ccdc9-2a85-41a4-a583-af7b26bb0deb",
   "metadata": {},
   "outputs": [],
   "source": [
    "# Replace data attribute with the log version of the image.\n",
    "af.tree['data'] = np.log(nim)"
   ]
  },
  {
   "cell_type": "code",
   "execution_count": null,
   "id": "d8183126-0767-490b-9ecd-2720f4bb62fc",
   "metadata": {},
   "outputs": [],
   "source": [
    "# Create new meta attribute\n",
    "af.tree['meta']['inspected_by'] = 'Jacques Clouseau'"
   ]
  },
  {
   "cell_type": "markdown",
   "id": "35d81717-e156-4209-af0e-d16e199d9740",
   "metadata": {},
   "source": [
    "Saving the modified contents\n",
    "----------------------------"
   ]
  },
  {
   "cell_type": "code",
   "execution_count": null,
   "id": "203dd2de-d319-4e68-82c3-0fa612f58a42",
   "metadata": {},
   "outputs": [],
   "source": [
    "# Save to a different file\n",
    "af.write_to('jwst_modified.asdf')"
   ]
  },
  {
   "cell_type": "code",
   "execution_count": null,
   "id": "fe917ed3-a3e5-48c5-abb3-3a3b3332f23a",
   "metadata": {},
   "outputs": [],
   "source": [
    "ls"
   ]
  },
  {
   "cell_type": "markdown",
   "id": "b7017442-f3ad-472a-809d-9b5d40da2540",
   "metadata": {},
   "source": [
    "Exercises\n",
    "---------\n",
    "\n",
    "1. Search for the name of the PI (\"Klaus\") and replace the attribute containing\n",
    "   it with your own name. Type \"af.search?\" to show how to search values instead of attribute names.\n",
    "3. Use the above log image and set all pixels in rows 3000:3010 and columns 4000:4010\n",
    "   to a value of 2.5, and replace the data attribute with the modified log image.\n",
    "5. Save the result to a new file named \"jwst_exercise.asdf\"\n",
    "6. Load that new file and display the data image\n",
    "7. Print out the value of the attribute that contains the name of the PI\n",
    "   to confirm the edits were saved"
   ]
  }
 ],
 "metadata": {
  "kernelspec": {
   "display_name": "Python 3 (ipykernel)",
   "language": "python",
   "name": "python3"
  },
  "language_info": {
   "codemirror_mode": {
    "name": "ipython",
    "version": 3
   },
   "file_extension": ".py",
   "mimetype": "text/x-python",
   "name": "python",
   "nbconvert_exporter": "python",
   "pygments_lexer": "ipython3",
   "version": "3.11.0"
  }
 },
 "nbformat": 4,
 "nbformat_minor": 5
}
