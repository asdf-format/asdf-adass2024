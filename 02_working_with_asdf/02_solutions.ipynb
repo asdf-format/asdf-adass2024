{
 "cells": [
  {
   "cell_type": "markdown",
   "id": "bef7b31d-92c7-4d40-8ca4-fbaa3e20caa3",
   "metadata": {},
   "source": [
    "Exercise Solutions\n",
    "==================\n",
    "\n",
    "Exercise 1\n",
    "----------\n",
    "\n",
    "Search for the name of the PI (\"Klaus\") and replace the attribute containing\n",
    "it with your own name. Type \"af.search?\" to show how to search values instead of attribute names."
   ]
  },
  {
   "cell_type": "code",
   "execution_count": null,
   "id": "2832b911-ca48-4bf1-80e0-0f40a5d7ad77",
   "metadata": {},
   "outputs": [],
   "source": [
    "import numpy as np\n",
    "import asdf\n",
    "from matplotlib import pyplot as plt\n",
    "%matplotlib widget"
   ]
  },
  {
   "cell_type": "code",
   "execution_count": null,
   "id": "29adf676-aca5-40e6-b709-b646267bbd3d",
   "metadata": {},
   "outputs": [],
   "source": [
    "af = asdf.open('../jwst.asdf')\n",
    "im = af.tree['data']"
   ]
  },
  {
   "cell_type": "code",
   "execution_count": null,
   "id": "57c2752b-0449-4233-a462-a35239608f7a",
   "metadata": {},
   "outputs": [],
   "source": [
    "af.search?"
   ]
  },
  {
   "cell_type": "code",
   "execution_count": null,
   "id": "3fe89f0d-3966-4f59-b17f-36698a54e010",
   "metadata": {},
   "outputs": [],
   "source": [
    "af.search(value= \"Klaus\")\n",
    "af.tree['meta']['program']['pi_name'] = 'Bozo'"
   ]
  },
  {
   "cell_type": "markdown",
   "id": "9b577452-c6cd-4acd-b490-8f7acfaa2cd0",
   "metadata": {},
   "source": [
    "Exercise 2\n",
    "----------\n",
    "\n",
    "Use the above log image and set all pixels in rows 3000:3010 and columns 4000:4010\n",
    "to a value of 2.5, and replace the data attribute with the modified log image."
   ]
  },
  {
   "cell_type": "code",
   "execution_count": null,
   "id": "cde01a59-ef74-48b4-bf8e-6276242b21d6",
   "metadata": {},
   "outputs": [],
   "source": [
    "nim = np.array(im)\n",
    "nim[np.isnan(nim)] = 5\n",
    "nim[nim<=0] = 1\n",
    "lim = np.log(nim)\n",
    "lim[3000: 3010] = 2.5\n",
    "lim[4000: 4010] = 2.5\n",
    "af.data = lim"
   ]
  },
  {
   "cell_type": "markdown",
   "id": "78e3f907-19d0-4d14-b872-af81104fd9c6",
   "metadata": {},
   "source": [
    "Exercise 3\n",
    "----------\n",
    "\n",
    "Save the result to a new file named \"jwst_exercise.asdf\""
   ]
  },
  {
   "cell_type": "code",
   "execution_count": null,
   "id": "01c94825-34cc-4330-8692-0c69d0ae87ec",
   "metadata": {},
   "outputs": [],
   "source": [
    "af.write_to('jwst_exercise.asdf')"
   ]
  },
  {
   "cell_type": "markdown",
   "id": "bc3cc4e0-66b8-4b11-b0ff-76c9f9b51bfb",
   "metadata": {},
   "source": [
    "Exercise 4\n",
    "----------\n",
    "\n",
    "Load that new file and display the data image"
   ]
  },
  {
   "cell_type": "code",
   "execution_count": null,
   "id": "2e5d4d7c-9107-43fb-a0f4-f278dfd913c7",
   "metadata": {},
   "outputs": [],
   "source": [
    "af2 = asdf.open('jwst_exercise.asdf')\n",
    "plt.clf()\n",
    "plt.imshow(af2['data'], vmin=0, vmax=2.5, origin='lower')"
   ]
  },
  {
   "cell_type": "markdown",
   "id": "7009b504-fccf-4492-9853-a4910b9e8498",
   "metadata": {},
   "source": [
    "Exercise 5\n",
    "----------\n",
    "\n",
    "Print out the value of the attribute that contains the name of the PI\n",
    "to confirm the edits were saved."
   ]
  },
  {
   "cell_type": "code",
   "execution_count": null,
   "id": "0a34a73f-8782-4f12-aa8d-acbe464c9c10",
   "metadata": {},
   "outputs": [],
   "source": [
    "af2.tree['meta']['program']['pi_name']"
   ]
  },
  {
   "cell_type": "code",
   "execution_count": null,
   "id": "cea91548-d581-4705-8e36-375f100e0f6c",
   "metadata": {},
   "outputs": [],
   "source": []
  }
 ],
 "metadata": {
  "kernelspec": {
   "display_name": "Python 3 (ipykernel)",
   "language": "python",
   "name": "python3"
  },
  "language_info": {
   "codemirror_mode": {
    "name": "ipython",
    "version": 3
   },
   "file_extension": ".py",
   "mimetype": "text/x-python",
   "name": "python",
   "nbconvert_exporter": "python",
   "pygments_lexer": "ipython3",
   "version": "3.11.0"
  }
 },
 "nbformat": 4,
 "nbformat_minor": 5
}
