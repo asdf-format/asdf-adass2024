{
 "cells": [
  {
   "cell_type": "markdown",
   "id": "67db43e8-eb37-41ee-84a3-884cbf945174",
   "metadata": {},
   "source": [
    "# The Advanced Scientific Data Format (ASDF)\n",
    "\n",
    "## A Practical Guide\n",
    "\n",
    "## Outline\n",
    "\n",
    "### Working With ASDF Files\n",
    "- Reading files\n",
    "- Accessing and modifying metadata\n",
    "- Writing files\n",
    "- Exercise 1\n",
    "\n",
    "### Serializing Custom Objects To ASDF\n",
    "\n",
    "- Transforms\n",
    "- Coordinate Frames\n",
    "- Time\n",
    "- Tables\n",
    "- Units and Quantities\n",
    "\n",
    "### Generalized World Coordinate System (GWCS)\n",
    "\n",
    "- Motivation for GWCS\n",
    "- Features\n",
    "- Imaging Example"
   ]
  },
  {
   "cell_type": "markdown",
   "id": "3f630ebc-0acc-456b-b5eb-50430f625e67",
   "metadata": {},
   "source": [
    "### Reading Files\n",
    "\n",
    "The Python ASDF library is a standalone package distributed through PyPi and conda-forge."
   ]
  },
  {
   "cell_type": "code",
   "execution_count": 5,
   "id": "14bf8546-f7b7-46bd-81fd-6cd416ecebdd",
   "metadata": {},
   "outputs": [],
   "source": [
    "import asdf"
   ]
  },
  {
   "cell_type": "markdown",
   "id": "e5e6f0cf-6409-466b-9d60-45686b4b226f",
   "metadata": {},
   "source": [
    "To open a file use the *open* function. It is useful to look up the keyword arguments it accepts, there are options specifying in what mode a file should be opened or whether it should be validated during opening. For this example we will use the default behavior and look at the object."
   ]
  },
  {
   "cell_type": "code",
   "execution_count": 3,
   "id": "5279c5e5-fed1-4b51-b9ce-688c02eb17d4",
   "metadata": {},
   "outputs": [],
   "source": [
    "import os\n",
    "from pathlib import Path\n",
    "from astropy.utils.data import download_file\n",
    "filename = \"r0000101001001001001_01101_0001_WFI01_cal.asdf\"\n",
    "\n",
    "import requests\n",
    "import shutil\n",
    "\n",
    "REMOTE_URL = \"https://data.science.stsci.edu/redirect/Roman/Roman_Data_Workshop/ExampleData/Build14/\"\n",
    "remote_path = \"r0000101001001001001_01101_0001_WFI01_cal.asdf\"\n",
    "LOCAL_DIRECTORY = Path(os.curdir) # Path(__file__).parent\n",
    "local_path = LOCAL_DIRECTORY / Path(remote_path)"
   ]
  },
  {
   "cell_type": "code",
   "execution_count": null,
   "id": "ff4eda39-02a8-4d05-a16a-b6302a31fa43",
   "metadata": {},
   "outputs": [],
   "source": [
    "filename = download_file(REMOTE_URL + remote_path)\n",
    "shutil.move(filename, local_path)"
   ]
  },
  {
   "cell_type": "code",
   "execution_count": 66,
   "id": "8b031c20-4594-4e4f-8750-46c846d2ce32",
   "metadata": {},
   "outputs": [
    {
     "name": "stderr",
     "output_type": "stream",
     "text": [
      "/Users/dencheva/opt/anaconda3/envs/romanrelease/lib/python3.11/site-packages/asdf/_asdf.py:378: AsdfPackageVersionWarning: File 'file:///Users/dencheva/dev/documentation/adass24/r0000101001001001001_01101_0001_WFI01_cal.asdf' was created with extension URI 'asdf://stsci.edu/datamodels/roman/extensions/datamodels-1.0' (from package roman_datamodels==0.20.1.dev1+gb23b8ed), but older package (roman_datamodels==0.20.0) is installed.\n",
      "  warnings.warn(msg, AsdfPackageVersionWarning)\n"
     ]
    }
   ],
   "source": [
    "afr = asdf.open(local_path)"
   ]
  },
  {
   "cell_type": "code",
   "execution_count": 11,
   "id": "edd90c2e-9220-4f90-a215-9e5ed9760ec8",
   "metadata": {},
   "outputs": [
    {
     "name": "stdout",
     "output_type": "stream",
     "text": [
      "\u001b[1mroot\u001b[0m (AsdfObject)\n",
      "\u001b[2m├─\u001b[0m\u001b[1masdf_library\u001b[0m (Software)\n",
      "\u001b[2m│ ├─\u001b[0m\u001b[1mauthor\u001b[0m (str): The ASDF Developers\n",
      "\u001b[2m│ ├─\u001b[0m\u001b[1mhomepage\u001b[0m (str): http://github.com/asdf-format/asdf\n",
      "\u001b[2m│ ├─\u001b[0m\u001b[1mname\u001b[0m (str): asdf\n",
      "\u001b[2m│ └─\u001b[0m\u001b[1mversion\u001b[0m (str): 3.1.0\n",
      "\u001b[2m├─\u001b[0m\u001b[1mhistory\u001b[0m (dict)\n",
      "\u001b[2m│ └─\u001b[0m\u001b[1mextensions\u001b[0m (list)\n",
      "\u001b[2m│   ├─\u001b[0m[\u001b[1m0\u001b[0m] (ExtensionMetadata)\u001b[3m ...\u001b[0m\n",
      "\u001b[2m│   ├─\u001b[0m[\u001b[1m1\u001b[0m] (ExtensionMetadata)\u001b[3m ...\u001b[0m\n",
      "\u001b[2m│   ├─\u001b[0m[\u001b[1m2\u001b[0m] (ExtensionMetadata)\u001b[3m ...\u001b[0m\n",
      "\u001b[2m│   ├─\u001b[0m[\u001b[1m3\u001b[0m] (ExtensionMetadata)\u001b[3m ...\u001b[0m\n",
      "\u001b[2m│   ├─\u001b[0m[\u001b[1m4\u001b[0m] (ExtensionMetadata)\u001b[3m ...\u001b[0m\n",
      "\u001b[2m│   └─\u001b[0m[\u001b[1m5\u001b[0m] (ExtensionMetadata)\u001b[3m ...\u001b[0m\n",
      "\u001b[2m└─\u001b[0m\u001b[1mroman\u001b[0m (WfiImage)\u001b[2m\u001b[3m # The Schema for WFI Level 2 Images.\u001b[0m\u001b[0m\n",
      "\u001b[2m  ├─\u001b[0m\u001b[1mmeta\u001b[0m (dict)\n",
      "\u001b[2m  │ ├─\u001b[0m\u001b[1maperture\u001b[0m (Aperture)\u001b[2m\u001b[3m # Aperture Information\u001b[0m\u001b[0m\u001b[3m ...\u001b[0m\n",
      "\u001b[2m  │ ├─\u001b[0m\u001b[1mcal_step\u001b[0m (L2CalStep)\u001b[2m\u001b[3m # Level 2 Calibration Status\u001b[0m\u001b[0m\u001b[3m ...\u001b[0m\n",
      "\u001b[2m  │ ├─\u001b[0m\u001b[1mcalibration_software_version\u001b[0m (CalibrationSoftwareVersion): 0.15.2.dev7+g9216445.d20240\u001b[2m\u001b[3m (truncated)\u001b[0m\u001b[0m\n",
      "\u001b[2m  │ ├─\u001b[0m\u001b[1mcoordinates\u001b[0m (Coordinates)\u001b[2m\u001b[3m # Name Of The Coordinate Reference Frame\u001b[0m\u001b[0m\u001b[3m ...\u001b[0m\n",
      "\u001b[2m  │ ├─\u001b[0m\u001b[1mephemeris\u001b[0m (Ephemeris)\u001b[2m\u001b[3m # Ephemeris Data Information\u001b[0m\u001b[0m\u001b[3m ...\u001b[0m\n",
      "\u001b[2m  │ ├─\u001b[0m\u001b[1mexposure\u001b[0m (Exposure)\u001b[2m\u001b[3m # Exposure Information\n",
      "\u001b[0m\u001b[0m\u001b[3m ...\u001b[0m\n",
      "\u001b[2m  │ ├─\u001b[0m\u001b[1mfile_date\u001b[0m (FileDate): 2020-01-01T00:00:00.000\u001b[2m\u001b[3m # File Creation Date\u001b[0m\u001b[0m\n",
      "\u001b[2m  │ ├─\u001b[0m\u001b[1mfilename\u001b[0m (Filename): r0000101001001001001_01101_0001_WFI01_cal.asdf\u001b[2m\u001b[3m # File Name\u001b[0m\u001b[0m\n",
      "\u001b[2m  │ ├─\u001b[0m\u001b[1mgroup_id\u001b[0m (str): roman0000111_1101_1\n",
      "\u001b[2m  │ ├─\u001b[0m\u001b[1mguidestar\u001b[0m (Guidestar)\u001b[2m\u001b[3m # Guide Star Window Information\u001b[0m\u001b[0m\u001b[3m ...\u001b[0m\n",
      "\u001b[2m  │ ├─\u001b[0m\u001b[1minstrument\u001b[0m (WfiMode)\u001b[2m\u001b[3m # WFI Observing Configuration\u001b[0m\u001b[0m\u001b[3m ...\u001b[0m\n",
      "\u001b[2m  │ ├─\u001b[0m\u001b[1mmodel_type\u001b[0m (ModelType): ImageModel\u001b[2m\u001b[3m # Data Model Type\u001b[0m\u001b[0m\n",
      "\u001b[2m  │ ├─\u001b[0m\u001b[1mobservation\u001b[0m (Observation)\u001b[2m\u001b[3m # Observation Identifiers\u001b[0m\u001b[0m\u001b[3m ...\u001b[0m\n",
      "\u001b[2m  │ ├─\u001b[0m\u001b[1morigin\u001b[0m (Origin): STSCI\u001b[2m\u001b[3m # Institution / Organization Name\u001b[0m\u001b[0m\n",
      "\u001b[2m  │ ├─\u001b[0m\u001b[1mphotometry\u001b[0m (Photometry)\u001b[2m\u001b[3m # Photometry Information\u001b[0m\u001b[0m\u001b[3m ...\u001b[0m\n",
      "\u001b[2m  │ ├─\u001b[0m\u001b[1mpointing\u001b[0m (Pointing)\u001b[2m\u001b[3m # Spacecraft Pointing Information\u001b[0m\u001b[0m\u001b[3m ...\u001b[0m\n",
      "\u001b[2m  │ ├─\u001b[0m\u001b[1mprd_software_version\u001b[0m (PrdSoftwareVersion): 8.8.8\u001b[2m\u001b[3m # SOC PRD Version Number\u001b[0m\u001b[0m\n",
      "\u001b[2m  │ ├─\u001b[0m\u001b[1mprogram\u001b[0m (Program)\u001b[2m\u001b[3m # Program Information\u001b[0m\u001b[0m\u001b[3m ...\u001b[0m\n",
      "\u001b[2m  │ ├─\u001b[0m\u001b[1mref_file\u001b[0m (RefFile)\u001b[2m\u001b[3m # Reference File Information\u001b[0m\u001b[0m\u001b[3m ...\u001b[0m\n",
      "\u001b[2m  │ ├─\u001b[0m\u001b[1msdf_software_version\u001b[0m (SdfSoftwareVersion): 7.7.7\u001b[2m\u001b[3m # SDF Version Number\u001b[0m\u001b[0m\n",
      "\u001b[2m  │ ├─\u001b[0m\u001b[1msource_detection\u001b[0m (SourceDetection)\u001b[2m\u001b[3m # Source Detection Catalog\u001b[0m\u001b[0m\u001b[3m ...\u001b[0m\n",
      "\u001b[2m  │ ├─\u001b[0m\u001b[1mtarget\u001b[0m (Target)\u001b[2m\u001b[3m # Target Information\u001b[0m\u001b[0m\u001b[3m ...\u001b[0m\n",
      "\u001b[2m  │ ├─\u001b[0m\u001b[1mtelescope\u001b[0m (Telescope): ROMAN\u001b[2m\u001b[3m # Telescope Name\u001b[0m\u001b[0m\n",
      "\u001b[2m  │ ├─\u001b[0m\u001b[1mtweakreg_catalog\u001b[0m (NDArrayType): shape=(110,), dtype=void1088\n",
      "\u001b[2m  │ ├─\u001b[0m\u001b[1mvelocity_aberration\u001b[0m (VelocityAberration)\u001b[2m\u001b[3m # Velocity Aberration Correction Info\u001b[2m\u001b[3m (truncated)\u001b[0m\u001b[0m\n",
      "\u001b[2m  │ ├─\u001b[0m\u001b[1mvisit\u001b[0m (Visit)\u001b[2m\u001b[3m # Visit Information\u001b[0m\u001b[0m\u001b[3m ...\u001b[0m\n",
      "\u001b[2m  │ ├─\u001b[0m\u001b[1mwcs\u001b[0m (WCS)\n",
      "\u001b[2m  │ ├─\u001b[0m\u001b[1mwcs_fit_results\u001b[0m (dict)\u001b[3m ...\u001b[0m\n",
      "\u001b[2m  │ └─\u001b[0m\u001b[1mwcsinfo\u001b[0m (Wcsinfo)\u001b[2m\u001b[3m # World Coordinate System (WCS) Parameters\u001b[0m\u001b[0m\u001b[3m ...\u001b[0m\n",
      "\u001b[2m  ├─\u001b[0m\u001b[1mdata\u001b[0m (Quantity): shape=(4088, 4088), dtype=float32\u001b[2m\u001b[3m # Science Data (DN / s) or (M\u001b[2m\u001b[3m (truncated)\u001b[0m\u001b[0m\n",
      "\u001b[2m  ├─\u001b[0m\u001b[1mdq\u001b[0m (NDArrayType): shape=(4088, 4088), dtype=uint32\u001b[2m\u001b[3m # Data Quality Flags\u001b[0m\u001b[0m\n",
      "\u001b[2m  ├─\u001b[0m\u001b[1merr\u001b[0m (Quantity): shape=(4088, 4088), dtype=float32\u001b[2m\u001b[3m # Error (DN / s) or (MJy / sr)\u001b[0m\u001b[0m\n",
      "\u001b[2m  ├─\u001b[0m\u001b[1mvar_poisson\u001b[0m (Quantity): shape=(4088, 4088), dtype=float32\u001b[2m\u001b[3m # Poisson Variance (DN\u001b[2m\u001b[3m (truncated)\u001b[0m\u001b[0m\n",
      "\u001b[2m  ├─\u001b[0m\u001b[1mvar_rnoise\u001b[0m (Quantity): shape=(4088, 4088), dtype=float32\u001b[2m\u001b[3m # Read Noise (DN^2 / s^\u001b[2m\u001b[3m (truncated)\u001b[0m\u001b[0m\n",
      "\u001b[2m  ├─\u001b[0m\u001b[1mvar_flat\u001b[0m (Quantity): shape=(4088, 4088), dtype=float32\u001b[2m\u001b[3m # Variance for Estimate o\u001b[2m\u001b[3m (truncated)\u001b[0m\u001b[0m\n",
      "\u001b[2m  ├─\u001b[0m\u001b[1mamp33\u001b[0m (Quantity): shape=(10, 4096, 128), dtype=uint16\u001b[2m\u001b[3m # Amp 33 Reference Pixel D\u001b[2m\u001b[3m (truncated)\u001b[0m\u001b[0m\n",
      "\u001b[2m  ├─\u001b[0m\u001b[1mborder_ref_pix_left\u001b[0m (Quantity): shape=(10, 4096, 4), dtype=float32\u001b[2m\u001b[3m # Border Refe\u001b[2m\u001b[3m (truncated)\u001b[0m\u001b[0m\n",
      "\u001b[2m  ├─\u001b[0m\u001b[1mborder_ref_pix_right\u001b[0m (Quantity): shape=(10, 4096, 4), dtype=float32\u001b[2m\u001b[3m # Border Ref\u001b[2m\u001b[3m (truncated)\u001b[0m\u001b[0m\n",
      "\u001b[2m  ├─\u001b[0m\u001b[1mborder_ref_pix_top\u001b[0m (Quantity): shape=(10, 4, 4096), dtype=float32\u001b[2m\u001b[3m # Border Refer\u001b[2m\u001b[3m (truncated)\u001b[0m\u001b[0m\n",
      "\u001b[2m  ├─\u001b[0m\u001b[1mborder_ref_pix_bottom\u001b[0m (Quantity): shape=(10, 4, 4096), dtype=float32\u001b[2m\u001b[3m # Border Re\u001b[2m\u001b[3m (truncated)\u001b[0m\u001b[0m\n",
      "\u001b[2m  ├─\u001b[0m\u001b[1mdq_border_ref_pix_left\u001b[0m (NDArrayType): shape=(4096, 4), dtype=uint32\u001b[2m\u001b[3m # Data Quali\u001b[2m\u001b[3m (truncated)\u001b[0m\u001b[0m\n",
      "\u001b[2m  ├─\u001b[0m\u001b[1mdq_border_ref_pix_right\u001b[0m (NDArrayType): shape=(4096, 4), dtype=uint32\u001b[2m\u001b[3m # Data Qual\u001b[2m\u001b[3m (truncated)\u001b[0m\u001b[0m\n",
      "\u001b[2m  ├─\u001b[0m\u001b[1mdq_border_ref_pix_top\u001b[0m (NDArrayType): shape=(4, 4096), dtype=uint32\u001b[2m\u001b[3m # Data Qualit\u001b[2m\u001b[3m (truncated)\u001b[0m\u001b[0m\n",
      "\u001b[2m  ├─\u001b[0m\u001b[1mdq_border_ref_pix_bottom\u001b[0m (NDArrayType): shape=(4, 4096), dtype=uint32\u001b[2m\u001b[3m # Data Qua\u001b[2m\u001b[3m (truncated)\u001b[0m\u001b[0m\n",
      "\u001b[2m  └─\u001b[0m\u001b[1mcal_logs\u001b[0m (CalLogs)\u001b[2m\u001b[3m # Calibration Log Messages\u001b[0m\u001b[0m\n",
      "\u001b[2m    ├─\u001b[0m\u001b[1m0\u001b[0m (str): 2024-06-25T11:53:41.893Z :: stpipe.ExposurePipeline.rampfit :: INFO :: Step r\u001b[2m\u001b[3m (truncated)\u001b[0m\u001b[0m\n",
      "\u001b[2m    ├─\u001b[0m\u001b[1m1\u001b[0m (str): 2024-06-25T11:53:41.893Z :: stpipe.ExposurePipeline.rampfit :: INFO :: Step r\u001b[2m\u001b[3m (truncated)\u001b[0m\u001b[0m\n",
      "\u001b[2m    ├─\u001b[0m\u001b[1m2\u001b[0m (str): 2024-06-25T11:53:41.897Z :: stpipe.ExposurePipeline.rampfit :: INFO :: Using \u001b[2m\u001b[3m (truncated)\u001b[0m\u001b[0m\n",
      "\u001b[2m    ├─\u001b[0m\u001b[1m3\u001b[0m (str): 2024-06-25T11:53:41.941Z :: stpipe.ExposurePipeline.rampfit :: WARNING :: /Us\u001b[2m\u001b[3m (truncated)\u001b[0m\u001b[0m\n",
      "\u001b[2m    ├─\u001b[0m\u001b[1m4\u001b[0m (str): 2024-06-25T11:53:41.941Z :: stpipe.ExposurePipeline.rampfit :: WARNING ::   w\u001b[2m\u001b[3m (truncated)\u001b[0m\u001b[0m\n",
      "\u001b[2m    ├─\u001b[0m\u001b[1m5\u001b[0m (str): 2024-06-25T11:53:41.941Z :: stpipe.ExposurePipeline.rampfit :: WARNING :: \n",
      "\u001b[2m    ├─\u001b[0m\u001b[1m6\u001b[0m (str): 2024-06-25T11:53:41.942Z :: stpipe.ExposurePipeline.rampfit :: INFO :: Using \u001b[2m\u001b[3m (truncated)\u001b[0m\u001b[0m\n",
      "\u001b[2m    ├─\u001b[0m\u001b[1m7\u001b[0m (str): 2024-06-25T11:53:42.321Z :: stpipe.ExposurePipeline.rampfit :: INFO :: Jump d\u001b[2m\u001b[3m (truncated)\u001b[0m\u001b[0m\n",
      "\u001b[2m    ├─\u001b[0m\u001b[1m8\u001b[0m (str): 2024-06-25T11:54:09.648Z :: stpipe.ExposurePipeline.assign_wcs :: INFO :: Ste\u001b[2m\u001b[3m (truncated)\u001b[0m\u001b[0m\n",
      "\u001b[2m    ├─\u001b[0m\u001b[1m9\u001b[0m (str): 2024-06-25T11:54:09.649Z :: stpipe.ExposurePipeline.assign_wcs :: INFO :: Ste\u001b[2m\u001b[3m (truncated)\u001b[0m\u001b[0m\n",
      "\u001b[2m    ├─\u001b[0m\u001b[1m10\u001b[0m (str): 2024-06-25T11:54:09.649Z :: stpipe.ExposurePipeline.assign_wcs :: INFO :: re\u001b[2m\u001b[3m (truncated)\u001b[0m\u001b[0m\n",
      "\u001b[2m    ├─\u001b[0m\u001b[1m11\u001b[0m (str): 2024-06-25T11:54:09.653Z :: stpipe.ExposurePipeline.assign_wcs :: INFO :: Us\u001b[2m\u001b[3m (truncated)\u001b[0m\u001b[0m\n",
      "\u001b[2m    ├─\u001b[0m\u001b[1m12\u001b[0m (str): 2024-06-25T11:54:09.749Z :: stpipe.ExposurePipeline.assign_wcs :: WARNING ::\u001b[2m\u001b[3m (truncated)\u001b[0m\u001b[0m\n",
      "\u001b[2m    ├─\u001b[0m\u001b[1m13\u001b[0m (str): 2024-06-25T11:54:09.749Z :: stpipe.ExposurePipeline.assign_wcs :: WARNING ::\u001b[2m\u001b[3m (truncated)\u001b[0m\u001b[0m\n",
      "\u001b[2m    ├─\u001b[0m\u001b[1m14\u001b[0m (str): 2024-06-25T11:54:09.749Z :: stpipe.ExposurePipeline.assign_wcs :: WARNING :: \n",
      "\u001b[2m    ├─\u001b[0m\u001b[1m15\u001b[0m (str): 2024-06-25T11:54:09.749Z :: stpipe.ExposurePipeline.assign_wcs :: WARNING ::\u001b[2m\u001b[3m (truncated)\u001b[0m\u001b[0m\n",
      "\u001b[2m    ├─\u001b[0m\u001b[1m16\u001b[0m (str): 2024-06-25T11:54:09.763Z :: stpipe.ExposurePipeline.assign_wcs :: WARNING ::\u001b[2m\u001b[3m (truncated)\u001b[0m\u001b[0m\n",
      "\u001b[2m    ├─\u001b[0m\u001b[1m17\u001b[0m (str): 2024-06-25T11:54:09.763Z :: stpipe.ExposurePipeline.assign_wcs :: WARNING :: \n",
      "\u001b[2m    ├─\u001b[0m\u001b[1m18\u001b[0m (str): 2024-06-25T11:54:09.763Z :: stpipe.ExposurePipeline.assign_wcs :: WARNING ::\u001b[2m\u001b[3m (truncated)\u001b[0m\u001b[0m\n",
      "\u001b[2m    ├─\u001b[0m\u001b[1m19\u001b[0m (str): 2024-06-25T11:54:09.763Z :: stpipe.ExposurePipeline.assign_wcs :: WARNING ::\u001b[2m\u001b[3m (truncated)\u001b[0m\u001b[0m\n",
      "\u001b[2m    ├─\u001b[0m\u001b[1m20\u001b[0m (str): 2024-06-25T11:54:09.763Z :: stpipe.ExposurePipeline.assign_wcs :: WARNING :: \n",
      "\u001b[2m    ├─\u001b[0m\u001b[1m21\u001b[0m (str): 2024-06-25T11:54:09.767Z :: stpipe.ExposurePipeline.assign_wcs :: INFO :: S_\u001b[2m\u001b[3m (truncated)\u001b[0m\u001b[0m\n",
      "\u001b[2m    ├─\u001b[0m\u001b[1m22\u001b[0m (str): 2024-06-25T11:54:09.769Z :: stpipe.ExposurePipeline.assign_wcs :: INFO :: Up\u001b[2m\u001b[3m (truncated)\u001b[0m\u001b[0m\n",
      "\u001b[2m    ├─\u001b[0m\u001b[1m23\u001b[0m (str): 2024-06-25T11:54:09.861Z :: stpipe.ExposurePipeline.flatfield :: INFO :: Ste\u001b[2m\u001b[3m (truncated)\u001b[0m\u001b[0m\n",
      "\u001b[2m    ├─\u001b[0m\u001b[1m24\u001b[0m (str): 2024-06-25T11:54:09.861Z :: stpipe.ExposurePipeline.flatfield :: INFO :: Ste\u001b[2m\u001b[3m (truncated)\u001b[0m\u001b[0m\n",
      "\u001b[2m    ├─\u001b[0m\u001b[1m25\u001b[0m (str): 2024-06-25T11:54:09.896Z :: stpipe.ExposurePipeline.flatfield :: DEBUG :: Us\u001b[2m\u001b[3m (truncated)\u001b[0m\u001b[0m\n",
      "\u001b[2m    ├─\u001b[0m\u001b[1m26\u001b[0m (str): 2024-06-25T11:54:10.503Z :: stpipe.ExposurePipeline.photom :: INFO :: Step p\u001b[2m\u001b[3m (truncated)\u001b[0m\u001b[0m\n",
      "\u001b[2m    ├─\u001b[0m\u001b[1m27\u001b[0m (str): 2024-06-25T11:54:10.504Z :: stpipe.ExposurePipeline.photom :: INFO :: Step p\u001b[2m\u001b[3m (truncated)\u001b[0m\u001b[0m\n",
      "\u001b[2m    ├─\u001b[0m\u001b[1m28\u001b[0m (str): 2024-06-25T11:54:10.538Z :: stpipe.ExposurePipeline.photom :: DEBUG :: Using\u001b[2m\u001b[3m (truncated)\u001b[0m\u001b[0m\n",
      "\u001b[2m    ├─\u001b[0m\u001b[1m29\u001b[0m (str): 2024-06-25T11:54:10.539Z :: stpipe.ExposurePipeline.photom :: DEBUG :: pixel\u001b[2m\u001b[3m (truncated)\u001b[0m\u001b[0m\n",
      "\u001b[2m    ├─\u001b[0m\u001b[1m30\u001b[0m (str): 2024-06-25T11:54:10.541Z :: stpipe.ExposurePipeline.photom :: INFO :: photmj\u001b[2m\u001b[3m (truncated)\u001b[0m\u001b[0m\n",
      "\u001b[2m    ├─\u001b[0m\u001b[1m31\u001b[0m (str): 2024-06-25T11:54:10.543Z :: stpipe.ExposurePipeline.photom :: INFO :: uncert\u001b[2m\u001b[3m (truncated)\u001b[0m\u001b[0m\n",
      "\u001b[2m    ├─\u001b[0m\u001b[1m32\u001b[0m (str): 2024-06-25T11:54:10.632Z :: stpipe.ExposurePipeline.source_detection :: INFO\u001b[2m\u001b[3m (truncated)\u001b[0m\u001b[0m\n",
      "\u001b[2m    ├─\u001b[0m\u001b[1m33\u001b[0m (str): 2024-06-25T11:54:10.633Z :: stpipe.ExposurePipeline.source_detection :: INFO\u001b[2m\u001b[3m (truncated)\u001b[0m\u001b[0m\n",
      "\u001b[2m    ├─\u001b[0m\u001b[1m34\u001b[0m (str): 2024-06-25T11:54:10.655Z :: stpipe.ExposurePipeline.source_detection :: INFO\u001b[2m\u001b[3m (truncated)\u001b[0m\u001b[0m\n",
      "\u001b[2m    ├─\u001b[0m\u001b[1m35\u001b[0m (str): 2024-06-25T11:54:32.566Z :: stpipe.ExposurePipeline.source_detection :: INFO\u001b[2m\u001b[3m (truncated)\u001b[0m\u001b[0m\n",
      "\u001b[2m    ├─\u001b[0m\u001b[1m36\u001b[0m (str): 2024-06-25T11:54:32.567Z :: stpipe.ExposurePipeline.source_detection :: INFO\u001b[2m\u001b[3m (truncated)\u001b[0m\u001b[0m\n",
      "\u001b[2m    ├─\u001b[0m\u001b[1m37\u001b[0m (str): 2024-06-25T11:54:40.326Z :: stpipe.ExposurePipeline.source_detection :: INFO\u001b[2m\u001b[3m (truncated)\u001b[0m\u001b[0m\n",
      "\u001b[2m    ├─\u001b[0m\u001b[1m38\u001b[0m (str): 2024-06-25T11:54:40.326Z :: stpipe.ExposurePipeline.source_detection :: INFO\u001b[2m\u001b[3m (truncated)\u001b[0m\u001b[0m\n",
      "\u001b[2m    ├─\u001b[0m\u001b[1m39\u001b[0m (str): 2024-06-25T11:55:21.234Z :: stpipe.ExposurePipeline.tweakreg :: INFO :: Step\u001b[2m\u001b[3m (truncated)\u001b[0m\u001b[0m\n",
      "\u001b[2m    ├─\u001b[0m\u001b[1m40\u001b[0m (str): 2024-06-25T11:55:21.236Z :: stpipe.ExposurePipeline.tweakreg :: INFO :: Step\u001b[2m\u001b[3m (truncated)\u001b[0m\u001b[0m\n",
      "\u001b[2m    ├─\u001b[0m\u001b[1m41\u001b[0m (str): 2024-06-25T11:55:21.260Z :: stpipe.ExposurePipeline.tweakreg :: INFO :: All \u001b[2m\u001b[3m (truncated)\u001b[0m\u001b[0m\n",
      "\u001b[2m    ├─\u001b[0m\u001b[1m42\u001b[0m (str): 2024-06-25T11:55:21.263Z :: stpipe.ExposurePipeline.tweakreg :: INFO :: Dete\u001b[2m\u001b[3m (truncated)\u001b[0m\u001b[0m\n",
      "\u001b[2m    ├─\u001b[0m\u001b[1m43\u001b[0m (str): 2024-06-25T11:55:21.263Z :: stpipe.ExposurePipeline.tweakreg :: INFO :: \n",
      "\u001b[2m    ├─\u001b[0m\u001b[1m44\u001b[0m (str): 2024-06-25T11:55:21.263Z :: stpipe.ExposurePipeline.tweakreg :: INFO :: Numb\u001b[2m\u001b[3m (truncated)\u001b[0m\u001b[0m\n",
      "\u001b[2m    ├─\u001b[0m\u001b[1m45\u001b[0m (str): 2024-06-25T11:55:21.263Z :: stpipe.ExposurePipeline.tweakreg :: INFO :: Image groups:\n",
      "\u001b[2m    ├─\u001b[0m\u001b[1m46\u001b[0m (str): 2024-06-25T11:55:21.287Z :: stpipe.ExposurePipeline.tweakreg :: INFO :: * Im\u001b[2m\u001b[3m (truncated)\u001b[0m\u001b[0m\n",
      "\u001b[2m    ├─\u001b[0m\u001b[1m47\u001b[0m (str): 2024-06-25T11:55:21.288Z :: stpipe.ExposurePipeline.tweakreg :: INFO ::     \u001b[2m\u001b[3m (truncated)\u001b[0m\u001b[0m\n",
      "\u001b[2m    ├─\u001b[0m\u001b[1m48\u001b[0m (str): 2024-06-25T11:55:21.288Z :: stpipe.ExposurePipeline.tweakreg :: INFO :: \n",
      "\u001b[2m    ├─\u001b[0m\u001b[1m49\u001b[0m (str): 2024-06-25T11:52:56.529Z :: stpipe.ExposurePipeline :: INFO :: Step Exposure\u001b[2m\u001b[3m (truncated)\u001b[0m\u001b[0m\n",
      "\u001b[2m    ├─\u001b[0m\u001b[1m50\u001b[0m (str): 2024-06-25T11:52:56.539Z :: stpipe.ExposurePipeline :: INFO :: Step Exposure\u001b[2m\u001b[3m (truncated)\u001b[0m\u001b[0m\n",
      "\u001b[2m    ├─\u001b[0m\u001b[1m51\u001b[0m (str): 2024-06-25T11:52:56.569Z :: stpipe.ExposurePipeline :: INFO :: First argumen\u001b[2m\u001b[3m (truncated)\u001b[0m\u001b[0m\n",
      "\u001b[2m    ├─\u001b[0m\u001b[1m52\u001b[0m (str): 2024-06-25T11:52:56.569Z :: stpipe.ExposurePipeline :: INFO :: Starting Roma\u001b[2m\u001b[3m (truncated)\u001b[0m\u001b[0m\n",
      "\u001b[2m    ├─\u001b[0m\u001b[1m53\u001b[0m (str): 2024-06-25T11:52:56.569Z :: stpipe.ExposurePipeline :: INFO :: Input file na\u001b[2m\u001b[3m (truncated)\u001b[0m\u001b[0m\n",
      "\u001b[2m    ├─\u001b[0m\u001b[1m54\u001b[0m (str): 2024-06-25T11:52:56.731Z :: stpipe.ExposurePipeline :: WARNING :: /Users/dda\u001b[2m\u001b[3m (truncated)\u001b[0m\u001b[0m\n",
      "\u001b[2m    ├─\u001b[0m\u001b[1m55\u001b[0m (str): 2024-06-25T11:52:56.731Z :: stpipe.ExposurePipeline :: WARNING ::   warnings\u001b[2m\u001b[3m (truncated)\u001b[0m\u001b[0m\n",
      "\u001b[2m    ├─\u001b[0m\u001b[1m56\u001b[0m (str): 2024-06-25T11:52:56.732Z :: stpipe.ExposurePipeline :: WARNING :: \n",
      "\u001b[2m    ├─\u001b[0m\u001b[1m57\u001b[0m (str): 2024-06-25T11:52:57.200Z :: stpipe.ExposurePipeline :: INFO :: Processing a \u001b[2m\u001b[3m (truncated)\u001b[0m\u001b[0m\n",
      "\u001b[2m    ├─\u001b[0m\u001b[1m58\u001b[0m (str): 2024-06-25T11:52:57.285Z :: stpipe.ExposurePipeline.dq_init :: INFO :: Step \u001b[2m\u001b[3m (truncated)\u001b[0m\u001b[0m\n",
      "\u001b[2m    ├─\u001b[0m\u001b[1m59\u001b[0m (str): 2024-06-25T11:52:57.286Z :: stpipe.ExposurePipeline.dq_init :: INFO :: Step \u001b[2m\u001b[3m (truncated)\u001b[0m\u001b[0m\n",
      "\u001b[2m    ├─\u001b[0m\u001b[1m60\u001b[0m (str): 2024-06-25T11:52:59.430Z :: stpipe.ExposurePipeline.dq_init :: WARNING :: /U\u001b[2m\u001b[3m (truncated)\u001b[0m\u001b[0m\n",
      "\u001b[2m    ├─\u001b[0m\u001b[1m61\u001b[0m (str): 2024-06-25T11:52:59.430Z :: stpipe.ExposurePipeline.dq_init :: WARNING ::   \u001b[2m\u001b[3m (truncated)\u001b[0m\u001b[0m\n",
      "\u001b[2m    ├─\u001b[0m\u001b[1m62\u001b[0m (str): 2024-06-25T11:52:59.430Z :: stpipe.ExposurePipeline.dq_init :: WARNING :: \n",
      "\u001b[2m    ├─\u001b[0m\u001b[1m63\u001b[0m (str): 2024-06-25T11:52:59.481Z :: stpipe.ExposurePipeline.dq_init :: INFO :: Flagg\u001b[2m\u001b[3m (truncated)\u001b[0m\u001b[0m\n",
      "\u001b[2m    ├─\u001b[0m\u001b[1m64\u001b[0m (str): 2024-06-25T11:52:59.837Z :: stpipe.ExposurePipeline.dq_init :: DEBUG :: Usin\u001b[2m\u001b[3m (truncated)\u001b[0m\u001b[0m\n",
      "\u001b[2m    ├─\u001b[0m\u001b[1m65\u001b[0m (str): 2024-06-25T11:52:59.944Z :: stpipe.ExposurePipeline.dq_init :: INFO :: Step dq_init done\n",
      "\u001b[2m    ├─\u001b[0m\u001b[1m66\u001b[0m (str): 2024-06-25T11:53:00.042Z :: stpipe.ExposurePipeline.saturation :: INFO :: St\u001b[2m\u001b[3m (truncated)\u001b[0m\u001b[0m\n",
      "\u001b[2m    ├─\u001b[0m\u001b[1m67\u001b[0m (str): 2024-06-25T11:53:00.043Z :: stpipe.ExposurePipeline.saturation :: INFO :: St\u001b[2m\u001b[3m (truncated)\u001b[0m\u001b[0m\n",
      "\u001b[2m    ├─\u001b[0m\u001b[1m68\u001b[0m (str): 2024-06-25T11:53:00.046Z :: stpipe.ExposurePipeline.saturation :: INFO :: Us\u001b[2m\u001b[3m (truncated)\u001b[0m\u001b[0m\n",
      "\u001b[2m    ├─\u001b[0m\u001b[1m69\u001b[0m (str): 2024-06-25T11:53:03.510Z :: stpipe.ExposurePipeline.saturation :: INFO :: De\u001b[2m\u001b[3m (truncated)\u001b[0m\u001b[0m\n",
      "\u001b[2m    ├─\u001b[0m\u001b[1m70\u001b[0m (str): 2024-06-25T11:53:03.623Z :: stpipe.ExposurePipeline.saturation :: INFO :: De\u001b[2m\u001b[3m (truncated)\u001b[0m\u001b[0m\n",
      "\u001b[2m    ├─\u001b[0m\u001b[1m71\u001b[0m (str): 2024-06-25T11:53:03.668Z :: stpipe.ExposurePipeline.saturation :: INFO :: St\u001b[2m\u001b[3m (truncated)\u001b[0m\u001b[0m\n",
      "\u001b[2m    ├─\u001b[0m\u001b[1m72\u001b[0m (str): 2024-06-25T11:53:03.860Z :: stpipe.ExposurePipeline.refpix :: INFO :: Step r\u001b[2m\u001b[3m (truncated)\u001b[0m\u001b[0m\n",
      "\u001b[2m    ├─\u001b[0m\u001b[1m73\u001b[0m (str): 2024-06-25T11:53:03.861Z :: stpipe.ExposurePipeline.refpix :: INFO :: Step r\u001b[2m\u001b[3m (truncated)\u001b[0m\u001b[0m\n",
      "\u001b[2m    ├─\u001b[0m\u001b[1m74\u001b[0m (str): 2024-06-25T11:53:03.861Z :: stpipe.ExposurePipeline.refpix :: DEBUG :: Openi\u001b[2m\u001b[3m (truncated)\u001b[0m\u001b[0m\n",
      "\u001b[2m    ├─\u001b[0m\u001b[1m75\u001b[0m (str): 2024-06-25T11:53:03.867Z :: stpipe.ExposurePipeline.refpix :: DEBUG :: Openi\u001b[2m\u001b[3m (truncated)\u001b[0m\u001b[0m\n",
      "\u001b[2m    ├─\u001b[0m\u001b[1m76\u001b[0m (str): 2024-06-25T11:53:03.900Z :: stpipe.ExposurePipeline.refpix :: DEBUG :: Runni\u001b[2m\u001b[3m (truncated)\u001b[0m\u001b[0m\n",
      "\u001b[2m    ├─\u001b[0m\u001b[1m77\u001b[0m (str): 2024-06-25T11:53:03.900Z :: stpipe.ExposurePipeline.refpix :: DEBUG :: Readi\u001b[2m\u001b[3m (truncated)\u001b[0m\u001b[0m\n",
      "\u001b[2m    ├─\u001b[0m\u001b[1m78\u001b[0m (str): 2024-06-25T11:53:04.714Z :: stpipe.ExposurePipeline.refpix :: DEBUG :: Remov\u001b[2m\u001b[3m (truncated)\u001b[0m\u001b[0m\n",
      "\u001b[2m    ├─\u001b[0m\u001b[1m79\u001b[0m (str): 2024-06-25T11:53:05.929Z :: stpipe.ExposurePipeline.refpix :: DEBUG :: Remov\u001b[2m\u001b[3m (truncated)\u001b[0m\u001b[0m\n",
      "\u001b[2m    ├─\u001b[0m\u001b[1m80\u001b[0m (str): 2024-06-25T11:53:05.964Z :: stpipe.ExposurePipeline.refpix :: WARNING :: /Us\u001b[2m\u001b[3m (truncated)\u001b[0m\u001b[0m\n",
      "\u001b[2m    ├─\u001b[0m\u001b[1m81\u001b[0m (str): 2024-06-25T11:53:05.964Z :: stpipe.ExposurePipeline.refpix :: WARNING ::   k\u001b[2m\u001b[3m (truncated)\u001b[0m\u001b[0m\n",
      "\u001b[2m    ├─\u001b[0m\u001b[1m82\u001b[0m (str): 2024-06-25T11:53:05.964Z :: stpipe.ExposurePipeline.refpix :: WARNING :: \n",
      "\u001b[2m    ├─\u001b[0m\u001b[1m83\u001b[0m (str): 2024-06-25T11:53:06.294Z :: stpipe.ExposurePipeline.refpix :: DEBUG :: Cosin\u001b[2m\u001b[3m (truncated)\u001b[0m\u001b[0m\n",
      "\u001b[2m    ├─\u001b[0m\u001b[1m84\u001b[0m (str): 2024-06-25T11:53:06.953Z :: stpipe.ExposurePipeline.refpix :: DEBUG :: FFT i\u001b[2m\u001b[3m (truncated)\u001b[0m\u001b[0m\n",
      "\u001b[2m    ├─\u001b[0m\u001b[1m85\u001b[0m (str): 2024-06-25T11:53:15.525Z :: stpipe.ExposurePipeline.refpix :: DEBUG :: Appli\u001b[2m\u001b[3m (truncated)\u001b[0m\u001b[0m\n",
      "\u001b[2m    ├─\u001b[0m\u001b[1m86\u001b[0m (str): 2024-06-25T11:53:15.633Z :: stpipe.ExposurePipeline.refpix :: DEBUG :: Re-ap\u001b[2m\u001b[3m (truncated)\u001b[0m\u001b[0m\n",
      "\u001b[2m    ├─\u001b[0m\u001b[1m87\u001b[0m (str): 2024-06-25T11:53:16.034Z :: stpipe.ExposurePipeline.refpix :: DEBUG :: Updat\u001b[2m\u001b[3m (truncated)\u001b[0m\u001b[0m\n",
      "\u001b[2m    ├─\u001b[0m\u001b[1m88\u001b[0m (str): 2024-06-25T11:53:16.169Z :: stpipe.ExposurePipeline.refpix :: INFO :: Step refpix done\n",
      "\u001b[2m    ├─\u001b[0m\u001b[1m89\u001b[0m (str): 2024-06-25T11:53:16.256Z :: stpipe.ExposurePipeline.linearity :: INFO :: Ste\u001b[2m\u001b[3m (truncated)\u001b[0m\u001b[0m\n",
      "\u001b[2m    ├─\u001b[0m\u001b[1m90\u001b[0m (str): 2024-06-25T11:53:16.257Z :: stpipe.ExposurePipeline.linearity :: INFO :: Ste\u001b[2m\u001b[3m (truncated)\u001b[0m\u001b[0m\n",
      "\u001b[2m    ├─\u001b[0m\u001b[1m91\u001b[0m (str): 2024-06-25T11:53:16.261Z :: stpipe.ExposurePipeline.linearity :: INFO :: Usi\u001b[2m\u001b[3m (truncated)\u001b[0m\u001b[0m\n",
      "\u001b[2m    ├─\u001b[0m\u001b[1m92\u001b[0m (str): 2024-06-25T11:53:41.139Z :: stpipe.ExposurePipeline.linearity :: INFO :: Ste\u001b[2m\u001b[3m (truncated)\u001b[0m\u001b[0m\n",
      "\u001b[2m    ├─\u001b[0m\u001b[1m93\u001b[0m (str): 2024-06-25T11:53:41.226Z :: stpipe.ExposurePipeline.dark_current :: INFO :: \u001b[2m\u001b[3m (truncated)\u001b[0m\u001b[0m\n",
      "\u001b[2m    ├─\u001b[0m\u001b[1m94\u001b[0m (str): 2024-06-25T11:53:41.227Z :: stpipe.ExposurePipeline.dark_current :: INFO :: \u001b[2m\u001b[3m (truncated)\u001b[0m\u001b[0m\n",
      "\u001b[2m    ├─\u001b[0m\u001b[1m95\u001b[0m (str): 2024-06-25T11:53:41.231Z :: stpipe.ExposurePipeline.dark_current :: INFO :: \u001b[2m\u001b[3m (truncated)\u001b[0m\u001b[0m\n",
      "\u001b[2m    ├─\u001b[0m\u001b[1m96\u001b[0m (str): 2024-06-25T11:53:41.820Z :: stpipe.ExposurePipeline.dark_current :: INFO :: \u001b[2m\u001b[3m (truncated)\u001b[0m\u001b[0m\n",
      "\u001b[2m    ├─\u001b[0m\u001b[1m97\u001b[0m (str): 2024-06-25T11:53:41.893Z :: stpipe.ExposurePipeline.rampfit :: INFO :: Step \u001b[2m\u001b[3m (truncated)\u001b[0m\u001b[0m\n",
      "\u001b[2m    ├─\u001b[0m\u001b[1m98\u001b[0m (str): 2024-06-25T11:53:41.893Z :: stpipe.ExposurePipeline.rampfit :: INFO :: Step \u001b[2m\u001b[3m (truncated)\u001b[0m\u001b[0m\n",
      "\u001b[2m    ├─\u001b[0m\u001b[1m99\u001b[0m (str): 2024-06-25T11:53:41.897Z :: stpipe.ExposurePipeline.rampfit :: INFO :: Using\u001b[2m\u001b[3m (truncated)\u001b[0m\u001b[0m\n",
      "\u001b[2m    ├─\u001b[0m\u001b[1m100\u001b[0m (str): 2024-06-25T11:53:41.941Z :: stpipe.ExposurePipeline.rampfit :: WARNING :: /\u001b[2m\u001b[3m (truncated)\u001b[0m\u001b[0m\n",
      "\u001b[2m    ├─\u001b[0m\u001b[1m101\u001b[0m (str): 2024-06-25T11:53:41.941Z :: stpipe.ExposurePipeline.rampfit :: WARNING ::  \u001b[2m\u001b[3m (truncated)\u001b[0m\u001b[0m\n",
      "\u001b[2m    ├─\u001b[0m\u001b[1m102\u001b[0m (str): 2024-06-25T11:53:41.941Z :: stpipe.ExposurePipeline.rampfit :: WARNING :: \n",
      "\u001b[2m    ├─\u001b[0m\u001b[1m103\u001b[0m (str): 2024-06-25T11:53:41.942Z :: stpipe.ExposurePipeline.rampfit :: INFO :: Usin\u001b[2m\u001b[3m (truncated)\u001b[0m\u001b[0m\n",
      "\u001b[2m    ├─\u001b[0m\u001b[1m104\u001b[0m (str): 2024-06-25T11:53:42.321Z :: stpipe.ExposurePipeline.rampfit :: INFO :: Jump\u001b[2m\u001b[3m (truncated)\u001b[0m\u001b[0m\n",
      "\u001b[2m    ├─\u001b[0m\u001b[1m105\u001b[0m (str): 2024-06-25T11:54:09.482Z :: stpipe.ExposurePipeline.rampfit :: INFO :: Step\u001b[2m\u001b[3m (truncated)\u001b[0m\u001b[0m\n",
      "\u001b[2m    ├─\u001b[0m\u001b[1m106\u001b[0m (str): 2024-06-25T11:54:09.648Z :: stpipe.ExposurePipeline.assign_wcs :: INFO :: S\u001b[2m\u001b[3m (truncated)\u001b[0m\u001b[0m\n",
      "\u001b[2m    ├─\u001b[0m\u001b[1m107\u001b[0m (str): 2024-06-25T11:54:09.649Z :: stpipe.ExposurePipeline.assign_wcs :: INFO :: S\u001b[2m\u001b[3m (truncated)\u001b[0m\u001b[0m\n",
      "\u001b[2m    ├─\u001b[0m\u001b[1m108\u001b[0m (str): 2024-06-25T11:54:09.649Z :: stpipe.ExposurePipeline.assign_wcs :: INFO :: r\u001b[2m\u001b[3m (truncated)\u001b[0m\u001b[0m\n",
      "\u001b[2m    ├─\u001b[0m\u001b[1m109\u001b[0m (str): 2024-06-25T11:54:09.653Z :: stpipe.ExposurePipeline.assign_wcs :: INFO :: U\u001b[2m\u001b[3m (truncated)\u001b[0m\u001b[0m\n",
      "\u001b[2m    ├─\u001b[0m\u001b[1m110\u001b[0m (str): 2024-06-25T11:54:09.749Z :: stpipe.ExposurePipeline.assign_wcs :: WARNING :\u001b[2m\u001b[3m (truncated)\u001b[0m\u001b[0m\n",
      "\u001b[2m    ├─\u001b[0m\u001b[1m111\u001b[0m (str): 2024-06-25T11:54:09.749Z :: stpipe.ExposurePipeline.assign_wcs :: WARNING :\u001b[2m\u001b[3m (truncated)\u001b[0m\u001b[0m\n",
      "\u001b[2m    ├─\u001b[0m\u001b[1m112\u001b[0m (str): 2024-06-25T11:54:09.749Z :: stpipe.ExposurePipeline.assign_wcs :: WARNING :: \n",
      "\u001b[2m    ├─\u001b[0m\u001b[1m113\u001b[0m (str): 2024-06-25T11:54:09.749Z :: stpipe.ExposurePipeline.assign_wcs :: WARNING :\u001b[2m\u001b[3m (truncated)\u001b[0m\u001b[0m\n",
      "\u001b[2m    ├─\u001b[0m\u001b[1m114\u001b[0m (str): 2024-06-25T11:54:09.763Z :: stpipe.ExposurePipeline.assign_wcs :: WARNING :\u001b[2m\u001b[3m (truncated)\u001b[0m\u001b[0m\n",
      "\u001b[2m    ├─\u001b[0m\u001b[1m115\u001b[0m (str): 2024-06-25T11:54:09.763Z :: stpipe.ExposurePipeline.assign_wcs :: WARNING :: \n",
      "\u001b[2m    ├─\u001b[0m\u001b[1m116\u001b[0m (str): 2024-06-25T11:54:09.763Z :: stpipe.ExposurePipeline.assign_wcs :: WARNING :\u001b[2m\u001b[3m (truncated)\u001b[0m\u001b[0m\n",
      "\u001b[2m    ├─\u001b[0m\u001b[1m117\u001b[0m (str): 2024-06-25T11:54:09.763Z :: stpipe.ExposurePipeline.assign_wcs :: WARNING :\u001b[2m\u001b[3m (truncated)\u001b[0m\u001b[0m\n",
      "\u001b[2m    ├─\u001b[0m\u001b[1m118\u001b[0m (str): 2024-06-25T11:54:09.763Z :: stpipe.ExposurePipeline.assign_wcs :: WARNING :: \n",
      "\u001b[2m    ├─\u001b[0m\u001b[1m119\u001b[0m (str): 2024-06-25T11:54:09.767Z :: stpipe.ExposurePipeline.assign_wcs :: INFO :: S\u001b[2m\u001b[3m (truncated)\u001b[0m\u001b[0m\n",
      "\u001b[2m    ├─\u001b[0m\u001b[1m120\u001b[0m (str): 2024-06-25T11:54:09.769Z :: stpipe.ExposurePipeline.assign_wcs :: INFO :: U\u001b[2m\u001b[3m (truncated)\u001b[0m\u001b[0m\n",
      "\u001b[2m    ├─\u001b[0m\u001b[1m121\u001b[0m (str): 2024-06-25T11:54:09.771Z :: stpipe.ExposurePipeline.assign_wcs :: INFO :: S\u001b[2m\u001b[3m (truncated)\u001b[0m\u001b[0m\n",
      "\u001b[2m    ├─\u001b[0m\u001b[1m122\u001b[0m (str): 2024-06-25T11:54:09.861Z :: stpipe.ExposurePipeline.flatfield :: INFO :: St\u001b[2m\u001b[3m (truncated)\u001b[0m\u001b[0m\n",
      "\u001b[2m    ├─\u001b[0m\u001b[1m123\u001b[0m (str): 2024-06-25T11:54:09.861Z :: stpipe.ExposurePipeline.flatfield :: INFO :: St\u001b[2m\u001b[3m (truncated)\u001b[0m\u001b[0m\n",
      "\u001b[2m    ├─\u001b[0m\u001b[1m124\u001b[0m (str): 2024-06-25T11:54:09.896Z :: stpipe.ExposurePipeline.flatfield :: DEBUG :: U\u001b[2m\u001b[3m (truncated)\u001b[0m\u001b[0m\n",
      "\u001b[2m    ├─\u001b[0m\u001b[1m125\u001b[0m (str): 2024-06-25T11:54:10.412Z :: stpipe.ExposurePipeline.flatfield :: INFO :: St\u001b[2m\u001b[3m (truncated)\u001b[0m\u001b[0m\n",
      "\u001b[2m    ├─\u001b[0m\u001b[1m126\u001b[0m (str): 2024-06-25T11:54:10.503Z :: stpipe.ExposurePipeline.photom :: INFO :: Step \u001b[2m\u001b[3m (truncated)\u001b[0m\u001b[0m\n",
      "\u001b[2m    ├─\u001b[0m\u001b[1m127\u001b[0m (str): 2024-06-25T11:54:10.504Z :: stpipe.ExposurePipeline.photom :: INFO :: Step \u001b[2m\u001b[3m (truncated)\u001b[0m\u001b[0m\n",
      "\u001b[2m    ├─\u001b[0m\u001b[1m128\u001b[0m (str): 2024-06-25T11:54:10.538Z :: stpipe.ExposurePipeline.photom :: DEBUG :: Usin\u001b[2m\u001b[3m (truncated)\u001b[0m\u001b[0m\n",
      "\u001b[2m    ├─\u001b[0m\u001b[1m129\u001b[0m (str): 2024-06-25T11:54:10.539Z :: stpipe.ExposurePipeline.photom :: DEBUG :: pixe\u001b[2m\u001b[3m (truncated)\u001b[0m\u001b[0m\n",
      "\u001b[2m    ├─\u001b[0m\u001b[1m130\u001b[0m (str): 2024-06-25T11:54:10.541Z :: stpipe.ExposurePipeline.photom :: INFO :: photm\u001b[2m\u001b[3m (truncated)\u001b[0m\u001b[0m\n",
      "\u001b[2m    ├─\u001b[0m\u001b[1m131\u001b[0m (str): 2024-06-25T11:54:10.543Z :: stpipe.ExposurePipeline.photom :: INFO :: uncer\u001b[2m\u001b[3m (truncated)\u001b[0m\u001b[0m\n",
      "\u001b[2m    ├─\u001b[0m\u001b[1m132\u001b[0m (str): 2024-06-25T11:54:10.546Z :: stpipe.ExposurePipeline.photom :: INFO :: Step photom done\n",
      "\u001b[2m    ├─\u001b[0m\u001b[1m133\u001b[0m (str): 2024-06-25T11:54:10.632Z :: stpipe.ExposurePipeline.source_detection :: INF\u001b[2m\u001b[3m (truncated)\u001b[0m\u001b[0m\n",
      "\u001b[2m    ├─\u001b[0m\u001b[1m134\u001b[0m (str): 2024-06-25T11:54:10.633Z :: stpipe.ExposurePipeline.source_detection :: INF\u001b[2m\u001b[3m (truncated)\u001b[0m\u001b[0m\n",
      "\u001b[2m    ├─\u001b[0m\u001b[1m135\u001b[0m (str): 2024-06-25T11:54:10.655Z :: stpipe.ExposurePipeline.source_detection :: INF\u001b[2m\u001b[3m (truncated)\u001b[0m\u001b[0m\n",
      "\u001b[2m    ├─\u001b[0m\u001b[1m136\u001b[0m (str): 2024-06-25T11:54:32.566Z :: stpipe.ExposurePipeline.source_detection :: INF\u001b[2m\u001b[3m (truncated)\u001b[0m\u001b[0m\n",
      "\u001b[2m    └─\u001b[0m\u001b[2m\u001b[3m15 not shown\u001b[0m\u001b[0m\n",
      "\u001b[2m\u001b[3mSome nodes not shown.\u001b[0m\u001b[0m\n"
     ]
    }
   ],
   "source": [
    "asdf.info(af, max_rows=200)"
   ]
  },
  {
   "cell_type": "code",
   "execution_count": 70,
   "id": "3cd9233c-2a27-4607-b689-fb2557a1e6ca",
   "metadata": {},
   "outputs": [
    {
     "data": {
      "text/plain": [
       "\u001b[2m\u001b[3mNo results found.\u001b[0m\u001b[0m"
      ]
     },
     "execution_count": 70,
     "metadata": {},
     "output_type": "execute_result"
    }
   ],
   "source": [
    "af.search(key='exposure')"
   ]
  },
  {
   "cell_type": "markdown",
   "id": "82d3541b-7358-46ff-8165-5d86664f6bd8",
   "metadata": {},
   "source": [
    "Modifying a value is done by assigning it."
   ]
  },
  {
   "cell_type": "code",
   "execution_count": 23,
   "id": "8e341695-7d35-42e7-ace6-3b222f2aecbc",
   "metadata": {},
   "outputs": [
    {
     "name": "stdout",
     "output_type": "stream",
     "text": [
      "133.76\n",
      "200\n"
     ]
    }
   ],
   "source": [
    "print(af['roman']['meta']['exposure']['exposure_time'])\n",
    "af['roman']['meta']['exposure']['exposure_time'] = 200\n",
    "print(af['roman']['meta']['exposure']['exposure_time'])"
   ]
  },
  {
   "cell_type": "code",
   "execution_count": 45,
   "id": "568f81f7-f1dc-4d78-861b-9b94c8d44ee6",
   "metadata": {},
   "outputs": [
    {
     "ename": "ValidationError",
     "evalue": "'FW23' is not one of ['F062', 'F087', 'F106', 'F129', 'F146', 'F158', 'F184', 'F213', 'GRISM', 'PRISM', 'DARK']\n\nFailed validating 'enum' in schema['properties']['optical_element']:\n    {'$schema': 'asdf://stsci.edu/datamodels/roman/schemas/rad_schema-1.0.0',\n     'description': 'Name of the filter element used. See the RDox Optical '\n                    'Element page for more\\n'\n                    'details on available optical elements and their '\n                    'properties.\\n',\n     'enum': ['F062',\n              'F087',\n              'F106',\n              'F129',\n              'F146',\n              'F158',\n              'F184',\n              'F213',\n              'GRISM',\n              'PRISM',\n              'DARK'],\n     'id': 'asdf://stsci.edu/datamodels/roman/schemas/wfi_optical_element-1.0.0',\n     'title': 'Optical Element',\n     'type': 'string'}\n\nOn instance['optical_element']:\n    'FW23'",
     "output_type": "error",
     "traceback": [
      "\u001b[0;31m---------------------------------------------------------------------------\u001b[0m",
      "\u001b[0;31mValidationError\u001b[0m                           Traceback (most recent call last)",
      "Cell \u001b[0;32mIn[45], line 2\u001b[0m\n\u001b[1;32m      1\u001b[0m af[\u001b[38;5;124m'\u001b[39m\u001b[38;5;124mroman\u001b[39m\u001b[38;5;124m'\u001b[39m][\u001b[38;5;124m'\u001b[39m\u001b[38;5;124mmeta\u001b[39m\u001b[38;5;124m'\u001b[39m][\u001b[38;5;124m'\u001b[39m\u001b[38;5;124mexposure\u001b[39m\u001b[38;5;124m'\u001b[39m][\u001b[38;5;124m'\u001b[39m\u001b[38;5;124mexposure_time\u001b[39m\u001b[38;5;124m'\u001b[39m] \u001b[38;5;241m=\u001b[39m \u001b[38;5;241m200\u001b[39m\n\u001b[0;32m----> 2\u001b[0m \u001b[43maf\u001b[49m\u001b[38;5;241;43m.\u001b[39;49m\u001b[43mwrite_to\u001b[49m\u001b[43m(\u001b[49m\u001b[38;5;124;43m'\u001b[39;49m\u001b[38;5;124;43mtest.asdf\u001b[39;49m\u001b[38;5;124;43m'\u001b[39;49m\u001b[43m)\u001b[49m\n",
      "File \u001b[0;32m~/opt/anaconda3/envs/romanrelease/lib/python3.11/site-packages/asdf/_asdf.py:1331\u001b[0m, in \u001b[0;36mAsdfFile.write_to\u001b[0;34m(self, fd, all_array_storage, all_array_compression, compression_kwargs, pad_blocks, include_block_index, version)\u001b[0m\n\u001b[1;32m   1329\u001b[0m \u001b[38;5;28;01mtry\u001b[39;00m:\n\u001b[1;32m   1330\u001b[0m     \u001b[38;5;28;01mwith\u001b[39;00m generic_io\u001b[38;5;241m.\u001b[39mget_file(fd, mode\u001b[38;5;241m=\u001b[39m\u001b[38;5;124m\"\u001b[39m\u001b[38;5;124mw\u001b[39m\u001b[38;5;124m\"\u001b[39m) \u001b[38;5;28;01mas\u001b[39;00m fd:\n\u001b[0;32m-> 1331\u001b[0m         \u001b[38;5;28;43mself\u001b[39;49m\u001b[38;5;241;43m.\u001b[39;49m\u001b[43m_serial_write\u001b[49m\u001b[43m(\u001b[49m\u001b[43mfd\u001b[49m\u001b[43m,\u001b[49m\u001b[43m \u001b[49m\u001b[43mpad_blocks\u001b[49m\u001b[43m,\u001b[49m\u001b[43m \u001b[49m\u001b[43minclude_block_index\u001b[49m\u001b[43m)\u001b[49m\n\u001b[1;32m   1332\u001b[0m \u001b[38;5;28;01mfinally\u001b[39;00m:\n\u001b[1;32m   1333\u001b[0m     \u001b[38;5;28;01mif\u001b[39;00m version \u001b[38;5;129;01mis\u001b[39;00m \u001b[38;5;129;01mnot\u001b[39;00m \u001b[38;5;28;01mNone\u001b[39;00m:\n",
      "File \u001b[0;32m~/opt/anaconda3/envs/romanrelease/lib/python3.11/site-packages/asdf/_asdf.py:1098\u001b[0m, in \u001b[0;36mAsdfFile._serial_write\u001b[0;34m(self, fd, pad_blocks, include_block_index)\u001b[0m\n\u001b[1;32m   1095\u001b[0m     \u001b[38;5;28;01mif\u001b[39;00m \u001b[38;5;124m\"\u001b[39m\u001b[38;5;124mhistory\u001b[39m\u001b[38;5;124m\"\u001b[39m \u001b[38;5;129;01min\u001b[39;00m \u001b[38;5;28mself\u001b[39m\u001b[38;5;241m.\u001b[39m_tree:\n\u001b[1;32m   1096\u001b[0m         tree[\u001b[38;5;124m\"\u001b[39m\u001b[38;5;124mhistory\u001b[39m\u001b[38;5;124m\"\u001b[39m] \u001b[38;5;241m=\u001b[39m copy\u001b[38;5;241m.\u001b[39mdeepcopy(\u001b[38;5;28mself\u001b[39m\u001b[38;5;241m.\u001b[39m_tree[\u001b[38;5;124m\"\u001b[39m\u001b[38;5;124mhistory\u001b[39m\u001b[38;5;124m\"\u001b[39m])\n\u001b[0;32m-> 1098\u001b[0m     \u001b[38;5;28;43mself\u001b[39;49m\u001b[38;5;241;43m.\u001b[39;49m\u001b[43m_write_tree\u001b[49m\u001b[43m(\u001b[49m\u001b[43mtree\u001b[49m\u001b[43m,\u001b[49m\u001b[43m \u001b[49m\u001b[43mfd\u001b[49m\u001b[43m,\u001b[49m\u001b[43m \u001b[49m\u001b[43mpad_blocks\u001b[49m\u001b[43m)\u001b[49m\n\u001b[1;32m   1099\u001b[0m     \u001b[38;5;28mself\u001b[39m\u001b[38;5;241m.\u001b[39m_blocks\u001b[38;5;241m.\u001b[39mwrite(pad_blocks, include_block_index)\n\u001b[1;32m   1100\u001b[0m \u001b[38;5;28;01mfinally\u001b[39;00m:\n",
      "File \u001b[0;32m~/opt/anaconda3/envs/romanrelease/lib/python3.11/site-packages/asdf/_asdf.py:1070\u001b[0m, in \u001b[0;36mAsdfFile._write_tree\u001b[0;34m(self, tree, fd, pad_blocks)\u001b[0m\n\u001b[1;32m   1067\u001b[0m         \u001b[38;5;28;01melse\u001b[39;00m:\n\u001b[1;32m   1068\u001b[0m             tagged_tree\u001b[38;5;241m.\u001b[39mpop(\u001b[38;5;124m\"\u001b[39m\u001b[38;5;124mhistory\u001b[39m\u001b[38;5;124m\"\u001b[39m, \u001b[38;5;28;01mNone\u001b[39;00m)\n\u001b[0;32m-> 1070\u001b[0m     \u001b[43myamlutil\u001b[49m\u001b[38;5;241;43m.\u001b[39;49m\u001b[43mdump_tree\u001b[49m\u001b[43m(\u001b[49m\n\u001b[1;32m   1071\u001b[0m \u001b[43m        \u001b[49m\u001b[43mtree\u001b[49m\u001b[43m,\u001b[49m\n\u001b[1;32m   1072\u001b[0m \u001b[43m        \u001b[49m\u001b[43mfd\u001b[49m\u001b[43m,\u001b[49m\n\u001b[1;32m   1073\u001b[0m \u001b[43m        \u001b[49m\u001b[38;5;28;43mself\u001b[39;49m\u001b[43m,\u001b[49m\n\u001b[1;32m   1074\u001b[0m \u001b[43m        \u001b[49m\u001b[43mtree_finalizer\u001b[49m\u001b[38;5;241;43m=\u001b[39;49m\u001b[43m_tree_finalizer\u001b[49m\u001b[43m,\u001b[49m\n\u001b[1;32m   1075\u001b[0m \u001b[43m        \u001b[49m\u001b[43m_serialization_context\u001b[49m\u001b[38;5;241;43m=\u001b[39;49m\u001b[43mserialization_context\u001b[49m\u001b[43m,\u001b[49m\n\u001b[1;32m   1076\u001b[0m \u001b[43m    \u001b[49m\u001b[43m)\u001b[49m\n\u001b[1;32m   1078\u001b[0m \u001b[38;5;28;01mif\u001b[39;00m pad_blocks:\n\u001b[1;32m   1079\u001b[0m     padding \u001b[38;5;241m=\u001b[39m util\u001b[38;5;241m.\u001b[39mcalculate_padding(fd\u001b[38;5;241m.\u001b[39mtell(), pad_blocks, fd\u001b[38;5;241m.\u001b[39mblock_size)\n",
      "File \u001b[0;32m~/opt/anaconda3/envs/romanrelease/lib/python3.11/site-packages/asdf/yamlutil.py:397\u001b[0m, in \u001b[0;36mdump_tree\u001b[0;34m(tree, fd, ctx, tree_finalizer, _serialization_context)\u001b[0m\n\u001b[1;32m    395\u001b[0m \u001b[38;5;28;01mif\u001b[39;00m tree_finalizer \u001b[38;5;129;01mis\u001b[39;00m \u001b[38;5;129;01mnot\u001b[39;00m \u001b[38;5;28;01mNone\u001b[39;00m:\n\u001b[1;32m    396\u001b[0m     tree_finalizer(tree)\n\u001b[0;32m--> 397\u001b[0m \u001b[43mschema\u001b[49m\u001b[38;5;241;43m.\u001b[39;49m\u001b[43mvalidate\u001b[49m\u001b[43m(\u001b[49m\u001b[43mtree\u001b[49m\u001b[43m,\u001b[49m\u001b[43m \u001b[49m\u001b[43mctx\u001b[49m\u001b[43m)\u001b[49m\n\u001b[1;32m    399\u001b[0m \u001b[38;5;66;03m# add yaml %TAG definitions from extensions\u001b[39;00m\n\u001b[1;32m    400\u001b[0m \u001b[38;5;28;01mif\u001b[39;00m _serialization_context:\n",
      "File \u001b[0;32m~/opt/anaconda3/envs/romanrelease/lib/python3.11/site-packages/asdf/schema.py:649\u001b[0m, in \u001b[0;36mvalidate\u001b[0;34m(instance, ctx, schema, validators, reading, *args, **kwargs)\u001b[0m\n\u001b[1;32m    646\u001b[0m     ctx \u001b[38;5;241m=\u001b[39m AsdfFile()\n\u001b[1;32m    648\u001b[0m validator \u001b[38;5;241m=\u001b[39m get_validator({} \u001b[38;5;28;01mif\u001b[39;00m schema \u001b[38;5;129;01mis\u001b[39;00m \u001b[38;5;28;01mNone\u001b[39;00m \u001b[38;5;28;01melse\u001b[39;00m schema, ctx, validators, \u001b[38;5;28;01mNone\u001b[39;00m, \u001b[38;5;241m*\u001b[39margs, \u001b[38;5;241m*\u001b[39m\u001b[38;5;241m*\u001b[39mkwargs)\n\u001b[0;32m--> 649\u001b[0m \u001b[43mvalidator\u001b[49m\u001b[38;5;241;43m.\u001b[39;49m\u001b[43mvalidate\u001b[49m\u001b[43m(\u001b[49m\u001b[43minstance\u001b[49m\u001b[43m)\u001b[49m\n\u001b[1;32m    651\u001b[0m additional_validators \u001b[38;5;241m=\u001b[39m [_validate_large_literals]\n\u001b[1;32m    652\u001b[0m \u001b[38;5;28;01mif\u001b[39;00m ctx\u001b[38;5;241m.\u001b[39mversion \u001b[38;5;241m>\u001b[39m\u001b[38;5;241m=\u001b[39m versioning\u001b[38;5;241m.\u001b[39mRESTRICTED_KEYS_MIN_VERSION:\n",
      "File \u001b[0;32m~/opt/anaconda3/envs/romanrelease/lib/python3.11/site-packages/asdf/_jsonschema/validators.py:312\u001b[0m, in \u001b[0;36mcreate.<locals>.Validator.validate\u001b[0;34m(self, *args, **kwargs)\u001b[0m\n\u001b[1;32m    310\u001b[0m \u001b[38;5;28;01mdef\u001b[39;00m \u001b[38;5;21mvalidate\u001b[39m(\u001b[38;5;28mself\u001b[39m, \u001b[38;5;241m*\u001b[39margs, \u001b[38;5;241m*\u001b[39m\u001b[38;5;241m*\u001b[39mkwargs):\n\u001b[1;32m    311\u001b[0m     \u001b[38;5;28;01mfor\u001b[39;00m error \u001b[38;5;129;01min\u001b[39;00m \u001b[38;5;28mself\u001b[39m\u001b[38;5;241m.\u001b[39miter_errors(\u001b[38;5;241m*\u001b[39margs, \u001b[38;5;241m*\u001b[39m\u001b[38;5;241m*\u001b[39mkwargs):\n\u001b[0;32m--> 312\u001b[0m         \u001b[38;5;28;01mraise\u001b[39;00m error\n",
      "\u001b[0;31mValidationError\u001b[0m: 'FW23' is not one of ['F062', 'F087', 'F106', 'F129', 'F146', 'F158', 'F184', 'F213', 'GRISM', 'PRISM', 'DARK']\n\nFailed validating 'enum' in schema['properties']['optical_element']:\n    {'$schema': 'asdf://stsci.edu/datamodels/roman/schemas/rad_schema-1.0.0',\n     'description': 'Name of the filter element used. See the RDox Optical '\n                    'Element page for more\\n'\n                    'details on available optical elements and their '\n                    'properties.\\n',\n     'enum': ['F062',\n              'F087',\n              'F106',\n              'F129',\n              'F146',\n              'F158',\n              'F184',\n              'F213',\n              'GRISM',\n              'PRISM',\n              'DARK'],\n     'id': 'asdf://stsci.edu/datamodels/roman/schemas/wfi_optical_element-1.0.0',\n     'title': 'Optical Element',\n     'type': 'string'}\n\nOn instance['optical_element']:\n    'FW23'"
     ]
    }
   ],
   "source": [
    "af['roman']['meta']['exposure']['exposure_time'] = 200\n",
    "af.write_to('test.asdf')"
   ]
  },
  {
   "cell_type": "markdown",
   "id": "0e37e494-5600-4466-944c-eb463c67a99d",
   "metadata": {},
   "source": [
    "**Exercise 1**\n",
    "\n",
    "- Look up the parameters to the *asdf.open* function and experiemnt with opening the same file passing different parameters\n",
    "  - `memmap=True` which memory maps the file on disk\n",
    "  - `lazy_tree=True` which will not load objects in memory until they are accessed.\n",
    "- Use `asdf.info` with different parameters to see most of the file.\n",
    "- Use `search` to find the path to `optical_element` and change it.\n",
    "- Run `asdf.validate` to validate the change in memory"
   ]
  },
  {
   "cell_type": "markdown",
   "id": "e9c111aa-a58e-44a0-8031-48b37ae63316",
   "metadata": {},
   "source": [
    "ASDF uses schemas to validate files. In the case of `optical_element` the schema includes an enumerated list of the allowed values. Although the type is correct (string) the file does not validate because the assigned value is not one of the allowed ones."
   ]
  },
  {
   "cell_type": "markdown",
   "id": "6c777e31-1e37-4ca4-9a3f-954966b210c7",
   "metadata": {},
   "source": [
    "### Creating ASDF Files\n",
    "\n",
    "\n",
    "ASDF files store their information using a tree (nested key/value) structure. This allows the stored information to be hierarchically organized within the file. Without any extensions, this tree is a nested combination of basic data structures:\n",
    "\n",
    "- maps\n",
    "- lists\n",
    "- arrays\n",
    "- strings\n",
    "- booleans\n",
    "- numbers\n",
    "\n",
    "All of which are stored using yaml. \n",
    "\n",
    "The Python analogs for these types are:\n",
    "maps -> dict,\n",
    "lists -> list,\n",
    "arrays -> np.ndarray,\n",
    "strings -> str,\n",
    "booleans -> bool,\n",
    "and numbers -> int, float, complex (depending on the type of number).\n",
    "\n",
    "Where np.ndarray are treated in a special way distinct from regular yaml (binary blocks). Note that due to limits imposed by Python, dictionary keys are limited to bool, int, or str types only, while value information can be any of the above data types.\n",
    "\n",
    "Typically, when creating an ASDF file using the python library, one begins by creating a nested Python dictionary which corresponds to the nested tree structure one wants the file to have. Indeed, one can interact with any AsdfFile object as if it were a dictionary representing this tree structure.\n",
    "\n",
    "Note that more complex structures (ones not directly supported by yaml) are denoted using yaml tags. However, those tagged \"sub-trees\" are still comprised of the above basic structures and other tagged sub-trees. Additional tagged objects are supported via ASDF extensions."
   ]
  },
  {
   "cell_type": "code",
   "execution_count": 49,
   "id": "c9e308f7-54cc-4e31-8bc7-295e8f57fd0e",
   "metadata": {},
   "outputs": [],
   "source": [
    "af = asdf.AsdfFile()\n",
    "tree = {'greetings': 'Hello'}\n",
    "af.tree = tree\n",
    "af.write_to(\"basic_types.asdf\")"
   ]
  },
  {
   "cell_type": "markdown",
   "id": "c4308656-0c05-4939-92f6-c8a258456b31",
   "metadata": {},
   "source": [
    "ASDF can save arrays, in particular numpy arrays (np.array). Indeed, much of ASDF is dedicated to efficiently saving arrays.\n",
    "\n",
    "For example, saving a random 8x8 numpy array:"
   ]
  },
  {
   "cell_type": "code",
   "execution_count": 54,
   "id": "89008228-9e82-4422-98e2-24687d59ed18",
   "metadata": {},
   "outputs": [],
   "source": [
    "# note the shortcut - tree is used silently\n",
    "import numpy as np\n",
    "\n",
    "af = asdf.AsdfFile()\n",
    "af[\"random_array\"] = np.random.rand(8, 8)\n",
    "af.write_to(\"random.asdf\")"
   ]
  },
  {
   "cell_type": "markdown",
   "id": "5b1f6f82-6b87-4c8f-a58b-82f8efe64c34",
   "metadata": {},
   "source": [
    "**Exercise 2: Create an ASDF file which serializes** \n",
    "\n",
    "- an example of each of the above primitive types\n",
    "- a numpy array\n",
    "- Bonus: Save a compressed array to disk. *Hint:* Look at the write_to parameters to see the available compression algorithms."
   ]
  },
  {
   "cell_type": "code",
   "execution_count": 71,
   "id": "5279f5e0-232b-4b0f-b868-ffcec8dc484a",
   "metadata": {},
   "outputs": [],
   "source": [
    "# Enter solution here\n"
   ]
  },
  {
   "cell_type": "markdown",
   "id": "070e85f8-292e-4a4b-aa75-16b2799e8570",
   "metadata": {},
   "source": [
    "As mentioned above, other types of objects can also be serialized by ASDF including objects outside the ASDF-standard. Support for these objects requires the creation of an ASDF extension. The process of creating an ASDF extension is describes in the documentation and is beyond the scope of this tutorial. However, several extensions already exist and next we'll look at what custom types can be serialized.\n",
    "In general, using the extensions is transparent to end users. All one needs to do is to initialize a supported object in memory and assign it to the ASDF tree. Serializing is taken care of by the extension. Once a file is read the extension has utilities to deserialize the object and regenerate it in memory.\n",
    "\n",
    "Bonus: Save a compressed array to disk. Look at the `write_to` parameters to see the available compression algorithms."
   ]
  },
  {
   "cell_type": "code",
   "execution_count": 55,
   "id": "08b59a1d-9826-40d2-9e93-4891cfa5935b",
   "metadata": {},
   "outputs": [],
   "source": [
    "# Enter solution here"
   ]
  },
  {
   "cell_type": "markdown",
   "id": "df2249dc-79a6-4088-966d-3d462e4948e5",
   "metadata": {},
   "source": [
    "#### Transforms\n",
    "\n",
    "The astropy.modeling package provides a framework for representing models and performing model evaluation and fitting. All of the astropy.modeling classes are serializable in ASDF."
   ]
  },
  {
   "cell_type": "markdown",
   "id": "cc93bfef-0591-45b2-9115-6f2867ba6a52",
   "metadata": {},
   "source": [
    "**Exercise 3: Serialize a transform**\n",
    "\n",
    "Serialize a Gaussian model. \n",
    "*Hint:* All models are under common namespace. Models are initialized by passing parameters to them. The name of the parameters is in the `param_names` attribute."
   ]
  },
  {
   "cell_type": "code",
   "execution_count": 57,
   "id": "774106cf-e018-4ddc-a450-858c8ccfe152",
   "metadata": {},
   "outputs": [
    {
     "data": {
      "text/plain": [
       "('amplitude', 'mean', 'stddev')"
      ]
     },
     "execution_count": 57,
     "metadata": {},
     "output_type": "execute_result"
    }
   ],
   "source": [
    "from astropy.modeling import models\n",
    "\n",
    "models.Gaussian1D.param_names"
   ]
  },
  {
   "cell_type": "code",
   "execution_count": null,
   "id": "202e8c4f-951e-4a8b-8449-08784ee0f0b4",
   "metadata": {},
   "outputs": [],
   "source": [
    "# Enter solution here"
   ]
  },
  {
   "cell_type": "markdown",
   "id": "bab0345f-05ea-40b8-9aff-72e602e4c25e",
   "metadata": {},
   "source": [
    "#### Coordinate Frames\n",
    "\n",
    "The `astropy.coordinates` package provides classes for representing a variety of celestial/spatial coordinates and their velocity components, as well as tools for converting between common coordinate systems in a uniform way. It also has a `SpectralCoordinate` and `StokeCoordinate` classes."
   ]
  },
  {
   "cell_type": "code",
   "execution_count": 61,
   "id": "be116a6f-a1e4-4822-b3d0-631805f3fcef",
   "metadata": {},
   "outputs": [],
   "source": [
    "from astropy import coordinates as coord\n",
    "\n",
    "sky = coord.SkyCoord(5.6, -70.2, unit=('deg', 'deg'))\n",
    "af = asdf.AsdfFile()\n",
    "af['sky'] = sky\n",
    "af.write_to('sky.asdf')"
   ]
  },
  {
   "cell_type": "markdown",
   "id": "b48ba84c-03ca-4ede-83c9-7b7b5f9171fc",
   "metadata": {},
   "source": [
    "**Exercise 4: Serialize a coordinate frame**\n",
    "\n",
    "*Hint:* `astropy.coordinates` has classes for commonly used celestial frames. Serialize an FK5 frame, no data."
   ]
  },
  {
   "cell_type": "code",
   "execution_count": null,
   "id": "8d557370-d25e-495d-ac46-f654a8e39ce4",
   "metadata": {},
   "outputs": [],
   "source": [
    "# Enter solution here"
   ]
  },
  {
   "cell_type": "markdown",
   "id": "d5b1ac55-2032-433e-8648-d154871f7acf",
   "metadata": {},
   "source": [
    "#### Time\n",
    "\n",
    "The astropy.time package provides functionality for manipulating times and dates. To initialize it supply a string and a format, or supply a datetime object.\n",
    "\n",
    "**Exercise 5: Serialize a Time object in isot format**\n",
    "\n",
    "*Hint:* To generate a Time object use\n",
    "```\n",
    "from astropy.time import Time\n",
    "\n",
    "times = ['1999-01-01T00:00:00.123456789', '2010-01-01T00:00:00']\n",
    "t = Time(times, format='isot', scale='utc')\n",
    "```"
   ]
  },
  {
   "cell_type": "code",
   "execution_count": 63,
   "id": "c3948951-ea67-4e67-965e-9c0c4b00ec44",
   "metadata": {},
   "outputs": [],
   "source": [
    "# Enter solution here\n",
    "\n"
   ]
  },
  {
   "cell_type": "markdown",
   "id": "3fd0a52f-b4d4-4f6e-ba53-0e491a3cda55",
   "metadata": {},
   "source": [
    "#### Units and Quantities\n",
    "\n",
    "`astropy.units` handles defining, converting between, and performing arithmetic with physical quantities, such as meters, seconds, Hz, etc. \n",
    "\n",
    "**Exercise 6: Serialize an array of wavelengths in microns**\n",
    "\n",
    "*Hint:* To generate a quantity representing an array of wavelengths in microns use\n",
    "\n",
    "```\n",
    "from astropy import units as u\n",
    "\n",
    "q = np.linspace(.5,  2.6, 10) * u.um\n",
    "```"
   ]
  },
  {
   "cell_type": "code",
   "execution_count": 65,
   "id": "13ef6af6-1823-4b04-ab13-ea54928bbd9b",
   "metadata": {},
   "outputs": [],
   "source": [
    "# Enter solution here\n",
    "\n"
   ]
  },
  {
   "cell_type": "markdown",
   "id": "a5709d86-811c-4c20-ba10-1466fcf91194",
   "metadata": {},
   "source": [
    "#### Tables\n",
    "\n",
    "`astropy.table` provides functionality for storing and manipulating heterogeneous tables of data in a way that is familiar to numpy users.\n",
    "\n",
    "\n",
    "**Exercise 7: Serialize an astropy table with quantities**\n",
    "\n",
    "\n",
    "*Hint:* Astropy supports tables with quantities. To generate a table use\n",
    "\n",
    "```\n",
    "from astropy.table import QTable\n",
    "import astropy.units as u\n",
    "import numpy as np\n",
    "\n",
    "a = np.array([1, 4, 5], dtype=np.int32)\n",
    "b = [2.0, 5.0, 8.5]\n",
    "c = ['x', 'y', 'z']\n",
    "d = [10, 20, 30] * u.m / u.s\n",
    "\n",
    "t = QTable([a, b, c, d],\n",
    "           names=('a', 'b', 'c', 'd'),\n",
    "           meta={'name': 'first table'})\n",
    "```\n",
    "\n",
    "Look at the resulting file.\n",
    "\n"
   ]
  },
  {
   "cell_type": "code",
   "execution_count": null,
   "id": "773fb40f-56f7-48a3-85bf-f94101cae249",
   "metadata": {},
   "outputs": [],
   "source": [
    "# Enter solution here\n",
    "\n"
   ]
  },
  {
   "cell_type": "markdown",
   "id": "269cb181-66ef-4db5-9f77-7e9e2acac3e0",
   "metadata": {},
   "source": [
    "#### Generalized World Coordinate System (GWCS)\n",
    "\n",
    "Overview\n",
    "\n",
    "We call \"WCS\" the mapping from \"pixel\" coordinates to some \"real-world\" physical coordinates - celestial, spectral, time, etc. GWCS is a generalized implementation of WCS aiming to avoid the limitations of the FITS WCS standard. It is a flexible toolkit for expressing and evaluating transformations between pixel and world coordinates, as well as intermediate coordinates. The GWCS object supports a data model which includes the entire transformation pipeline from input pixel coordinates to world coordinates (and vice versa).\n",
    "\n",
    "GWCS is based on astropy and supports the Common Interface for WCS. The WCS \"pipeline\" is a list of steps, where each step is a tuple of coordinate frame and a transform to the next frame. The transform in the last step is None representing the final coordinate frame of the WCS pipeline.\n",
    "\n",
    "Transforms are based on astropy.modeling and include support for coordinate units. Coordinate frames utilize astropy.coordinates. The GWCS object is serialized to ASDF using the ASDF WCS and transforms extensions.\n",
    "\n",
    "GWCS objects are serializable to ASDF. Currently GWCS is used by JWST, DKIST and Roman.\n",
    "Let's look atthe fiole we opened initially, which is a Roman simulation for the WFI instrument, and search for the string \"wcs\"."
   ]
  },
  {
   "cell_type": "code",
   "execution_count": 69,
   "id": "a39d6926-850c-4128-a478-b1c51c73b2e4",
   "metadata": {},
   "outputs": [
    {
     "data": {
      "text/plain": [
       "\u001b[1mroot\u001b[0m (AsdfObject)\n",
       "\u001b[2m└─\u001b[0m\u001b[1mroman\u001b[0m (WfiImage)\u001b[2m\u001b[3m # The Schema for WFI Level 2 Images.\u001b[0m\u001b[0m\n",
       "\u001b[2m  └─\u001b[0m\u001b[1mmeta\u001b[0m (dict)\n",
       "\u001b[2m    ├─\u001b[0m\u001b[1mcal_step\u001b[0m (L2CalStep)\u001b[2m\u001b[3m # Level 2 Calibration Status\u001b[0m\u001b[0m\n",
       "\u001b[2m    │ └─\u001b[0m\u001b[1massign_wcs\u001b[0m (str): COMPLETE\u001b[2m\u001b[3m # Assign WCS Step\u001b[0m\u001b[0m\n",
       "\u001b[2m    ├─\u001b[0m\u001b[1mwcs\u001b[0m (WCS)\n",
       "\u001b[2m    ├─\u001b[0m\u001b[1mwcs_fit_results\u001b[0m (dict): {'<rot>': 2.1166473207256526e-06, '<scale>': 1.0, 'center': [-\u001b[2m\u001b[3m (truncated)\u001b[0m\u001b[0m\n",
       "\u001b[2m    └─\u001b[0m\u001b[1mwcsinfo\u001b[0m (Wcsinfo): {'v2_ref': 1546.3846181707652, 'v3_ref': -892.7916365721071, 'vpari\u001b[2m\u001b[3m (truncated)\u001b[0m\u001b[0m"
      ]
     },
     "execution_count": 69,
     "metadata": {},
     "output_type": "execute_result"
    }
   ],
   "source": [
    "afr.search(key='wcs')"
   ]
  },
  {
   "cell_type": "code",
   "execution_count": 68,
   "id": "e30a9a7f-3345-45b6-8652-3c1f2a794a84",
   "metadata": {},
   "outputs": [
    {
     "name": "stdout",
     "output_type": "stream",
     "text": [
      "  From                  Transform                \n",
      "-------- ----------------------------------------\n",
      "detector                            CompoundModel\n",
      "    v2v3 JWST tangent-plane linear correction. v1\n",
      "v2v3corr                                 v23tosky\n",
      "   world                                     None\n"
     ]
    }
   ],
   "source": [
    "print(afr['roman']['meta']['wcs'])"
   ]
  },
  {
   "cell_type": "markdown",
   "id": "bc6ed1f0-e09e-425b-b4fa-d09dd12176ac",
   "metadata": {},
   "source": [
    "**Example: Imaging WCS**\n"
   ]
  }
 ],
 "metadata": {
  "kernelspec": {
   "display_name": "Python 3 (ipykernel)",
   "language": "python",
   "name": "python3"
  },
  "language_info": {
   "codemirror_mode": {
    "name": "ipython",
    "version": 3
   },
   "file_extension": ".py",
   "mimetype": "text/x-python",
   "name": "python",
   "nbconvert_exporter": "python",
   "pygments_lexer": "ipython3",
   "version": "3.11.8"
  }
 },
 "nbformat": 4,
 "nbformat_minor": 5
}
