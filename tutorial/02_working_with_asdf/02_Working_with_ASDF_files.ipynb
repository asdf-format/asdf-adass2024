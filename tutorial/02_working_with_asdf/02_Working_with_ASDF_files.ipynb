{
 "cells": [
  {
   "cell_type": "markdown",
   "id": "3cd8bd36-e62d-4db1-adec-bb5d2b37f8ce",
   "metadata": {},
   "source": [
    "Working with ASDF Files\n",
    "==="
   ]
  },
  {
   "cell_type": "markdown",
   "id": "cf830555-7234-42bd-828f-a9348cf39d85",
   "metadata": {},
   "source": [
    "Read an ASDF file\n",
    "---\n",
    "- Read an ASDF file"
   ]
  },
  {
   "cell_type": "code",
   "execution_count": 1,
   "id": "890dc092-0024-4788-bbee-47892ada7831",
   "metadata": {},
   "outputs": [
    {
     "name": "stdout",
     "output_type": "stream",
     "text": [
      "<asdf._asdf.AsdfFile object at 0x104e4fdf0>\n"
     ]
    }
   ],
   "source": [
    "import asdf\n",
    "af = asdf.open(\"basic.asdf\")\n",
    "print(af)"
   ]
  },
  {
   "cell_type": "code",
   "execution_count": 2,
   "id": "917f43ed-d992-4e01-b28a-242131df3d91",
   "metadata": {},
   "outputs": [
    {
     "name": "stdout",
     "output_type": "stream",
     "text": [
      "{'asdf_library': {'author': 'The ASDF Developers', 'homepage': 'http://github.com/asdf-format/asdf', 'name': 'asdf', 'version': '3.0.1'}, 'history': {'extensions': [{'extension_class': 'asdf.extension._manifest.ManifestExtension', 'extension_uri': 'asdf://asdf-format.org/core/extensions/core-1.5.0', 'software': {'name': 'asdf', 'version': '3.0.1'}}]}, 'data': <array (unloaded) shape: [8] dtype: int64>}\n"
     ]
    }
   ],
   "source": [
    "print(af.tree)"
   ]
  },
  {
   "cell_type": "markdown",
   "id": "ad309829-b59f-4740-bb28-93d7a3e3f784",
   "metadata": {},
   "source": [
    "Search and info\n",
    "---\n",
    "- Use tools for looking at the file and searching for attributes"
   ]
  },
  {
   "cell_type": "code",
   "execution_count": 3,
   "id": "1a533c73-c39d-4495-808c-a6cb0b4f631b",
   "metadata": {},
   "outputs": [
    {
     "name": "stdout",
     "output_type": "stream",
     "text": [
      "\u001b[1mroot\u001b[0m (AsdfObject)\n",
      "\u001b[2m├─\u001b[0m\u001b[1masdf_library\u001b[0m (Software)\n",
      "\u001b[2m│ ├─\u001b[0m\u001b[1mauthor\u001b[0m (str): The ASDF Developers\n",
      "\u001b[2m│ ├─\u001b[0m\u001b[1mhomepage\u001b[0m (str): http://github.com/asdf-format/asdf\n",
      "\u001b[2m│ ├─\u001b[0m\u001b[1mname\u001b[0m (str): asdf\n",
      "\u001b[2m│ └─\u001b[0m\u001b[1mversion\u001b[0m (str): 3.0.1\n",
      "\u001b[2m├─\u001b[0m\u001b[1mhistory\u001b[0m (dict)\n",
      "\u001b[2m│ └─\u001b[0m\u001b[1mextensions\u001b[0m (list)\n",
      "\u001b[2m│   └─\u001b[0m[\u001b[1m0\u001b[0m] (ExtensionMetadata)\n",
      "\u001b[2m│     ├─\u001b[0m\u001b[1mextension_class\u001b[0m (str): asdf.extension._manifest.ManifestExtension\n",
      "\u001b[2m│     ├─\u001b[0m\u001b[1mextension_uri\u001b[0m (str): asdf://asdf-format.org/core/extensions/core-1.5.0\n",
      "\u001b[2m│     └─\u001b[0m\u001b[1msoftware\u001b[0m (Software)\n",
      "\u001b[2m│       ├─\u001b[0m\u001b[1mname\u001b[0m (str): asdf\n",
      "\u001b[2m│       └─\u001b[0m\u001b[1mversion\u001b[0m (str): 3.0.1\n",
      "\u001b[2m└─\u001b[0m\u001b[1mdata\u001b[0m (NDArrayType): shape=(8,), dtype=int64\n"
     ]
    }
   ],
   "source": [
    "af.info()"
   ]
  },
  {
   "cell_type": "code",
   "execution_count": 4,
   "id": "92001e5b-9da0-4cf0-a8fd-daaf4ea7f5ce",
   "metadata": {},
   "outputs": [
    {
     "data": {
      "text/plain": [
       "array([0, 1, 2, 3, 4, 5, 6, 7])"
      ]
     },
     "execution_count": 4,
     "metadata": {},
     "output_type": "execute_result"
    }
   ],
   "source": [
    "af[\"data\"]"
   ]
  },
  {
   "cell_type": "code",
   "execution_count": 5,
   "id": "bb171249-ef54-4212-a227-7ebdfcd94e20",
   "metadata": {},
   "outputs": [
    {
     "data": {
      "text/plain": [
       "\u001b[1mroot\u001b[0m (AsdfObject)\n",
       "\u001b[2m└─\u001b[0m\u001b[1mdata\u001b[0m (NDArrayType): shape=(8,), dtype=int64"
      ]
     },
     "execution_count": 5,
     "metadata": {},
     "output_type": "execute_result"
    }
   ],
   "source": [
    "af.search(key=\"data\")"
   ]
  },
  {
   "cell_type": "code",
   "execution_count": 6,
   "id": "3785f173-077f-473f-a83b-c420647544a1",
   "metadata": {},
   "outputs": [
    {
     "data": {
      "text/plain": [
       "\u001b[1mroot\u001b[0m (AsdfObject)\n",
       "\u001b[2m└─\u001b[0m\u001b[1mdata\u001b[0m (NDArrayType): shape=(8,), dtype=int64"
      ]
     },
     "execution_count": 6,
     "metadata": {},
     "output_type": "execute_result"
    }
   ],
   "source": [
    "af.search(type_=asdf.tags.core.NDArrayType)"
   ]
  },
  {
   "cell_type": "markdown",
   "id": "3df1a3ff-d911-4737-8e2f-6717b1d711e7",
   "metadata": {},
   "source": [
    "Metadata access and modification\n",
    "---\n",
    "- Access and modify metadata"
   ]
  },
  {
   "cell_type": "code",
   "execution_count": 7,
   "id": "fdf41d0d-dfa0-42db-870b-80e256492ad3",
   "metadata": {},
   "outputs": [
    {
     "name": "stdout",
     "output_type": "stream",
     "text": [
      "\u001b[1mroot\u001b[0m (AsdfObject)\n",
      "\u001b[2m├─\u001b[0m\u001b[1masdf_library\u001b[0m (Software)\n",
      "\u001b[2m│ ├─\u001b[0m\u001b[1mauthor\u001b[0m (str): The ASDF Developers\n",
      "\u001b[2m│ ├─\u001b[0m\u001b[1mhomepage\u001b[0m (str): http://github.com/asdf-format/asdf\n",
      "\u001b[2m│ ├─\u001b[0m\u001b[1mname\u001b[0m (str): asdf\n",
      "\u001b[2m│ └─\u001b[0m\u001b[1mversion\u001b[0m (str): 3.0.1\n",
      "\u001b[2m├─\u001b[0m\u001b[1mhistory\u001b[0m (dict)\n",
      "\u001b[2m│ └─\u001b[0m\u001b[1mextensions\u001b[0m (list)\n",
      "\u001b[2m│   └─\u001b[0m[\u001b[1m0\u001b[0m] (ExtensionMetadata)\n",
      "\u001b[2m│     ├─\u001b[0m\u001b[1mextension_class\u001b[0m (str): asdf.extension._manifest.ManifestExtension\n",
      "\u001b[2m│     ├─\u001b[0m\u001b[1mextension_uri\u001b[0m (str): asdf://asdf-format.org/core/extensions/core-1.5.0\n",
      "\u001b[2m│     └─\u001b[0m\u001b[1msoftware\u001b[0m (Software)\n",
      "\u001b[2m│       ├─\u001b[0m\u001b[1mname\u001b[0m (str): asdf\n",
      "\u001b[2m│       └─\u001b[0m\u001b[1mversion\u001b[0m (str): 3.0.1\n",
      "\u001b[2m├─\u001b[0m\u001b[1mdata\u001b[0m (NDArrayType): shape=(8,), dtype=int64\n",
      "\u001b[2m└─\u001b[0m\u001b[1mmy_notes\u001b[0m (str): some notes about this file\n"
     ]
    }
   ],
   "source": [
    "af[\"my_notes\"] = \"some notes about this file\"\n",
    "af.info()"
   ]
  },
  {
   "cell_type": "code",
   "execution_count": 8,
   "id": "147ad656-8a48-40b7-962d-12c928f31a28",
   "metadata": {},
   "outputs": [
    {
     "name": "stdout",
     "output_type": "stream",
     "text": [
      "\u001b[1mroot\u001b[0m (AsdfObject)\n",
      "\u001b[2m├─\u001b[0m\u001b[1masdf_library\u001b[0m (Software)\n",
      "\u001b[2m│ ├─\u001b[0m\u001b[1mauthor\u001b[0m (str): The ASDF Developers\n",
      "\u001b[2m│ ├─\u001b[0m\u001b[1mhomepage\u001b[0m (str): http://github.com/asdf-format/asdf\n",
      "\u001b[2m│ ├─\u001b[0m\u001b[1mname\u001b[0m (str): asdf\n",
      "\u001b[2m│ └─\u001b[0m\u001b[1mversion\u001b[0m (str): 3.0.1\n",
      "\u001b[2m├─\u001b[0m\u001b[1mhistory\u001b[0m (dict)\n",
      "\u001b[2m│ └─\u001b[0m\u001b[1mextensions\u001b[0m (list)\n",
      "\u001b[2m│   └─\u001b[0m[\u001b[1m0\u001b[0m] (ExtensionMetadata)\n",
      "\u001b[2m│     ├─\u001b[0m\u001b[1mextension_class\u001b[0m (str): asdf.extension._manifest.ManifestExtension\n",
      "\u001b[2m│     ├─\u001b[0m\u001b[1mextension_uri\u001b[0m (str): asdf://asdf-format.org/core/extensions/core-1.5.0\n",
      "\u001b[2m│     └─\u001b[0m\u001b[1msoftware\u001b[0m (Software)\n",
      "\u001b[2m│       ├─\u001b[0m\u001b[1mname\u001b[0m (str): asdf\n",
      "\u001b[2m│       └─\u001b[0m\u001b[1mversion\u001b[0m (str): 3.0.1\n",
      "\u001b[2m├─\u001b[0m\u001b[1mdata\u001b[0m (NDArrayType): shape=(8,), dtype=int64\n",
      "\u001b[2m├─\u001b[0m\u001b[1mmy_notes\u001b[0m (str): some notes about this file\n",
      "\u001b[2m└─\u001b[0m\u001b[1mnotes\u001b[0m (dict)\n",
      "\u001b[2m  └─\u001b[0m\u001b[1mtoday\u001b[0m (str): learning about asdf\n"
     ]
    }
   ],
   "source": [
    "af[\"notes\"] = {\"today\": \"learning about asdf\"}\n",
    "af.info()"
   ]
  },
  {
   "cell_type": "code",
   "execution_count": 9,
   "id": "4c120070-36ab-48d6-b1e3-6c6a33797074",
   "metadata": {},
   "outputs": [
    {
     "data": {
      "text/plain": [
       "\u001b[1mroot\u001b[0m (AsdfObject)\n",
       "\u001b[2m├─\u001b[0m\u001b[1mmy_notes\u001b[0m (str): some notes about this file\n",
       "\u001b[2m└─\u001b[0m\u001b[1mnotes\u001b[0m (dict): {'today': 'learning about asdf', 'tomorrow': 'will use asdf'}"
      ]
     },
     "execution_count": 9,
     "metadata": {},
     "output_type": "execute_result"
    }
   ],
   "source": [
    "af[\"notes\"][\"tomorrow\"] = \"will use asdf\"\n",
    "af.search(key=\"notes\")"
   ]
  },
  {
   "cell_type": "markdown",
   "id": "66fd952f-fc20-4220-afb8-c5e27993f78d",
   "metadata": {},
   "source": [
    "Writing\n",
    "---\n",
    "- Write file to disk"
   ]
  },
  {
   "cell_type": "code",
   "execution_count": 10,
   "id": "bb59693e-aabc-4166-8005-ee73abb52241",
   "metadata": {},
   "outputs": [],
   "source": [
    "af.write_to(\"updated_file.asdf\")"
   ]
  },
  {
   "cell_type": "markdown",
   "id": "4f97c334-84c6-4504-a157-533f1d4eecb3",
   "metadata": {},
   "source": [
    "Exercise\n",
    "==\n",
    "Open \"test_data.asdf\". Find all NDArrayType instances in the file and add a \"sums\" branch to the tree that contains the sum of each array. As ASDF is a heirarchical format you can make \"sums\" a sub-tree that matches the structure of the arrays in the file."
   ]
  }
 ],
 "metadata": {
  "kernelspec": {
   "display_name": "Python 3 (ipykernel)",
   "language": "python",
   "name": "python3"
  },
  "language_info": {
   "codemirror_mode": {
    "name": "ipython",
    "version": 3
   },
   "file_extension": ".py",
   "mimetype": "text/x-python",
   "name": "python",
   "nbconvert_exporter": "python",
   "pygments_lexer": "ipython3",
   "version": "3.10.6"
  }
 },
 "nbformat": 4,
 "nbformat_minor": 5
}
