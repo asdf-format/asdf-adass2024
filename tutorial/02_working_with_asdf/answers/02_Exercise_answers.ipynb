{
 "cells": [
  {
   "cell_type": "code",
   "execution_count": 1,
   "id": "7316eb21-a02f-4929-be88-1845d2921831",
   "metadata": {},
   "outputs": [],
   "source": [
    "import asdf\n",
    "af = asdf.open(\"../test_data.asdf\")"
   ]
  },
  {
   "cell_type": "code",
   "execution_count": 2,
   "id": "2ccf0c65-b5f9-47b9-aeba-6176e602f4c6",
   "metadata": {},
   "outputs": [
    {
     "name": "stdout",
     "output_type": "stream",
     "text": [
      "\u001b[1mroot\u001b[0m (AsdfObject)\n",
      "\u001b[2m└─\u001b[0m\u001b[1mdata\u001b[0m (dict)\n",
      "\u001b[2m  ├─\u001b[0m\u001b[1minstrument_1\u001b[0m (dict)\n",
      "\u001b[2m  │ └─\u001b[0m\u001b[1mdata\u001b[0m (NDArrayType): shape=(10,), dtype=int64\n",
      "\u001b[2m  └─\u001b[0m\u001b[1minstrument_2\u001b[0m (dict)\n",
      "\u001b[2m    └─\u001b[0m\u001b[1mdata\u001b[0m (NDArrayType): shape=(10,), dtype=int64\n"
     ]
    }
   ],
   "source": [
    "print(af.search(type_=asdf.tags.core.NDArrayType))"
   ]
  },
  {
   "cell_type": "code",
   "execution_count": 3,
   "id": "533ee913-c3b0-48db-a6ab-11900ba8af6c",
   "metadata": {},
   "outputs": [],
   "source": [
    "af[\"sums\"] = {}\n",
    "for instrument in af[\"data\"]:\n",
    "    data_sum = af[\"data\"][instrument][\"data\"].sum()\n",
    "    af[\"sums\"][instrument] = data_sum"
   ]
  },
  {
   "cell_type": "code",
   "execution_count": 4,
   "id": "1f6dff7c-67d5-4ed4-99d6-f52b1ce236d3",
   "metadata": {},
   "outputs": [
    {
     "name": "stdout",
     "output_type": "stream",
     "text": [
      "\u001b[1mroot\u001b[0m (AsdfObject)\n",
      "\u001b[2m├─\u001b[0m\u001b[1masdf_library\u001b[0m (Software)\n",
      "\u001b[2m│ ├─\u001b[0m\u001b[1mauthor\u001b[0m (str): The ASDF Developers\n",
      "\u001b[2m│ ├─\u001b[0m\u001b[1mhomepage\u001b[0m (str): http://github.com/asdf-format/asdf\n",
      "\u001b[2m│ ├─\u001b[0m\u001b[1mname\u001b[0m (str): asdf\n",
      "\u001b[2m│ └─\u001b[0m\u001b[1mversion\u001b[0m (str): 3.5.0\n",
      "\u001b[2m├─\u001b[0m\u001b[1mhistory\u001b[0m (dict)\n",
      "\u001b[2m│ └─\u001b[0m\u001b[1mextensions\u001b[0m (list)\n",
      "\u001b[2m│   └─\u001b[0m[\u001b[1m0\u001b[0m] (ExtensionMetadata)\n",
      "\u001b[2m│     ├─\u001b[0m\u001b[1mextension_class\u001b[0m (str): asdf.extension._manifest.ManifestExtension\n",
      "\u001b[2m│     ├─\u001b[0m\u001b[1mextension_uri\u001b[0m (str): asdf://asdf-format.org/core/extensions/core-1.5.0\n",
      "\u001b[2m│     ├─\u001b[0m\u001b[1mmanifest_software\u001b[0m (Software)\n",
      "\u001b[2m│     │ ├─\u001b[0m\u001b[1mname\u001b[0m (str): asdf_standard\n",
      "\u001b[2m│     │ └─\u001b[0m\u001b[1mversion\u001b[0m (str): 1.1.1\n",
      "\u001b[2m│     └─\u001b[0m\u001b[1msoftware\u001b[0m (Software)\u001b[3m ...\u001b[0m\n",
      "\u001b[2m├─\u001b[0m\u001b[1mdata\u001b[0m (dict)\n",
      "\u001b[2m│ ├─\u001b[0m\u001b[1minstrument_1\u001b[0m (dict)\n",
      "\u001b[2m│ │ └─\u001b[0m\u001b[1mdata\u001b[0m (NDArrayType): shape=(10,), dtype=int64\n",
      "\u001b[2m│ └─\u001b[0m\u001b[1minstrument_2\u001b[0m (dict)\n",
      "\u001b[2m│   └─\u001b[0m\u001b[1mdata\u001b[0m (NDArrayType): shape=(10,), dtype=int64\n",
      "\u001b[2m└─\u001b[0m\u001b[1msums\u001b[0m (dict)\n",
      "\u001b[2m  ├─\u001b[0m\u001b[1minstrument_1\u001b[0m (int64): 45\n",
      "\u001b[2m  └─\u001b[0m\u001b[1minstrument_2\u001b[0m (int64): 145\n",
      "\u001b[2m\u001b[3mSome nodes not shown.\u001b[0m\u001b[0m\n"
     ]
    }
   ],
   "source": [
    "af.info()"
   ]
  }
 ],
 "metadata": {
  "kernelspec": {
   "display_name": "Python 3 (ipykernel)",
   "language": "python",
   "name": "python3"
  },
  "language_info": {
   "codemirror_mode": {
    "name": "ipython",
    "version": 3
   },
   "file_extension": ".py",
   "mimetype": "text/x-python",
   "name": "python",
   "nbconvert_exporter": "python",
   "pygments_lexer": "ipython3",
   "version": "3.10.6"
  }
 },
 "nbformat": 4,
 "nbformat_minor": 5
}
