{
 "cells": [
  {
   "cell_type": "code",
   "execution_count": null,
   "id": "8f2fdcf7-a28e-40a6-a779-7ab2b8c9d512",
   "metadata": {},
   "outputs": [],
   "source": [
    "**Exercise 1:**"
   ]
  }
 ],
 "metadata": {
  "kernelspec": {
   "display_name": "Python 3 (ipykernel)",
   "language": "python",
   "name": "python3"
  },
  "language_info": {
   "codemirror_mode": {
    "name": "ipython",
    "version": 3
   },
   "file_extension": ".py",
   "mimetype": "text/x-python",
   "name": "python",
   "nbconvert_exporter": "python",
   "pygments_lexer": "ipython3",
   "version": "3.11.8"
  }
 },
 "nbformat": 4,
 "nbformat_minor": 5
}
