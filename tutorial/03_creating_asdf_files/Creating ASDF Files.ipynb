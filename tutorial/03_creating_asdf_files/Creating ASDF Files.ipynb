{
 "cells": [
  {
   "cell_type": "markdown",
   "id": "380f99bb-e08f-4923-ba64-bcb00e22f75a",
   "metadata": {},
   "source": [
    "Creating ASDF Files\n",
    "===\n",
    "\n",
    "(60 min)\n",
    "\n",
    "- Summary of serializing basic types and numpy arrays\n",
    "  - the ASDF \"tree\"\n",
    "  - bool, str, int, None, complex (and limitations)\n",
    "  - list, dict (and recursion)\n",
    "  - arrays\n",
    "    - storage type (worth covering?)\n",
    "    - ndarray vs NDArrayType\n",
    "    - shared data\n",
    "- Exercises\n",
    "  - Write an asdf file with\n",
    "- Serializing custom types\n",
    "  - astropy objects\n",
    "    - Time\n",
    "    - Quantity (Unit)\n",
    "    - SkyCoord\n",
    "    - Table\n",
    "    - Models (more on that later)\n",
    "- Exercises\n",
    "  - 3, 4, 5, 6 and 7"
   ]
  },
  {
   "cell_type": "code",
   "execution_count": 1,
   "id": "808e4fb4-c962-43f5-833b-69e9fb837e13",
   "metadata": {},
   "outputs": [],
   "source": [
    "import asdf\n",
    "import numpy as np\n",
    "\n",
    "np.random.seed(42)"
   ]
  },
  {
   "cell_type": "markdown",
   "id": "5cdae9ca-10a8-4019-898b-568c661961df",
   "metadata": {},
   "source": [
    "# 3 - Creating ASDF Files\n",
    "\n",
    "## Introduction\n",
    "\n",
    "Creating an ASDF file involves creating an instance of the [AsdfFile](https://asdf.readthedocs.io/en/latest/api/asdf.AsdfFile.html#asdf.AsdfFile) class."
   ]
  },
  {
   "cell_type": "code",
   "execution_count": 2,
   "id": "ae95c9e1-612e-4105-b842-1daf7cf92e75",
   "metadata": {},
   "outputs": [],
   "source": [
    "af = asdf.AsdfFile()"
   ]
  },
  {
   "cell_type": "markdown",
   "id": "6d0a5d95-c2eb-4d7d-90a7-881e13e9b793",
   "metadata": {},
   "source": [
    "## The \"tree\"\n",
    "Data within an ASDF file is organized in a \"tree\" structure, an arbitrarily nested mapping of key/value pairs (think of this as a Python dict). This allows data to be hierarchically organized within the file. For example if you have some \"data\" values and some \"meta\" describing the condition of the data this can be organized within the tree under \"data\" and \"meta\" keys."
   ]
  },
  {
   "cell_type": "code",
   "execution_count": 3,
   "id": "66978948-8fbe-4a7f-b250-964e97bf05d5",
   "metadata": {},
   "outputs": [
    {
     "name": "stdout",
     "output_type": "stream",
     "text": [
      "{'meta': {'my': {'nested': 'metadata'}}, 'data': [1, 2, 3, 4]}\n"
     ]
    }
   ],
   "source": [
    "af.tree[\"meta\"] = {\"my\": {\"nested\": \"metadata\"}}\n",
    "af.tree[\"data\"] = [1, 2, 3, 4]\n",
    "print(af.tree)"
   ]
  },
  {
   "cell_type": "markdown",
   "id": "a8c4ff0a-9add-4829-b56d-fd6e634b5de8",
   "metadata": {},
   "source": [
    "For ease-of-use the [AsdfFile](https://asdf.readthedocs.io/en/latest/api/asdf.AsdfFile.html#asdf.AsdfFile) instance can be used like a dictionary (removing the need to always access the `tree` attribute)."
   ]
  },
  {
   "cell_type": "code",
   "execution_count": 4,
   "id": "d44f4015-999d-47f2-9f78-24f0f3da2f61",
   "metadata": {},
   "outputs": [
    {
     "data": {
      "text/plain": [
       "{'my': {'nested': 'metadata'}}"
      ]
     },
     "execution_count": 4,
     "metadata": {},
     "output_type": "execute_result"
    }
   ],
   "source": [
    "af[\"meta\"]"
   ]
  },
  {
   "cell_type": "markdown",
   "id": "18db8644-6ae6-40e9-af14-bdfe9c187c6c",
   "metadata": {},
   "source": [
    "## Tree contents\n",
    "\n",
    "Many of the Python builtin types are supported by ASDF and largely match the basic types in [YAML](https://yaml.org/spec/1.1/).\n",
    "| Python type | YAML type |\n",
    "| --- | --- |\n",
    "| `dict` | `mapping` |\n",
    "| `list` | `sequence` |\n",
    "| `str` | `string` |\n",
    "| `float` | `float` |\n",
    "| `int` | `int` |\n",
    "| `None` | `null` |"
   ]
  },
  {
   "cell_type": "markdown",
   "id": "92ee3e7e-3262-4537-bbc3-49c201f1488e",
   "metadata": {},
   "source": [
    "# Exercise 1: Make an ASDF tree\n",
    "Create an [AsdfFile](https://asdf.readthedocs.io/en/latest/api/asdf.AsdfFile.html#asdf.AsdfFile) instance and build a tree containing all of the above supported types."
   ]
  },
  {
   "cell_type": "markdown",
   "id": "dfd69305-e5a1-463b-b4e0-279fb514d7e0",
   "metadata": {},
   "source": [
    "## Saving to disk\n",
    "[AsdfFile.write_to](https://asdf.readthedocs.io/en/latest/api/asdf.AsdfFile.html#asdf.AsdfFile.write_to) is the main method used to save ASDF files to disk."
   ]
  },
  {
   "cell_type": "code",
   "execution_count": 5,
   "id": "8d12c112-080f-4b03-abf1-cdcab50400f0",
   "metadata": {},
   "outputs": [
    {
     "name": "stdout",
     "output_type": "stream",
     "text": [
      "Creating ASDF Files.ipynb from_scipy.ipynb          random.asdf\n",
      "all_compressed.asdf       hello.asdf                scipy_2.ipynb\n",
      "binary_data.asdf          inline.asdf               selected_compressed.asdf\n",
      "complex.asdf              model.asdf                table.asdf\n",
      "compound.asdf             my_tree.asdf              trunk.asdf\n",
      "foo.asdf                  partial_inline.asdf\n"
     ]
    }
   ],
   "source": [
    "af.write_to(\"my_tree.asdf\")\n",
    "!ls"
   ]
  },
  {
   "cell_type": "markdown",
   "id": "b5d3fc53-0a97-4dc0-8042-1c5395ed5531",
   "metadata": {},
   "source": [
    "As ASDF trees contain a plain-text header, simple trees can result in files that are human-readable."
   ]
  },
  {
   "cell_type": "code",
   "execution_count": 6,
   "id": "54ea2530-e66f-40fe-92b8-3a037fb37b68",
   "metadata": {},
   "outputs": [
    {
     "name": "stdout",
     "output_type": "stream",
     "text": [
      "#ASDF 1.0.0\n",
      "#ASDF_STANDARD 1.5.0\n",
      "%YAML 1.1\n",
      "%TAG ! tag:stsci.edu:asdf/\n",
      "--- !core/asdf-1.1.0\n",
      "asdf_library: !core/software-1.0.0 {author: The ASDF Developers, homepage: 'http://github.com/asdf-format/asdf',\n",
      "  name: asdf, version: 3.5.0}\n",
      "history:\n",
      "  extensions:\n",
      "  - !core/extension_metadata-1.0.0\n",
      "    extension_class: asdf.extension._manifest.ManifestExtension\n",
      "    extension_uri: asdf://asdf-format.org/core/extensions/core-1.5.0\n",
      "    manifest_software: !core/software-1.0.0 {name: asdf_standard, version: 1.1.1}\n",
      "    software: !core/software-1.0.0 {name: asdf, version: 3.5.0}\n",
      "trunk:\n",
      "  branches: [0, 1, 2]\n",
      "  roots: [a, b, c]\n",
      "...\n"
     ]
    }
   ],
   "source": [
    "af = asdf.AsdfFile()\n",
    "af[\"trunk\"] = {\"branches\": [0, 1, 2], \"roots\": [\"a\", \"b\", \"c\"]}\n",
    "af.write_to(\"trunk.asdf\")\n",
    "!cat trunk.asdf"
   ]
  },
  {
   "cell_type": "markdown",
   "id": "5778bb8a-eb6b-4dd3-a75f-30b99de2e7b6",
   "metadata": {},
   "source": [
    "# Exercise 2: Save your tree\n",
    "Recreate (if necessary) your custom tree containing all of the supported types and write it to an ASDF file. Open the file in a text editor and view the contents."
   ]
  },
  {
   "cell_type": "markdown",
   "id": "edacd461-7f41-44a1-b00f-fe19f769ec1f",
   "metadata": {},
   "source": [
    "## Standard metadata\n",
    "In the above example you may notice that we didn't add the `asdf_library` and `history` keys yet they appeared in the file. These are standard metadata keys added to every ASDF file to help record:\n",
    "\n",
    "- `asdf_library`: Software library used to produce the file\n",
    "- `history`: ASDF extensions used to produce the file (and optional user-added history entries)\n",
    "\n",
    "We won't cover these in more depth. Please consult the documentation for more details:\n",
    "- [AsdfFile.add_history_entry](https://asdf.readthedocs.io/en/latest/api/asdf.AsdfFile.html#asdf.AsdfFile.add_history_entry)\n",
    "- [asdf-1.0.0 schema](https://asdf-standard.readthedocs.io/en/1.1.1/generated/stsci.edu/asdf/core/asdf-1.0.0.html)"
   ]
  },
  {
   "cell_type": "markdown",
   "id": "2a9a5340-38e4-456b-a3c6-efc2ab90522b",
   "metadata": {},
   "source": [
    "## \"Tagged\" Types\n",
    "For more complicated type, ASDF supports \"tagged\" objects (as does YAML). By adding a \"tag\" to an object and saving this to the file we can inform the asdf software that this \"tagged\" object can be deserialized to a more complicated type. To cover this topic we'll use `complex` numbers."
   ]
  },
  {
   "cell_type": "code",
   "execution_count": 7,
   "id": "f5c64242-f35e-4d4c-be28-d0fc88890651",
   "metadata": {},
   "outputs": [
    {
     "name": "stdout",
     "output_type": "stream",
     "text": [
      "#ASDF 1.0.0\n",
      "#ASDF_STANDARD 1.5.0\n",
      "%YAML 1.1\n",
      "%TAG ! tag:stsci.edu:asdf/\n",
      "--- !core/asdf-1.1.0\n",
      "asdf_library: !core/software-1.0.0 {author: The ASDF Developers, homepage: 'http://github.com/asdf-format/asdf',\n",
      "  name: asdf, version: 3.5.0}\n",
      "history:\n",
      "  extensions:\n",
      "  - !core/extension_metadata-1.0.0\n",
      "    extension_class: asdf.extension._manifest.ManifestExtension\n",
      "    extension_uri: asdf://asdf-format.org/core/extensions/core-1.5.0\n",
      "    manifest_software: !core/software-1.0.0 {name: asdf_standard, version: 1.1.1}\n",
      "    software: !core/software-1.0.0 {name: asdf, version: 3.5.0}\n",
      "z: !core/complex-1.0.0 (1+1j)\n",
      "...\n"
     ]
    }
   ],
   "source": [
    "af = asdf.AsdfFile()\n",
    "af[\"z\"] = complex(1, 1)\n",
    "af.write_to(\"complex.asdf\")\n",
    "!cat complex.asdf"
   ]
  },
  {
   "cell_type": "markdown",
   "id": "d1a359cd-b704-4d99-b2d6-8de1ce75cad8",
   "metadata": {},
   "source": [
    "To store our `complex` number `z` asdf stored a string \"(1+1j)\" in the file and added the `core/complex-1.0.0` tag to string. When we reload this file asdf will see the tag and string and recreate the `complex` number for us."
   ]
  },
  {
   "cell_type": "code",
   "execution_count": 8,
   "id": "eea0d00e-e470-42a2-9e3c-74d308a67265",
   "metadata": {},
   "outputs": [
    {
     "data": {
      "text/plain": [
       "complex"
      ]
     },
     "execution_count": 8,
     "metadata": {},
     "output_type": "execute_result"
    }
   ],
   "source": [
    "af = asdf.open(\"complex.asdf\")\n",
    "type(af[\"z\"])"
   ]
  },
  {
   "cell_type": "markdown",
   "id": "f7a1285b-a92c-460b-95e2-545f9d081b6d",
   "metadata": {},
   "source": [
    "The mapping between tags and objects is handled by the asdf extension API. Support for new objects can be added by pip installing package (like [asdf-astropy](https://pypi.org/project/asdf-astropy/)) or users can create and register their own extensions.\n",
    "\n",
    "We won't go into details about creating an extension here but please see the documentation if there are objects you would like to store in an ASDF file (that aren't already supported):\n",
    "https://asdf.readthedocs.io/en/latest/asdf/extending/extensions.html"
   ]
  },
  {
   "cell_type": "markdown",
   "id": "cd11e009-0afa-404e-ac97-4cb33b98736d",
   "metadata": {},
   "source": [
    "# Exercise 3:\n",
    "?"
   ]
  },
  {
   "cell_type": "markdown",
   "id": "7f17f86f-513c-4c96-94cc-cb5eb595f77a",
   "metadata": {},
   "source": [
    "## N-Dimensional Arrays\n",
    "In addition to plain-text representations, ASDF files can contain binary data. Although this isn't human readable it can be efficiently read and written and doesn't suffer from loss of precision which might occur for numerical types converted to and from text.\n",
    "\n",
    "Binary data is stored in \"blocks\" that are written after the ASDF tree. Objects in the tree may contain referencees to binary \"blocks\", the most common being [NDArrayType](https://asdf.readthedocs.io/en/latest/api/asdf.tags.core.NDArrayType.html#asdf.tags.core.NDArrayType) the class asdf uses for `numpy.ndarray` instances."
   ]
  },
  {
   "cell_type": "code",
   "execution_count": 9,
   "id": "53e6038a-2981-4a9f-bcaf-da88fdfa8326",
   "metadata": {},
   "outputs": [
    {
     "name": "stdout",
     "output_type": "stream",
     "text": [
      "#ASDF 1.0.0\n",
      "#ASDF_STANDARD 1.5.0\n",
      "%YAML 1.1\n",
      "%TAG ! tag:stsci.edu:asdf/\n",
      "--- !core/asdf-1.1.0\n",
      "asdf_library: !core/software-1.0.0 {author: The ASDF Developers, homepage: 'http://github.com/asdf-format/asdf',\n",
      "  name: asdf, version: 3.5.0}\n",
      "history:\n",
      "  extensions:\n",
      "  - !core/extension_metadata-1.0.0\n",
      "    extension_class: asdf.extension._manifest.ManifestExtension\n",
      "    extension_uri: asdf://asdf-format.org/core/extensions/core-1.5.0\n",
      "    manifest_software: !core/software-1.0.0 {name: asdf_standard, version: 1.1.1}\n",
      "    software: !core/software-1.0.0 {name: asdf, version: 3.5.0}\n",
      "data: !core/ndarray-1.0.0\n",
      "  source: 0\n",
      "  datatype: int64\n",
      "  byteorder: little\n",
      "  shape: [42]\n",
      "...\n",
      "�BLK\u00000\u0000\u0000\u0000\u0000\u0000\u0000\u0000\u0000\u0000\u0000\u0000\u0000\u0000\u0000\u0001P\u0000\u0000\u0000\u0000\u0000\u0000\u0001P\u0000\u0000\u0000\u0000\u0000\u0000\u0001P�=\u001c",
      "�;q��fC�kF�\u0005�\u0000\u0000\u0000\u0000\u0000\u0000\u0000\u0000\u0001\u0000\u0000\u0000\u0000\u0000\u0000\u0000\u0002\u0000\u0000\u0000\u0000\u0000\u0000\u0000\u0003\u0000\u0000\u0000\u0000\u0000\u0000\u0000\u0004\u0000\u0000\u0000\u0000\u0000\u0000\u0000\u0005\u0000\u0000\u0000\u0000\u0000\u0000\u0000\u0006\u0000\u0000\u0000\u0000\u0000\u0000\u0000\u0007\u0000\u0000\u0000\u0000\u0000\u0000\u0000\u0000\u0000\u0000\u0000\u0000\u0000\t\u0000\u0000\u0000\u0000\u0000\u0000\u0000\n",
      "\u0000\u0000\u0000\u0000\u0000\u0000\u0000\u000e\u0000\u0000\u0000\u0000\u0000\u0000\u0000\u000f\u0000\u0000\u0000\u0000\u0000\u0000\u0000\u0010\u0000\u0000\u0000\u0000\u0000\u0000\u0000\u0011\u0000\u0000\u0000\u0000\u0000\u0000\u0000\u0012\u0000\u0000\u0000\u0000\u0000\u0000\u0000\u0013\u0000\u0000\u0000\u0000\u0000\u0000\u0000\u0014\u0000\u0000\u0000\u0000\u0000\u0000\u0000\u0015\u0000\u0000\u0000\u0000\u0000\u0000\u0000\u0016\u0000\u0000\u0000\u0000\u0000\u0000\u0000\u0017\u0000\u0000\u0000\u0000\u0000\u0000\u0000\u0018\u0000\u0000\u0000\u0000\u0000\u0000\u0000\u0019\u0000\u0000\u0000\u0000\u0000\u0000\u0000\u001a\u0000\u0000\u0000\u0000\u0000\u0000\u0000\u001b\u0000\u0000\u0000\u0000\u0000\u0000\u0000\u001c",
      "\u0000\u0000\u0000\u0000\u0000\u0000\u0000\u001d",
      "\u0000\u0000\u0000\u0000\u0000\u0000\u0000\u001e",
      "\u0000\u0000\u0000\u0000\u0000\u0000\u0000\u001f\u0000\u0000\u0000\u0000\u0000\u0000\u0000 \u0000\u0000\u0000\u0000\u0000\u0000\u0000!\u0000\u0000\u0000\u0000\u0000\u0000\u0000\"\u0000\u0000\u0000\u0000\u0000\u0000\u0000#\u0000\u0000\u0000\u0000\u0000\u0000\u0000$\u0000\u0000\u0000\u0000\u0000\u0000\u0000%\u0000\u0000\u0000\u0000\u0000\u0000\u0000&\u0000\u0000\u0000\u0000\u0000\u0000\u0000'\u0000\u0000\u0000\u0000\u0000\u0000\u0000(\u0000\u0000\u0000\u0000\u0000\u0000\u0000)\u0000\u0000\u0000\u0000\u0000\u0000\u0000#ASDF BLOCK INDEX\n",
      "%YAML 1.1\n",
      "---\n",
      "- 665\n",
      "...\n"
     ]
    }
   ],
   "source": [
    "af = asdf.AsdfFile()\n",
    "af[\"data\"] = np.arange(42)\n",
    "af.write_to(\"binary_data.asdf\")\n",
    "!cat binary_data.asdf"
   ]
  },
  {
   "cell_type": "markdown",
   "id": "a94f4e70-e199-478e-ad9d-894b7177578c",
   "metadata": {},
   "source": [
    "When we read this file back in we'll get a [NDArrayType](https://asdf.readthedocs.io/en/latest/api/asdf.tags.core.NDArrayType.html#asdf.tags.core.NDArrayType) instance for `data`."
   ]
  },
  {
   "cell_type": "code",
   "execution_count": 10,
   "id": "96a2fd54-2a4d-485e-95a7-9afaf56b8d19",
   "metadata": {},
   "outputs": [
    {
     "data": {
      "text/plain": [
       "asdf.tags.core.ndarray.NDArrayType"
      ]
     },
     "execution_count": 10,
     "metadata": {},
     "output_type": "execute_result"
    }
   ],
   "source": [
    "af = asdf.open(\"binary_data.asdf\")\n",
    "type(af[\"data\"])"
   ]
  },
  {
   "cell_type": "markdown",
   "id": "b4d2414e-5b73-4f1d-9964-6d4a46882b5e",
   "metadata": {},
   "source": [
    "This can mostly be treated the same as a `numpy.ndarray` but provides a few asdf-specific features. By default the array is \"lazy loaded\". This means [NDArrayType](https://asdf.readthedocs.io/en/latest/api/asdf.tags.core.NDArrayType.html#asdf.tags.core.NDArrayType) will only load the binary data from disk when the array contents are accessed (to reduce disk IO and improve performance)."
   ]
  },
  {
   "cell_type": "code",
   "execution_count": 11,
   "id": "eff490ff-c1ff-43ce-91be-8189ad59b4d7",
   "metadata": {},
   "outputs": [
    {
     "name": "stdout",
     "output_type": "stream",
     "text": [
      "<array (unloaded) shape: [42] dtype: int64>\n"
     ]
    }
   ],
   "source": [
    "print(af[\"data\"])"
   ]
  },
  {
   "cell_type": "markdown",
   "id": "f1fc567b-b98b-412d-90f0-6595d932b3a3",
   "metadata": {},
   "source": [
    "# Exercise 4: Saving arrays"
   ]
  },
  {
   "cell_type": "markdown",
   "id": "9e0a3b3e-c6fe-4ae8-a41f-0918ff3dc730",
   "metadata": {},
   "source": [
    "TODO: views and shared blocks"
   ]
  },
  {
   "cell_type": "markdown",
   "id": "6566cb1e-5638-4ca9-8cbb-d3dda33178f6",
   "metadata": {},
   "source": [
    "# Exercise 5: Saving views"
   ]
  },
  {
   "cell_type": "markdown",
   "id": "b28d58dc-7fe7-4090-afc2-a8402db13d85",
   "metadata": {},
   "source": [
    "TODO: array storage options and compression"
   ]
  },
  {
   "cell_type": "markdown",
   "id": "e90ff4c0-ac9e-47a6-9289-a75b74ee5184",
   "metadata": {},
   "source": [
    "# Exercise 6: Array storage options"
   ]
  },
  {
   "cell_type": "markdown",
   "id": "30ccaf61-7b62-4b91-8828-851ff198e43f",
   "metadata": {},
   "source": [
    "## Serializing Other Objects\n",
    "\n",
    "As mentioned above, other types of objects can also be serialized by ASDF including objects outside \n",
    "the ASDF-standard; However, support for these objects requires the creation of an ASDF extension, which\n",
    "we will describe in a later tutorial.\n",
    "\n",
    "For our current purposes recall that these objects are denoted in the `yaml` metadata via a `yaml`\n",
    "tag. Indeed some of the objects already discussed are tagged in the metadata. These tags are used by\n",
    "ASDF to determine which extension to use when reading an ASDF file. This enables the \"seamless\" nature\n",
    "of reading objects from an ASDF file, provided the necessary ASDF extension is installed. Note that\n",
    "when a tagged object is present in an ASDF file, but no extension can be found to handle that tag ASDF\n",
    "will raise a warning and return that \"object\" in its \"raw\" form, meaning you will get the nested dictionary\n",
    "object rather than a fully realized instance of the object you wrote.\n",
    "\n",
    "On the other hand, ASDF extensions specify what Python objects they support. This is how ASDF can\n",
    "seamlessly recognize a complex object and serialize it with no input from the user (other than installing\n",
    "the correct ASDF extensions).\n",
    "\n",
    "For example, as part of the install for this course we installed the `asdf-astropy` package, which provides\n",
    "extensions for writing many `astropy` objects. Indeed `asdf-astropy` enables ASDF support for\n",
    "\n",
    "- `astropy` `unit` and `quantity` objects.\n",
    "- (Most) `astropy` model objects.\n",
    "- `astropy` `Time` objects.\n",
    "- `astropy` coordinate and frame objects.\n",
    "- `astropy` `Table` objects.\n",
    "\n",
    "Thus serializing an `astropy` `Table` object:"
   ]
  },
  {
   "cell_type": "code",
   "execution_count": 12,
   "id": "7ab6465b-ff49-473e-bd63-bcca3118134e",
   "metadata": {},
   "outputs": [],
   "source": [
    "from astropy.table import Table\n",
    "\n",
    "tree = {\"table\": Table(dtype=[(\"a\", \"f4\"), (\"b\", \"i4\"), (\"c\", \"S2\")])}\n",
    "af = asdf.AsdfFile(tree)\n",
    "af.write_to(\"table.asdf\")"
   ]
  },
  {
   "cell_type": "markdown",
   "id": "8f941330-c652-4b74-afb4-691cc9f4717b",
   "metadata": {},
   "source": [
    "Notice how no additional effort was needed to write the ASDF file since `asdf-astropy` was installed \n",
    "already. Now lets perform a cursory inspection of the `table.asdf` file:"
   ]
  },
  {
   "cell_type": "code",
   "execution_count": 13,
   "id": "9a010b8b-f345-49b1-9b5f-2963d0c0c9ca",
   "metadata": {},
   "outputs": [
    {
     "name": "stdout",
     "output_type": "stream",
     "text": [
      "#ASDF 1.0.0\n",
      "#ASDF_STANDARD 1.5.0\n",
      "%YAML 1.1\n",
      "%TAG ! tag:stsci.edu:asdf/\n",
      "--- !core/asdf-1.1.0\n",
      "asdf_library: !core/software-1.0.0 {author: The ASDF Developers, homepage: 'http://github.com/asdf-format/asdf',\n",
      "  name: asdf, version: 3.5.0}\n",
      "history:\n",
      "  extensions:\n",
      "  - !core/extension_metadata-1.0.0\n",
      "    extension_class: asdf.extension._manifest.ManifestExtension\n",
      "    extension_uri: asdf://asdf-format.org/core/extensions/core-1.5.0\n",
      "    manifest_software: !core/software-1.0.0 {name: asdf_standard, version: 1.1.1}\n",
      "    software: !core/software-1.0.0 {name: asdf-astropy, version: 0.6.1}\n",
      "  - !core/extension_metadata-1.0.0\n",
      "    extension_class: asdf.extension._manifest.ManifestExtension\n",
      "    extension_uri: asdf://astropy.org/astropy/extensions/astropy-1.1.0\n",
      "    software: !core/software-1.0.0 {name: asdf-astropy, version: 0.6.1}\n",
      "table: !<tag:astropy.org:astropy/table/table-1.1.0>\n",
      "  colnames: [a, b, c]\n",
      "  columns:\n",
      "  - !core/column-1.0.0\n",
      "    data: !core/ndarray-1.0.0\n",
      "      source: 0\n",
      "      datatype: float32\n",
      "      byteorder: little\n",
      "      shape: [0]\n",
      "    name: a\n",
      "  - !core/column-1.0.0\n",
      "    data: !core/ndarray-1.0.0\n",
      "      source: 1\n",
      "      datatype: int32\n",
      "      byteorder: little\n",
      "      shape: [0]\n",
      "    name: b\n",
      "  - !core/column-1.0.0\n",
      "    data: !core/ndarray-1.0.0\n",
      "      source: 2\n",
      "      datatype: [ascii, 2]\n",
      "      byteorder: big\n",
      "      shape: [0]\n",
      "    name: c\n",
      "  qtable: false\n",
      "...\n",
      "ÓBLK\u00000\u0000\u0000\u0000\u0000\u0000\u0000\u0000\u0000\u0000\u0000\u0000\u0000\u0000\u0000\u0000\u0000\u0000\u0000\u0000\u0000\u0000\u0000\u0000\u0000\u0000\u0000\u0000\u0000\u0000\u0000\u0000\u0000Ô\u001d",
      "Ù\u0000²\u0004é\tìøB~ÓBLK\u00000\u0000\u0000\u0000\u0000\u0000\u0000\u0000\u0000\u0000\u0000\u0000\u0000\u0000\u0000\u0000\u0000\u0000\u0000\u0000\u0000\u0000\u0000\u0000\u0000\u0000\u0000\u0000\u0000\u0000\u0000\u0000\u0000Ô\u001d",
      "Ù\u0000²\u0004é\tìøB~ÓBLK\u00000\u0000\u0000\u0000\u0000\u0000\u0000\u0000\u0000\u0000\u0000\u0000\u0000\u0000\u0000\u0000\u0000\u0000\u0000\u0000\u0000\u0000\u0000\u0000\u0000\u0000\u0000\u0000\u0000\u0000\u0000\u0000\u0000Ô\u001d",
      "Ù\u0000²\u0004é\tìøB~#ASDF BLOCK INDEX\n",
      "%YAML 1.1\n",
      "---\n",
      "- 1362\n",
      "- 1416\n",
      "- 1470\n",
      "...\n",
      "\n"
     ]
    }
   ],
   "source": [
    "with open(\"table.asdf\", \"r\", encoding=\"unicode_escape\") as f:\n",
    "    print(f.read())"
   ]
  },
  {
   "cell_type": "markdown",
   "id": "2b487c97-b3b1-417c-9840-288db9490267",
   "metadata": {},
   "source": [
    "# Exercise 7: Saving `astropy` objects\n",
    "\n",
    "Write an ASDF file containing the following `astropy` objects:\n",
    "1. `Quantity`\n",
    "2. A `model`\n",
    "\n",
    "   Hint: The `astropy.modeling` package provides a framework for representing models and performing model evaluation and fitting. Models are initialized using their parameters\n",
    "   ```\n",
    "   from astropy.modeling import models\n",
    "   gauss = models.Gaussian1D(amplitude=10, mean=3, stddev=1.2)\n",
    "   ```\n",
    "3. A `Time` object\n",
    "\n",
    "    Hint: The `astropy.time` package provides functionality for manipulating times and dates. To initialize it supply a string and a format, or supply a datetime object.\n",
    "    \n",
    "4. A Celestial coordinate object (astronomy specific)."
   ]
  }
 ],
 "metadata": {
  "kernelspec": {
   "display_name": "Python 3 (ipykernel)",
   "language": "python",
   "name": "python3"
  },
  "language_info": {
   "codemirror_mode": {
    "name": "ipython",
    "version": 3
   },
   "file_extension": ".py",
   "mimetype": "text/x-python",
   "name": "python",
   "nbconvert_exporter": "python",
   "pygments_lexer": "ipython3",
   "version": "3.10.6"
  }
 },
 "nbformat": 4,
 "nbformat_minor": 5
}
