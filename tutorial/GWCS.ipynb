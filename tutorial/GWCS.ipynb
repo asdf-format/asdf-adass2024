{
 "cells": [
  {
   "cell_type": "markdown",
   "id": "ad67badd-53d8-4b93-be4d-848a75f6052d",
   "metadata": {},
   "source": [
    "Generalized World Coordinate System (GWCS)\n",
    "==========================================\n",
    "\n",
    "This section highlights one of the most powerful capabilities of ASDF; namely\n",
    "its ability to save arbitrarily complex coordinate transformations with great \n",
    "flexibility. This includes the ability to:\n",
    "\n",
    "- combine transformations using arithmetic operators\n",
    "- combine transformations in series\n",
    "- for an arbitrary number of dimensions\n",
    "- define intermediate coordinates (e.g., the slit plane of a spectrograph)\n",
    "- parameterize transformations using the parameters as extra dimensions\n",
    "  (e.g., spectral order, position across a slit, date, etc.)\n",
    "\n",
    "Contrast this with the FITS WCS system, which works well in imaging and spectra\n",
    "for standard projections and dispersions, but poorly when dealing with raw data\n",
    "cointaining complex distortions, or discontinuous transforms (e.g., IFUs), and \n",
    "particularly for slitless spectroscopy.\n",
    "\n",
    "For HST, to achieve sub 0.01 pixel accuracy, 3 different distortion components \n",
    "had to be modeled, which were impossible to represent within the FITS WCS \n",
    "framework.\n",
    "\n",
    "We are not able to convey the full capabilities in a few minutes of a tutorial.\n",
    "This tutorial will illustrate some basics with an imaging example.\n",
    "\n",
    "We will start with a simple projection and then augment with a distortion model.\n",
    "\n",
    "The simple projection replicates the basic FITS capabilities using a tangent\n",
    "projection followed by the appropriate transformation to celestial coordinates.\n",
    "\n",
    "This involves identifying the point in the detector array that will be the tangent\n",
    "point, applying the appropriate offset and scaling before applying the tangent\n",
    "projection, and then transforming the resulting angular coordinates to celestial\n",
    "coordinates. Schematically:\n",
    "\n",
    "- Offset detector coordinates to make tangent point in detector have 0, 0 coordinates\n",
    "- Scale resulting array coordinates to corresponding angular scale.\n",
    "- Rotate detector coordinates so that north is up\n",
    "- Apply inverse tangent projection.\n",
    "- Transform resulting spherical coordinates to corresponding reference point\n",
    "  in the celestial coordinate system with the appropriate position angle.\n",
    "\n",
    "These operations are performed using astropy modeling package models."
   ]
  },
  {
   "cell_type": "code",
   "execution_count": 5,
   "id": "7e7e4445-c7d4-4b39-93e9-64d887591a96",
   "metadata": {},
   "outputs": [],
   "source": [
    "from astropy.modeling import models\n",
    "from gwcs import wcs\n",
    "from gwcs import coordinate_frames as cf\n",
    "from astropy import coordinates as coord\n",
    "from astropy import units as u"
   ]
  },
  {
   "cell_type": "code",
   "execution_count": 6,
   "id": "b54a630f-6117-45b7-8668-f0ccfe9be0e6",
   "metadata": {},
   "outputs": [],
   "source": [
    "# For simplicity we will assume that the detector y-axis is aligned with north, so no \n",
    "# rotation of detector coordinates is necessary.\n",
    "# First step is to defined individual transformation models.\n",
    "# We assume the detector array is 2000 x 2000 and the tangent point is at (1000, 1000)\n",
    "\n",
    "# The following constructs a 2D model that shifts both input x and y coordinates by 1000\n",
    "shift = models.Shift(-1000) & models.Shift(-1000)\n",
    "# The following constructs a 2D model that scales both input x and y coordinates\n",
    "# such that the center pixel is 0.1 arcsec in size\n",
    "scale = models.Scale(0.1 / 3600.) & models.Scale(0.1 / 3600.)\n",
    "# The following applies an inverse tangent projection\n",
    "tanproj = models.Pix2Sky_TAN()\n",
    "# The following moves the spherical coordinates so that the (0, 0) coordinates are moved\n",
    "# to the supplied RA & Dec coordinates (in degrees), in this case RA = 30, Dec = 45\n",
    "celest_rot = models.RotateNative2Celestial(30., 45., 180.) # last arg is always 180.\n",
    "\n",
    "# The following is the net transformation from pixel coordinates to celestial coordinates\n",
    "transform = shift | scale | tanproj | celest_rot"
   ]
  },
  {
   "cell_type": "code",
   "execution_count": 7,
   "id": "f9880d7a-94bd-4a28-a097-b7d98618f46d",
   "metadata": {},
   "outputs": [],
   "source": [
    "# Now we define the frames of reference for the WCS\n",
    "detector_frame = cf.Frame2D(name='detector', axes_names=('x','y'), unit=(u.pix, u.pix))\n",
    "sky_frame = cf.CelestialFrame(reference_frame=coord.ICRS(), unit=(u.deg, u.deg))\n",
    "wcsobj = wcs.WCS([(detector_frame, transform), (sky_frame, None)])"
   ]
  },
  {
   "cell_type": "code",
   "execution_count": 8,
   "id": "e989db83-de7f-4613-a88c-b23c12538e30",
   "metadata": {},
   "outputs": [
    {
     "data": {
      "text/plain": [
       "(29.999999999999993, 45.00000000000001)"
      ]
     },
     "execution_count": 8,
     "metadata": {},
     "output_type": "execute_result"
    }
   ],
   "source": [
    "wcsobj(1000, 1000)"
   ]
  },
  {
   "cell_type": "code",
   "execution_count": 9,
   "id": "563d0575-583c-4696-bd50-3920cb403df0",
   "metadata": {},
   "outputs": [
    {
     "data": {
      "text/plain": [
       "(29.999999999999993, 45.000027777777774)"
      ]
     },
     "execution_count": 9,
     "metadata": {},
     "output_type": "execute_result"
    }
   ],
   "source": [
    "wcsobj(1000, 1001)"
   ]
  },
  {
   "cell_type": "code",
   "execution_count": 10,
   "id": "c7a10141-c36a-49fe-adde-3c5c8090d3de",
   "metadata": {},
   "outputs": [
    {
     "data": {
      "text/plain": [
       "(0.0002777777777777778,)"
      ]
     },
     "execution_count": 10,
     "metadata": {},
     "output_type": "execute_result"
    }
   ],
   "source": [
    "1/3600,"
   ]
  },
  {
   "cell_type": "code",
   "execution_count": 13,
   "id": "0e082a31-fdfb-4aa4-8d8e-3ef877de600d",
   "metadata": {},
   "outputs": [
    {
     "data": {
      "text/plain": [
       "(29.999999999999996, 49.98736528875502)"
      ]
     },
     "execution_count": 13,
     "metadata": {},
     "output_type": "execute_result"
    }
   ],
   "source": [
    "wcsobj(1000, 1000 + 36000 * 5)"
   ]
  },
  {
   "cell_type": "markdown",
   "id": "fcd10874-e214-4b68-8e3c-4280bc03af84",
   "metadata": {},
   "source": [
    "Spectral Example\n",
    "----------------\n",
    "\n",
    "We will consider building a WCS for a slitless spectrograph. For simplicity's sake,\n",
    "This will be done as a 1D spectrograph, although the same concepts can be generalized\n",
    "to 2D. This is an interesting case since given a pixel in the detector mapping it to\n",
    "a wavelength is not possible unless the position of the source is known. In other \n",
    "words, one must know either position or wavelength, to determine the other. Generally\n",
    "for the slitless the position is determined by other means in order for the wavelenth\n",
    "to be determined.\n",
    "\n",
    "This WCS will be based on a simple spectrograph design, taken from this \n",
    "[site](http://www.astrosurf.com/buil/us/stage/calcul/design_us.htm), since\n",
    "the relevant design parameters make it simple to generate the WCS.\n",
    "\n",
    "The relevant parameters are:\n",
    "\n",
    "telescope focal length: 1000 mm\n",
    "collimator focal length: 96 mm\n",
    "camera focal length: 50 mm\n",
    "grating density: 600 grooves/mm\n",
    "nominal grating incident angle: 28 degrees\n",
    "\n",
    "The optical axis of the collimator is presumed to correspond to 0 relative\n",
    "angular coordinate from the telescope. Given a relative spatial offset in arcseconds\n",
    "the computed incident grating angle becomes:\n",
    "\n",
    "incident_grating_angle = (relative_spatial_angle * telescope_focal_length / collimator_focal_length) + design_incident_grating angle"
   ]
  },
  {
   "cell_type": "code",
   "execution_count": null,
   "id": "c98345ff-cd38-47bd-a873-831309146552",
   "metadata": {},
   "outputs": [],
   "source": []
  }
 ],
 "metadata": {
  "kernelspec": {
   "display_name": "Python 3 (ipykernel)",
   "language": "python",
   "name": "python3"
  },
  "language_info": {
   "codemirror_mode": {
    "name": "ipython",
    "version": 3
   },
   "file_extension": ".py",
   "mimetype": "text/x-python",
   "name": "python",
   "nbconvert_exporter": "python",
   "pygments_lexer": "ipython3",
   "version": "3.11.7"
  }
 },
 "nbformat": 4,
 "nbformat_minor": 5
}
