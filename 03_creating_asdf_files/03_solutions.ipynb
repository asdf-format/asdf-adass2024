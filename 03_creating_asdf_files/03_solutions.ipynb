{
 "cells": [
  {
   "cell_type": "code",
   "execution_count": null,
   "id": "58377213-7923-43f2-99cd-608b4d16ed31",
   "metadata": {},
   "outputs": [],
   "source": [
    "import os\n",
    "\n",
    "import numpy as np\n",
    "\n",
    "import asdf\n",
    "\n",
    "\n",
    "np.random.seed(42)\n",
    "\n",
    "def print_file(fn):\n",
    "    \"\"\"\n",
    "    A helper function to print out an ASDF file\n",
    "    \"\"\"\n",
    "    with open(fn, \"r\", encoding=\"unicode_escape\") as f:\n",
    "        print(f.read())"
   ]
  },
  {
   "cell_type": "markdown",
   "id": "c06a25e0-df57-4777-b06f-df7294c0eb5b",
   "metadata": {},
   "source": [
    "## Exercise 1\n",
    "Create an [AsdfFile](https://asdf.readthedocs.io/en/latest/api/asdf.AsdfFile.html#asdf.AsdfFile) instance and build a tree containing all of the above supported types."
   ]
  },
  {
   "cell_type": "code",
   "execution_count": null,
   "id": "8b0049bf-1187-44e2-a336-56dbb677c92c",
   "metadata": {},
   "outputs": [],
   "source": [
    "af = asdf.AsdfFile()\n",
    "af.tree = {\n",
    "    \"my_dict\": {\"a\": 1, \"b\": 2},\n",
    "    \"my_list\": [1, 2, 3],\n",
    "    \"my_string\": \"abc\",\n",
    "    \"my_int\": 1,\n",
    "    \"my_float\": 1.1,\n",
    "    \"my_none\": None,\n",
    "}\n",
    "af.info()"
   ]
  },
  {
   "cell_type": "markdown",
   "id": "3befdbdc-5311-4702-b0ff-51bbe2dcf00d",
   "metadata": {},
   "source": [
    "## Exercise 2\n",
    "Recreate (if necessary) your custom tree containing all of the supported types and write it to an ASDF file. Open the file in a text editor and view the contents."
   ]
  },
  {
   "cell_type": "code",
   "execution_count": null,
   "id": "304afd60-3276-4453-a7f0-0d506d608aeb",
   "metadata": {},
   "outputs": [],
   "source": [
    "af.write_to(\"my_file.asdf\")\n",
    "print_file(\"my_file.asdf\")"
   ]
  },
  {
   "cell_type": "markdown",
   "id": "abf0dd97-3524-405b-a0b6-e41ed8a67a21",
   "metadata": {},
   "source": [
    "## Exercise 3\n",
    "Open one of the ASDF files created above. What is the type of value stored with the \"asdf_library\" library in the tree?"
   ]
  },
  {
   "cell_type": "code",
   "execution_count": null,
   "id": "f1672fd8-fa50-4707-b90b-7a592afa0b1d",
   "metadata": {},
   "outputs": [],
   "source": [
    "af = asdf.open(\"my_file.asdf\")\n",
    "print(type(af[\"asdf_library\"]))"
   ]
  },
  {
   "cell_type": "markdown",
   "id": "cfa3758f-2d3c-48aa-90fd-8d226f5d5f32",
   "metadata": {},
   "source": [
    "## Exercise 4\n",
    "Generate an ASDF file with:\n",
    "- an array (\"array\")\n",
    "- a second reference to the same array (\"array_reference\")\n",
    "- an additional different array (\"other_array\")\n",
    "\n",
    "Examine the file contents. Open the file and examine \"array\" and \"array_reference\". Do they still refer to the same object? (hint: YAML supports anchors and aliases to have multiple references to the same object)."
   ]
  },
  {
   "cell_type": "code",
   "execution_count": null,
   "id": "e23e1ca9-f0c8-4be0-800a-01519049fc98",
   "metadata": {},
   "outputs": [],
   "source": [
    "af = asdf.AsdfFile()\n",
    "af[\"array\"] = np.arange(42)\n",
    "af[\"array_reference\"] = af[\"array\"]\n",
    "af[\"other_array\"] = np.ones((2, 3, 4), dtype=np.uint8)\n",
    "af.write_to(\"arrays.asdf\")\n",
    "print_file(\"arrays.asdf\")"
   ]
  },
  {
   "cell_type": "code",
   "execution_count": null,
   "id": "3bb4ee99-d3b1-4a6e-8b18-b713b87ca916",
   "metadata": {},
   "outputs": [],
   "source": [
    "af = asdf.open(\"arrays.asdf\")\n",
    "af[\"array\"] is af[\"array_reference\"]"
   ]
  },
  {
   "cell_type": "markdown",
   "id": "e0d785ec-71b2-4224-a9a8-fcd0d5ec33ce",
   "metadata": {},
   "source": [
    "## Exercise 5\n",
    "Save an ASDF file with a large array and a small view of the array. Open this file and change the view contents. This will require disabling memory mapping by passing `memmap=False` to [asdf.open](https://asdf.readthedocs.io/en/latest/api/asdf.open.html#asdf.open). What happens to the large array?"
   ]
  },
  {
   "cell_type": "code",
   "execution_count": null,
   "id": "748fb569-18cd-42f9-bbec-5c8155a14398",
   "metadata": {},
   "outputs": [],
   "source": [
    "af = asdf.AsdfFile()\n",
    "af[\"big\"] = np.zeros((100, 100), dtype=np.uint16)\n",
    "af[\"view\"] = af[\"big\"][:10, :10]\n",
    "af.write_to(\"view.asdf\")\n",
    "print_file(\"view.asdf\")"
   ]
  },
  {
   "cell_type": "code",
   "execution_count": null,
   "id": "f0357f6b-9eca-4857-b9d0-64be8aae1145",
   "metadata": {},
   "outputs": [],
   "source": [
    "af = asdf.open(\"view.asdf\", memmap=False)\n",
    "af[\"view\"][:] = 1\n",
    "print(af[\"big\"][:])"
   ]
  },
  {
   "cell_type": "markdown",
   "id": "44c429a7-7927-4cbc-940a-194764f2b6eb",
   "metadata": {},
   "source": [
    "## Exercise 6\n",
    "Generate an ASDF file with:\n",
    "- one array compressed with \"zlib\"\n",
    "- a second array that is uncompressed\n",
    "\n",
    "What happens if you read and then rewrite the file to a new filename?"
   ]
  },
  {
   "cell_type": "code",
   "execution_count": null,
   "id": "2e7f11dd-874d-4ab7-9aa1-1546cfcf5d34",
   "metadata": {},
   "outputs": [],
   "source": [
    "af = asdf.AsdfFile()\n",
    "af[\"uncompressed\"] = np.arange(42)\n",
    "af[\"compressed\"] = np.zeros(100)\n",
    "af.set_array_compression(af[\"compressed\"], \"zlib\")\n",
    "af.write_to(\"compressed.asdf\")\n",
    "print_file(\"compressed.asdf\")"
   ]
  },
  {
   "cell_type": "code",
   "execution_count": null,
   "id": "8149c038-a2b8-4fb0-83eb-d27d87e0e818",
   "metadata": {},
   "outputs": [],
   "source": [
    "af = asdf.open(\"compressed.asdf\")\n",
    "print(af.get_array_compression(af[\"compressed\"]))\n",
    "af.write_to(\"compressed_copy.asdf\")"
   ]
  },
  {
   "cell_type": "code",
   "execution_count": null,
   "id": "e2715197-82f1-4306-a178-2930dd6cd4d9",
   "metadata": {},
   "outputs": [],
   "source": [
    "af = asdf.open(\"compressed_copy.asdf\")\n",
    "print(af.get_array_compression(af[\"compressed\"]))"
   ]
  },
  {
   "cell_type": "markdown",
   "id": "b96f6539-48ce-4cc6-92d7-dc2cbb9ab339",
   "metadata": {},
   "source": [
    "## Exercise 7\n",
    "Write an ASDF file containing the following `astropy` objects:\n",
    "1. [Quantity](https://docs.astropy.org/en/stable/units/quantity.html)\n",
    "2. A [model](https://docs.astropy.org/en/stable/api/astropy.modeling.Model.html#astropy.modeling.Model)\n",
    "\n",
    "   Hint: The [astropy.modeling](https://docs.astropy.org/en/stable/modeling/index.html) package provides a framework for representing models and performing model evaluation and fitting. Models are initialized using their parameters like in the following example for [Gaussian1D](https://docs.astropy.org/en/stable/api/astropy.modeling.functional_models.Gaussian1D.html#astropy.modeling.functional_models.Gaussian1D):\n",
    "   ```\n",
    "   from astropy.modeling import models\n",
    "   gauss = models.Gaussian1D(amplitude=10, mean=3, stddev=1.2)\n",
    "   ```\n",
    "3. A [Time](https://docs.astropy.org/en/stable/time/index.html) object\n",
    "\n",
    "    Hint: The [astropy.time](https://docs.astropy.org/en/stable/time/ref_api.html#module-astropy.time) package provides functionality for manipulating times and dates. To initialize it supply a string and a [format](https://docs.astropy.org/en/stable/time/index.html#id3), or supply a datetime object.\n",
    "    \n",
    "4. A [ICRS](https://docs.astropy.org/en/stable/api/astropy.coordinates.ICRS.html) coordinate object."
   ]
  },
  {
   "cell_type": "code",
   "execution_count": null,
   "id": "92c80543-bf04-4dc4-becf-3f9be8bc8f34",
   "metadata": {},
   "outputs": [],
   "source": [
    "import astropy.units as u\n",
    "from astropy.modeling import models\n",
    "from astropy import coordinates, modeling, time\n",
    "\n",
    "af = asdf.AsdfFile()\n",
    "af[\"quantity\"] = u.Quantity([1, 2, 3], u.meter)\n",
    "af[\"qaussian\"] = models.Gaussian1D(amplitude=10, mean=3, stddev=1.2)\n",
    "af[\"time\"] = time.Time.now()\n",
    "af[\"coordinate\"] = coordinates.ICRS(ra=0 * u.deg, dec=0 * u.deg)\n",
    "af.write_to(\"astropy_objects.asdf\")\n",
    "print_file(\"astropy_objects.asdf\")"
   ]
  },
  {
   "cell_type": "markdown",
   "id": "c2bfde56-721c-4d6c-9514-9d4c8cf63f66",
   "metadata": {},
   "source": [
    "## Exercise 8\n",
    "\n",
    "What happens if you set \"sequence_id\" to a string and call [validate](https://asdf.readthedocs.io/en/latest/api/asdf.AsdfFile.html#asdf.AsdfFile.validate)?"
   ]
  },
  {
   "cell_type": "code",
   "execution_count": null,
   "id": "f21540d8-19bb-4d41-8e21-f22c75a9c281",
   "metadata": {},
   "outputs": [],
   "source": [
    "schema_contents = \"\"\"%YAML 1.1\n",
    "---\n",
    "id: \"http://example.com/schemas/your-custom-schema\"\n",
    "$schema: \"http://stsci.edu/schemas/yaml-schema/draft-01\"\n",
    "\n",
    "type: object\n",
    "properties:\n",
    "  image:\n",
    "    description: My awesome image\n",
    "\n",
    "  exposure_id:\n",
    "    type: integer\n",
    "    description: Numeric identifier for this image\n",
    "\n",
    "required: [image, exposure_id]\"\"\"\n",
    "\n",
    "# and write this out to a file so we can use it below\n",
    "with open(\"image_schema-1.0.0.yaml\", \"w\") as f:\n",
    "    f.write(schema_contents)\n",
    "\n",
    "af = asdf.AsdfFile(custom_schema=\"image_schema-1.0.0.yaml\")\n",
    "af[\"image\"] = [1, 2, 3]\n",
    "af[\"exposure_id\"] = \"not_a_number\"\n",
    "af.validate()"
   ]
  }
 ],
 "metadata": {
  "kernelspec": {
   "display_name": "Python 3 (ipykernel)",
   "language": "python",
   "name": "python3"
  },
  "language_info": {
   "codemirror_mode": {
    "name": "ipython",
    "version": 3
   },
   "file_extension": ".py",
   "mimetype": "text/x-python",
   "name": "python",
   "nbconvert_exporter": "python",
   "pygments_lexer": "ipython3",
   "version": "3.10.6"
  }
 },
 "nbformat": 4,
 "nbformat_minor": 5
}
